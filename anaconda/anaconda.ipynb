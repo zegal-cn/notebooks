{
 "cells": [
  {
   "cell_type": "markdown",
   "metadata": {},
   "source": [
    "# Anaconda\n",
    "\n",
    "\n",
    "\n",
    "```bash\n",
    "conda config --add channels https://mirrors.tuna.tsinghua.edu.cn/anaconda/pkgs/free/\n",
    "conda config --set show_channel_urls yes\n",
    "```\n",
    "\n",
    "不过还有简单粗暴地方法：直接修改conda的配置，一般在当前用户路径下，比如C:\\Users\\Administrator\\.condarc\n",
    ".condarc具体内容如下：\n",
    "\n",
    "```\n",
    "show_channel_urls: true\n",
    "channels:\n",
    "  - https://mirrors.tuna.tsinghua.edu.cn/anaconda/pkgs/free/\n",
    "  - defaults\n",
    "```"
   ]
  },
  {
   "cell_type": "code",
   "execution_count": null,
   "metadata": {
    "collapsed": true
   },
   "outputs": [],
   "source": []
  }
 ],
 "metadata": {
  "kernelspec": {
   "display_name": "Python 3",
   "language": "python",
   "name": "python3"
  },
  "language_info": {
   "codemirror_mode": {
    "name": "ipython",
    "version": 3
   },
   "file_extension": ".py",
   "mimetype": "text/x-python",
   "name": "python",
   "nbconvert_exporter": "python",
   "pygments_lexer": "ipython3",
   "version": "3.6.1"
  }
 },
 "nbformat": 4,
 "nbformat_minor": 2
}
