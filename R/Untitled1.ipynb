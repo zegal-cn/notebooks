{
 "cells": [
  {
   "cell_type": "markdown",
   "metadata": {},
   "source": [
    "# 数据类型\n",
    "\n",
    "当编写任何编程语言程序，需要使用不同的变量来存储各种信息。变量不过是用于保留存储器位置的存储值。这意味着，当创建一个变量，它会保留在内存中的一些空间。\n",
    "\n",
    "你可能喜欢存储诸如字符以外的数据类型，如：宽字符，整型，浮点型，双浮点型，布尔等信息。基于变量的数据类型，操作系统分配内存，并决定什么可以存储在存储器。\n",
    "\n",
    "在其他编程语言中，如C和Java R中的变量没有声明为某些数据类型。变量分配R-对象和R对象的数据类型变为变量的数据类型。有许多类型的R-对象。常用的有：\n",
    "\n",
    "* 矢量\n",
    "* 列表\n",
    "* 矩阵\n",
    "* 数组\n",
    "* 因子\n",
    "* 数据帧\n",
    "\n",
    "这些对象的是最简单的矢量对象并且这些原子矢量有六种数据类型，也被称为六类向量。另外R-对象是建立在原子向量。\n",
    "\n",
    "数据类型  |\t示例\t       \n",
    "----------|-------------------\n",
    "逻辑\t   | TRUE , FALSE   \n",
    "数字\t   | 12.3, 5, 999   \n",
    "整数\t   | 2L, 34L, 0L    \n",
    "复数\t   | 3 + 2i       \n",
    "字符\t   | 'a' , '\"good\", \"TRUE\", '23.4' \n",
    "原始\t   | \"Hello\" 将被存储为 48 65 6c 6c 6f\n",
    "\n",
    "因此，在R语言中的非常基本的数据类型是R-对象，如上图所示占据着不同类别的元素向量。请注意R语言中类的数量并不只限于上述的六种类型。 例如，我们可以使用许多原子向量以及创建一个数组，它的类将成为数组。"
   ]
  },
  {
   "cell_type": "markdown",
   "metadata": {},
   "source": [
    "### typeof\n",
    "\n",
    "`typeof` 确定任何对象的（R内部）类型或存储模式\n",
    "\n",
    "返回一个字符串。 可能的值在“src / main / util.c”中的TypeTable结构中列出。\n",
    "\n",
    "当前值是 \"logical\", \"integer\", \"double\", \"complex\", \"character\", \"raw\" and \"list\", \"NULL\", \"closure\" (function), \"special\" 和 \"builtin\" (基本功能和操作符), \"environment\", \"S4\" (S4 对象) and others that are unlikely to be seen at user level (\"symbol\", \"pairlist\", \"promise\", \"language\", \"char\", \"...\", \"any\", \"expression\", \"externalptr\", \"bytecode\" and \"weakref\")."
   ]
  },
  {
   "cell_type": "code",
   "execution_count": 20,
   "metadata": {},
   "outputs": [
    {
     "data": {
      "text/html": [
       "'double'"
      ],
      "text/latex": [
       "'double'"
      ],
      "text/markdown": [
       "'double'"
      ],
      "text/plain": [
       "[1] \"double\""
      ]
     },
     "metadata": {},
     "output_type": "display_data"
    },
    {
     "data": {
      "text/html": [
       "'integer'"
      ],
      "text/latex": [
       "'integer'"
      ],
      "text/markdown": [
       "'integer'"
      ],
      "text/plain": [
       "[1] \"integer\""
      ]
     },
     "metadata": {},
     "output_type": "display_data"
    }
   ],
   "source": [
    "typeof(23.5)\n",
    "typeof(c(1:4))"
   ]
  },
  {
   "cell_type": "markdown",
   "metadata": {},
   "source": [
    "### class"
   ]
  },
  {
   "cell_type": "code",
   "execution_count": 23,
   "metadata": {},
   "outputs": [
    {
     "data": {
      "text/html": [
       "'logical'"
      ],
      "text/latex": [
       "'logical'"
      ],
      "text/markdown": [
       "'logical'"
      ],
      "text/plain": [
       "[1] \"logical\""
      ]
     },
     "metadata": {},
     "output_type": "display_data"
    },
    {
     "data": {
      "text/html": [
       "'numeric'"
      ],
      "text/latex": [
       "'numeric'"
      ],
      "text/markdown": [
       "'numeric'"
      ],
      "text/plain": [
       "[1] \"numeric\""
      ]
     },
     "metadata": {},
     "output_type": "display_data"
    },
    {
     "data": {
      "text/html": [
       "'integer'"
      ],
      "text/latex": [
       "'integer'"
      ],
      "text/markdown": [
       "'integer'"
      ],
      "text/plain": [
       "[1] \"integer\""
      ]
     },
     "metadata": {},
     "output_type": "display_data"
    },
    {
     "data": {
      "text/html": [
       "'complex'"
      ],
      "text/latex": [
       "'complex'"
      ],
      "text/markdown": [
       "'complex'"
      ],
      "text/plain": [
       "[1] \"complex\""
      ]
     },
     "metadata": {},
     "output_type": "display_data"
    },
    {
     "data": {
      "text/html": [
       "'character'"
      ],
      "text/latex": [
       "'character'"
      ],
      "text/markdown": [
       "'character'"
      ],
      "text/plain": [
       "[1] \"character\""
      ]
     },
     "metadata": {},
     "output_type": "display_data"
    },
    {
     "data": {
      "text/html": [
       "'raw'"
      ],
      "text/latex": [
       "'raw'"
      ],
      "text/markdown": [
       "'raw'"
      ],
      "text/plain": [
       "[1] \"raw\""
      ]
     },
     "metadata": {},
     "output_type": "display_data"
    }
   ],
   "source": [
    "class(TRUE)\n",
    "class(23.5)\n",
    "class(5L)\n",
    "class(3+2i)\n",
    "class(\"test\")\n",
    "class(charToRaw('Hello'))\n",
    "?class()"
   ]
  },
  {
   "cell_type": "code",
   "execution_count": 8,
   "metadata": {
    "scrolled": true
   },
   "outputs": [
    {
     "data": {
      "text/html": [
       "'logical'"
      ],
      "text/latex": [
       "'logical'"
      ],
      "text/markdown": [
       "'logical'"
      ],
      "text/plain": [
       "[1] \"logical\""
      ]
     },
     "metadata": {},
     "output_type": "display_data"
    },
    {
     "data": {
      "text/html": [
       "'numeric'"
      ],
      "text/latex": [
       "'numeric'"
      ],
      "text/markdown": [
       "'numeric'"
      ],
      "text/plain": [
       "[1] \"numeric\""
      ]
     },
     "metadata": {},
     "output_type": "display_data"
    },
    {
     "data": {
      "text/html": [
       "'integer'"
      ],
      "text/latex": [
       "'integer'"
      ],
      "text/markdown": [
       "'integer'"
      ],
      "text/plain": [
       "[1] \"integer\""
      ]
     },
     "metadata": {},
     "output_type": "display_data"
    },
    {
     "data": {
      "text/html": [
       "'complex'"
      ],
      "text/latex": [
       "'complex'"
      ],
      "text/markdown": [
       "'complex'"
      ],
      "text/plain": [
       "[1] \"complex\""
      ]
     },
     "metadata": {},
     "output_type": "display_data"
    },
    {
     "data": {
      "text/html": [
       "'character'"
      ],
      "text/latex": [
       "'character'"
      ],
      "text/markdown": [
       "'character'"
      ],
      "text/plain": [
       "[1] \"character\""
      ]
     },
     "metadata": {},
     "output_type": "display_data"
    }
   ],
   "source": [
    "class(c(TRUE, FALSE))\n",
    "class(c(23.5, 41.2))\n",
    "class(c(5L, 3L, 7L))\n",
    "class(c(3+2i, 7))\n",
    "class(c(23, \"test\"))"
   ]
  },
  {
   "cell_type": "markdown",
   "metadata": {},
   "source": [
    "## mode\n",
    "\n",
    "`mode()` 和 `storage.mode()` 获取对象的存储模式\n",
    "\n",
    "\"logical\", \"integer\", \"double\", \"complex\", \"raw\", \"character\", \"list\", \"expression\", \"name\", \"symbol\" 和 \"function\"\n",
    "\n",
    "模式具有与 `type` 相同的一组名称（请参阅 `typeof`），除此以下：\n",
    "\n",
    "* 类型 \"integer\" 和 \"double\" 返回 \"numeric\".\n",
    "* 类型 \"special\" 和 \"builtin\" 返回 \"function\".\n",
    "* 类型 \"symbol\" 被叫做模式 \"name\".\n",
    "* 类型 \"language\" 返回 \"(\" 或 \"call\"."
   ]
  },
  {
   "cell_type": "code",
   "execution_count": 14,
   "metadata": {},
   "outputs": [
    {
     "data": {
      "text/html": [
       "'logical'"
      ],
      "text/latex": [
       "'logical'"
      ],
      "text/markdown": [
       "'logical'"
      ],
      "text/plain": [
       "[1] \"logical\""
      ]
     },
     "metadata": {},
     "output_type": "display_data"
    },
    {
     "data": {
      "text/html": [
       "'numeric'"
      ],
      "text/latex": [
       "'numeric'"
      ],
      "text/markdown": [
       "'numeric'"
      ],
      "text/plain": [
       "[1] \"numeric\""
      ]
     },
     "metadata": {},
     "output_type": "display_data"
    },
    {
     "data": {
      "text/html": [
       "'numeric'"
      ],
      "text/latex": [
       "'numeric'"
      ],
      "text/markdown": [
       "'numeric'"
      ],
      "text/plain": [
       "[1] \"numeric\""
      ]
     },
     "metadata": {},
     "output_type": "display_data"
    },
    {
     "data": {
      "text/html": [
       "'complex'"
      ],
      "text/latex": [
       "'complex'"
      ],
      "text/markdown": [
       "'complex'"
      ],
      "text/plain": [
       "[1] \"complex\""
      ]
     },
     "metadata": {},
     "output_type": "display_data"
    },
    {
     "data": {
      "text/html": [
       "'character'"
      ],
      "text/latex": [
       "'character'"
      ],
      "text/markdown": [
       "'character'"
      ],
      "text/plain": [
       "[1] \"character\""
      ]
     },
     "metadata": {},
     "output_type": "display_data"
    },
    {
     "data": {
      "text/html": [
       "'logical'"
      ],
      "text/latex": [
       "'logical'"
      ],
      "text/markdown": [
       "'logical'"
      ],
      "text/plain": [
       "[1] \"logical\""
      ]
     },
     "metadata": {},
     "output_type": "display_data"
    },
    {
     "data": {
      "text/html": [
       "'double'"
      ],
      "text/latex": [
       "'double'"
      ],
      "text/markdown": [
       "'double'"
      ],
      "text/plain": [
       "[1] \"double\""
      ]
     },
     "metadata": {},
     "output_type": "display_data"
    },
    {
     "data": {
      "text/html": [
       "'complex'"
      ],
      "text/latex": [
       "'complex'"
      ],
      "text/markdown": [
       "'complex'"
      ],
      "text/plain": [
       "[1] \"complex\""
      ]
     },
     "metadata": {},
     "output_type": "display_data"
    },
    {
     "data": {
      "text/html": [
       "'character'"
      ],
      "text/latex": [
       "'character'"
      ],
      "text/markdown": [
       "'character'"
      ],
      "text/plain": [
       "[1] \"character\""
      ]
     },
     "metadata": {},
     "output_type": "display_data"
    }
   ],
   "source": [
    "mode(c(TRUE, FALSE))\n",
    "mode(c(23.5, 41.2))\n",
    "mode(c(5L, 3L, 7L))\n",
    "mode(c(3+2i, 7))\n",
    "mode(c(23, \"test\"))\n",
    "\n",
    "storage.mode(c(TRUE, FALSE))\n",
    "storage.mode(c(23.5, 41.2))\n",
    "storage.mode(c(3+2i, 7))\n",
    "storage.mode(c(23, \"test\"))"
   ]
  },
  {
   "cell_type": "markdown",
   "metadata": {},
   "source": [
    "newmode\n",
    "\n",
    "`mode(x) <- \"newmode\"` changes the mode of object x to newmode"
   ]
  },
  {
   "cell_type": "code",
   "execution_count": 19,
   "metadata": {},
   "outputs": [
    {
     "data": {
      "text/html": [
       "<ol class=list-inline>\n",
       "\t<li>'1'</li>\n",
       "\t<li>'2'</li>\n",
       "\t<li>'3'</li>\n",
       "\t<li>'4'</li>\n",
       "\t<li>'5'</li>\n",
       "\t<li>'6'</li>\n",
       "</ol>\n"
      ],
      "text/latex": [
       "\\begin{enumerate*}\n",
       "\\item '1'\n",
       "\\item '2'\n",
       "\\item '3'\n",
       "\\item '4'\n",
       "\\item '5'\n",
       "\\item '6'\n",
       "\\end{enumerate*}\n"
      ],
      "text/markdown": [
       "1. '1'\n",
       "2. '2'\n",
       "3. '3'\n",
       "4. '4'\n",
       "5. '5'\n",
       "6. '6'\n",
       "\n",
       "\n"
      ],
      "text/plain": [
       "[1] \"1\" \"2\" \"3\" \"4\" \"5\" \"6\""
      ]
     },
     "metadata": {},
     "output_type": "display_data"
    }
   ],
   "source": [
    "a <- c(1:6)\n",
    "mode(a) <- \"character\"\n",
    "a"
   ]
  },
  {
   "cell_type": "code",
   "execution_count": 25,
   "metadata": {
    "collapsed": true
   },
   "outputs": [],
   "source": [
    "?attributes"
   ]
  },
  {
   "cell_type": "code",
   "execution_count": 27,
   "metadata": {},
   "outputs": [
    {
     "data": {
      "text/html": [
       "<table>\n",
       "<thead><tr><th scope=col>a</th><th scope=col>pi</th></tr></thead>\n",
       "<tbody>\n",
       "\t<tr><td>1       </td><td>3.141593</td></tr>\n",
       "\t<tr><td>2       </td><td>3.141593</td></tr>\n",
       "\t<tr><td>3       </td><td>3.141593</td></tr>\n",
       "</tbody>\n",
       "</table>\n"
      ],
      "text/latex": [
       "\\begin{tabular}{ll}\n",
       " a & pi\\\\\n",
       "\\hline\n",
       "\t 1        & 3.141593\\\\\n",
       "\t 2        & 3.141593\\\\\n",
       "\t 3        & 3.141593\\\\\n",
       "\\end{tabular}\n"
      ],
      "text/markdown": [
       "\n",
       "a | pi | \n",
       "|---|---|---|\n",
       "| 1        | 3.141593 | \n",
       "| 2        | 3.141593 | \n",
       "| 3        | 3.141593 | \n",
       "\n",
       "\n"
      ],
      "text/plain": [
       "     a pi      \n",
       "[1,] 1 3.141593\n",
       "[2,] 2 3.141593\n",
       "[3,] 3 3.141593"
      ]
     },
     "metadata": {},
     "output_type": "display_data"
    },
    {
     "data": {
      "text/html": [
       "<dl>\n",
       "\t<dt>$dim</dt>\n",
       "\t\t<dd><ol class=list-inline>\n",
       "\t<li>3</li>\n",
       "\t<li>2</li>\n",
       "</ol>\n",
       "</dd>\n",
       "\t<dt>$dimnames</dt>\n",
       "\t\t<dd><ol>\n",
       "\t<li>NULL</li>\n",
       "\t<li><ol class=list-inline>\n",
       "\t<li>'a'</li>\n",
       "\t<li>'pi'</li>\n",
       "</ol>\n",
       "</li>\n",
       "</ol>\n",
       "</dd>\n",
       "</dl>\n"
      ],
      "text/latex": [
       "\\begin{description}\n",
       "\\item[\\$dim] \\begin{enumerate*}\n",
       "\\item 3\n",
       "\\item 2\n",
       "\\end{enumerate*}\n",
       "\n",
       "\\item[\\$dimnames] \\begin{enumerate}\n",
       "\\item NULL\n",
       "\\item \\begin{enumerate*}\n",
       "\\item 'a'\n",
       "\\item 'pi'\n",
       "\\end{enumerate*}\n",
       "\n",
       "\\end{enumerate}\n",
       "\n",
       "\\end{description}\n"
      ],
      "text/markdown": [
       "$dim\n",
       ":   1. 3\n",
       "2. 2\n",
       "\n",
       "\n",
       "\n",
       "$dimnames\n",
       ":   1. NULL\n",
       "2. 1. 'a'\n",
       "2. 'pi'\n",
       "\n",
       "\n",
       "\n",
       "\n",
       "\n",
       "\n",
       "\n",
       "\n"
      ],
      "text/plain": [
       "$dim\n",
       "[1] 3 2\n",
       "\n",
       "$dimnames\n",
       "$dimnames[[1]]\n",
       "NULL\n",
       "\n",
       "$dimnames[[2]]\n",
       "[1] \"a\"  \"pi\"\n",
       "\n"
      ]
     },
     "metadata": {},
     "output_type": "display_data"
    }
   ],
   "source": [
    "x <- cbind(a = 1:3, pi = pi) # simple matrix with dimnames\n",
    "x\n",
    "attributes(x)"
   ]
  },
  {
   "cell_type": "markdown",
   "metadata": {},
   "source": [
    "## 特殊值\n",
    "\n",
    "为确保所有数据都能被正确识别、计算或统计等，R定义了一些特殊值数据：\n",
    "\n",
    "类型  | 描述\n",
    ":-----|:----------\n",
    "NULL  | 空数据 \n",
    "NA   | 表示无数据 \n",
    "NaN   | 表示非数字 \n",
    "inf   | 数字除以0得到的值 \n",
    "\n",
    "判断一个object （x）是不是属于这些类型有相应的函数： "
   ]
  },
  {
   "cell_type": "code",
   "execution_count": null,
   "metadata": {
    "collapsed": true
   },
   "outputs": [],
   "source": [
    "is.null(x) \n",
    "is.na(x) \n",
    "is.nan(x) \n",
    "is.infinite(x)"
   ]
  }
 ],
 "metadata": {
  "kernelspec": {
   "display_name": "R",
   "language": "R",
   "name": "ir"
  },
  "language_info": {
   "codemirror_mode": "r",
   "file_extension": ".r",
   "mimetype": "text/x-r-source",
   "name": "R",
   "pygments_lexer": "r",
   "version": "3.4.0"
  }
 },
 "nbformat": 4,
 "nbformat_minor": 2
}
