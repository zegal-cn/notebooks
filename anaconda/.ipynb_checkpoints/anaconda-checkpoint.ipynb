{
 "cells": [
  {
   "cell_type": "markdown",
   "metadata": {},
   "source": [
    "# Anaconda\n",
    "\n",
    "\n",
    "\n",
    "\n",
    "\n",
    "\n",
    "### 淘宝镜像\n",
    "\n",
    "```bash\n",
    "conda config --add channels https://mirrors.tuna.tsinghua.edu.cn/anaconda/pkgs/free/\n",
    "conda config --set show_channel_urls yes\n",
    "```\n",
    "\n",
    "不过还有简单粗暴地方法：直接修改conda的配置，一般在当前用户路径下，比如C:\\Users\\Administrator\\.condarc\n",
    ".condarc具体内容如下：\n",
    "\n",
    "```\n",
    "show_channel_urls: true\n",
    "channels:\n",
    "  - https://mirrors.tuna.tsinghua.edu.cn/anaconda/pkgs/free/\n",
    "  - defaults\n",
    "```\n",
    "\n",
    "### unknown encoding: cp65001\n",
    "\n",
    "设置环境变量\n",
    "\n",
    "```bash\n",
    "set PYTHONIOENCODING=UTF-8\n",
    "```"
   ]
  },
  {
   "cell_type": "code",
   "execution_count": null,
   "metadata": {
    "collapsed": true
   },
   "outputs": [],
   "source": []
  },
  {
   "cell_type": "code",
   "execution_count": null,
   "metadata": {
    "collapsed": true
   },
   "outputs": [],
   "source": []
  }
 ],
 "metadata": {
  "kernelspec": {
   "display_name": "Python 2",
   "language": "python",
   "name": "python2"
  },
  "language_info": {
   "codemirror_mode": {
    "name": "ipython",
    "version": 2
   },
   "file_extension": ".py",
   "mimetype": "text/x-python",
   "name": "python",
   "nbconvert_exporter": "python",
   "pygments_lexer": "ipython2",
   "version": "2.7.13"
  }
 },
 "nbformat": 4,
 "nbformat_minor": 2
}
