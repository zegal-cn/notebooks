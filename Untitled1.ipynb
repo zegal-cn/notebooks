{
 "cells": [
  {
   "cell_type": "markdown",
   "metadata": {},
   "source": [
    "1. 时段限制\n",
    "\n",
    "某些班级的某些科目/某些教师 上午/下午/某课时 固定/最多/最少/不排 n次\n",
    "\n",
    "$$\n",
    "\\sum_{i \\in T} x_{ij} = n  \\qquad {j\\,\\forall\\,F}\n",
    "$$\n",
    "\n",
    "固定、最多、最少、不排$n$次条件分别对应 $=n$, $\\le n$, $\\ge n$, $=0$\n",
    "\n",
    "2. 天限制\n",
    "\n",
    "某些班级的某些科目/某些教师 每天/某些天的某些课时 固定/最多/最少/不排 n次\n",
    "\n",
    "3. 教师互斥\n",
    "\n",
    "教师1 和 教师2 不排在同一课时\n",
    "\n",
    "4. 科目互斥\n",
    "\n",
    "科目1 和 科目2 不排在同一天\n",
    "\n",
    "5. 禁止相邻\n",
    "\n",
    "科目1 不排在 科目2 前面\n",
    "\n",
    "---\n",
    "---\n",
    "---\n",
    "---"
   ]
  },
  {
   "cell_type": "code",
   "execution_count": null,
   "metadata": {
    "collapsed": true
   },
   "outputs": [],
   "source": []
  },
  {
   "cell_type": "code",
   "execution_count": null,
   "metadata": {
    "collapsed": true
   },
   "outputs": [],
   "source": []
  },
  {
   "cell_type": "code",
   "execution_count": null,
   "metadata": {
    "collapsed": true
   },
   "outputs": [],
   "source": []
  }
 ],
 "metadata": {
  "kernelspec": {
   "display_name": "R",
   "language": "R",
   "name": "ir"
  },
  "language_info": {
   "codemirror_mode": "r",
   "file_extension": ".r",
   "mimetype": "text/x-r-source",
   "name": "R",
   "pygments_lexer": "r",
   "version": "3.3.2"
  }
 },
 "nbformat": 4,
 "nbformat_minor": 2
}
