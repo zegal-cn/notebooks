{
 "cells": [
  {
   "cell_type": "markdown",
   "metadata": {},
   "source": [
    "# Rsymphony\n",
    "\n",
    "Rsymphony 是一个开源的用C实现的混合整数线性规划(mixed-integer linear programs, MILPs)解决器。\n",
    "\n",
    "## Install"
   ]
  },
  {
   "cell_type": "code",
   "execution_count": 2,
   "metadata": {
    "collapsed": false
   },
   "outputs": [
    {
     "ename": "ERROR",
     "evalue": "Error in contrib.url(repos, \"source\"): trying to use CRAN without setting a mirror\n",
     "output_type": "error",
     "traceback": [
      "Error in contrib.url(repos, \"source\"): trying to use CRAN without setting a mirror\nTraceback:\n",
      "1. install.packages(\"Rsymphony\")",
      "2. contrib.url(repos, \"source\")",
      "3. stop(\"trying to use CRAN without setting a mirror\")"
     ]
    }
   ],
   "source": [
    "install.packages(\"Rsymphony\")"
   ]
  },
  {
   "cell_type": "markdown",
   "metadata": {},
   "source": [
    "## Usage\n",
    "\n",
    "```\n",
    "Rsymphony_solve_LP(obj, mat, dir, rhs, bounds = NULL, \n",
    "                   types = NULL, max = FALSE, verbosity = -2, \n",
    "                   time_limit = -1, node_limit = -1, gap_limit = -1, \n",
    "                   first_feasible = FALSE,\n",
    "                   write_lp = FALSE, write_mps = FALSE)\n",
    "```\n",
    "\n",
    "### Arguments\n",
    "\n",
    "arg         | desc\n",
    "------------|--------------------------------------------------------------------------------\n",
    "obj         | a vector with the objective coefficients\n",
    "mat         | a vector or a matrix of the constraint coefficients\n",
    "dir         | a character vector with the directions of the constraints. Each element must be one of \"<\", \"<=\", \">\", \">=\", \"==\" or \"!=\".\n",
    "rhs         | the right hand side of the constraints\n",
    "bounds      | NULL (default) or a list with elements `upper` and `lower` containing the indices and corresponding bounds of the objective variables. The default for each variable is a bound between 0 and Inf.\n",
    "types       | a character vector giving the types of the objective variables, with \"C\", \"I\", and \"B\" corresponding to continuous, integer, and binary, respectively, or NULL (default), taken as all-continuous. Recycled as needed.\n",
    "max         | a logical giving the direction of the optimization. TRUE means that the objective is to maximize the objective function, FALSE (default) means to minimize it.\n",
    "verbosity   | an integer defining the level of verbosity, -2 (default) means no output.\n",
    "time_limit  | an integer defining the time limit in seconds, -1 (default) means no time limit\n",
    "node_limit  | an integer defining the limit in number of iterations, -1 (default) means no node limit\n",
    "gap_limit   | when the gap between the lower and the upper bound reaches this point, the solution process will stop and the best solution found to that point will be returned, -1 (default) means no gap limit.\n",
    "first_feasible | a logical defining if the solution process should stop after the first feasible solution has been found, FALSE (default) means that the solution process does not stop after the first feasible solution has been found.\n",
    "write_lp    | a logical value indicating if an LP representation of the problem should be written for debugging purposes, FALSE (default) means no LP file is written.\n",
    "write_mps   | a logical value indicating if an MPS representation of the problem should be written for debugging purposes, FALSE (default) means no MPS file is written.\n",
    "\n",
    "### Value\n",
    "\n",
    "value     | desc\n",
    "----------|------------------------------------------------------------------------------\n",
    "solution  | the vector of optimal coefficients\n",
    "objval    | the value of the objective function at the optimum\n",
    "status    |an integer with status information about the solution returned: 0 if the optimal solution was found, a non-zero value otherwise.\n",
    "\n",
    "## Example\n",
    "\n",
    "### example 1\n",
    "\n",
    "$$\n",
    "max( z=3 x_1 + 1 x_2 + 3 x_3)\\\\\n",
    "\\left\\{ \n",
    "\\begin{aligned}\n",
    "  3 x_1 + 4 x_2 + 2 x_3 &<= 60\\\\\n",
    "  2 x_1 +   x_2 +   x_3 &<= 40\\\\\n",
    "  x_1 + 3 x_2 + 2 x_3 &<= 80\\\\\n",
    "  x_1, x_2, x_3 为非负实数\n",
    "\\end{aligned}\n",
    "\\right.\n",
    "$$"
   ]
  },
  {
   "cell_type": "code",
   "execution_count": 3,
   "metadata": {
    "collapsed": false
   },
   "outputs": [
    {
     "data": {
      "text/html": [
       "<table>\n",
       "<tbody>\n",
       "\t<tr><td>3</td><td>4</td><td>2</td></tr>\n",
       "\t<tr><td>2</td><td>1</td><td>1</td></tr>\n",
       "\t<tr><td>1</td><td>3</td><td>2</td></tr>\n",
       "</tbody>\n",
       "</table>\n"
      ],
      "text/latex": [
       "\\begin{tabular}{lll}\n",
       "\t 3 & 4 & 2\\\\\n",
       "\t 2 & 1 & 1\\\\\n",
       "\t 1 & 3 & 2\\\\\n",
       "\\end{tabular}\n"
      ],
      "text/markdown": [
       "\n",
       "| 3 | 4 | 2 | \n",
       "| 2 | 1 | 1 | \n",
       "| 1 | 3 | 2 | \n",
       "\n",
       "\n"
      ],
      "text/plain": [
       "     [,1] [,2] [,3]\n",
       "[1,] 3    4    2   \n",
       "[2,] 2    1    1   \n",
       "[3,] 1    3    2   "
      ]
     },
     "metadata": {},
     "output_type": "display_data"
    },
    {
     "data": {
      "text/html": [
       "<dl>\n",
       "\t<dt>$solution</dt>\n",
       "\t\t<dd><ol class=list-inline>\n",
       "\t<li>0</li>\n",
       "\t<li>0</li>\n",
       "\t<li>30</li>\n",
       "</ol>\n",
       "</dd>\n",
       "\t<dt>$objval</dt>\n",
       "\t\t<dd>90</dd>\n",
       "\t<dt>$status</dt>\n",
       "\t\t<dd><strong>TM_OPTIMAL_SOLUTION_FOUND:</strong> 0</dd>\n",
       "</dl>\n"
      ],
      "text/latex": [
       "\\begin{description}\n",
       "\\item[\\$solution] \\begin{enumerate*}\n",
       "\\item 0\n",
       "\\item 0\n",
       "\\item 30\n",
       "\\end{enumerate*}\n",
       "\n",
       "\\item[\\$objval] 90\n",
       "\\item[\\$status] \\textbf{TM\\textbackslash{}\\_OPTIMAL\\textbackslash{}\\_SOLUTION\\textbackslash{}\\_FOUND:} 0\n",
       "\\end{description}\n"
      ],
      "text/markdown": [
       "$solution\n",
       ":   1. 0\n",
       "2. 0\n",
       "3. 30\n",
       "\n",
       "\n",
       "\n",
       "$objval\n",
       ":   90\n",
       "$status\n",
       ":   **TM_OPTIMAL_SOLUTION_FOUND:** 0\n",
       "\n",
       "\n"
      ],
      "text/plain": [
       "$solution\n",
       "[1]  0  0 30\n",
       "\n",
       "$objval\n",
       "[1] 90\n",
       "\n",
       "$status\n",
       "TM_OPTIMAL_SOLUTION_FOUND \n",
       "                        0 \n"
      ]
     },
     "metadata": {},
     "output_type": "display_data"
    }
   ],
   "source": [
    "library(Rsymphony)\n",
    "\n",
    "obj <- c(2, 4, 3)\n",
    "mat <- matrix(c(3, 2, 1, 4, 1, 3, 2, 1, 2), nrow = 3)\n",
    "mat\n",
    "\n",
    "dir <- c(\"<=\", \"<=\", \"<=\")\n",
    "rhs <- c(60, 40, 80)\n",
    "max <- T\n",
    "\n",
    "Rsymphony_solve_LP(obj, mat, dir, rhs, max = max)"
   ]
  },
  {
   "cell_type": "markdown",
   "metadata": {},
   "source": [
    "### example 2\n",
    "\n",
    "$$\n",
    "max(3 x_1 + 1 x_2 + 3 x_3)\\\\\n",
    "\\left\\{ \n",
    "\\begin{aligned}\n",
    "-1 x_1 + 2 x_2 +   x_3 &<= 4\\\\\n",
    "      4 x_2 - 3 x_3 &<= 2\\\\\n",
    "   x_1 - 3 x_2 + 2 x_3 &<= 3\\\\\n",
    "x_1, x_3 为非负整数\\\\\n",
    "x_2 为非负实数\n",
    "\\end{aligned}\n",
    "\\right.\n",
    "$$"
   ]
  },
  {
   "cell_type": "code",
   "execution_count": 5,
   "metadata": {
    "collapsed": false
   },
   "outputs": [
    {
     "data": {
      "text/html": [
       "<table>\n",
       "<tbody>\n",
       "\t<tr><td>-1</td><td> 2</td><td> 1</td></tr>\n",
       "\t<tr><td> 0</td><td> 4</td><td>-3</td></tr>\n",
       "\t<tr><td> 1</td><td>-3</td><td> 2</td></tr>\n",
       "</tbody>\n",
       "</table>\n"
      ],
      "text/latex": [
       "\\begin{tabular}{lll}\n",
       "\t -1 &  2 &  1\\\\\n",
       "\t  0 &  4 & -3\\\\\n",
       "\t  1 & -3 &  2\\\\\n",
       "\\end{tabular}\n"
      ],
      "text/markdown": [
       "\n",
       "| -1 |  2 |  1 | \n",
       "|  0 |  4 | -3 | \n",
       "|  1 | -3 |  2 | \n",
       "\n",
       "\n"
      ],
      "text/plain": [
       "     [,1] [,2] [,3]\n",
       "[1,] -1    2    1  \n",
       "[2,]  0    4   -3  \n",
       "[3,]  1   -3    2  "
      ]
     },
     "metadata": {},
     "output_type": "display_data"
    },
    {
     "data": {
      "text/html": [
       "<dl>\n",
       "\t<dt>$solution</dt>\n",
       "\t\t<dd><ol class=list-inline>\n",
       "\t<li>5</li>\n",
       "\t<li>2.75</li>\n",
       "\t<li>3</li>\n",
       "</ol>\n",
       "</dd>\n",
       "\t<dt>$objval</dt>\n",
       "\t\t<dd>26.75</dd>\n",
       "\t<dt>$status</dt>\n",
       "\t\t<dd><strong>TM_OPTIMAL_SOLUTION_FOUND:</strong> 0</dd>\n",
       "</dl>\n"
      ],
      "text/latex": [
       "\\begin{description}\n",
       "\\item[\\$solution] \\begin{enumerate*}\n",
       "\\item 5\n",
       "\\item 2.75\n",
       "\\item 3\n",
       "\\end{enumerate*}\n",
       "\n",
       "\\item[\\$objval] 26.75\n",
       "\\item[\\$status] \\textbf{TM\\textbackslash{}\\_OPTIMAL\\textbackslash{}\\_SOLUTION\\textbackslash{}\\_FOUND:} 0\n",
       "\\end{description}\n"
      ],
      "text/markdown": [
       "$solution\n",
       ":   1. 5\n",
       "2. 2.75\n",
       "3. 3\n",
       "\n",
       "\n",
       "\n",
       "$objval\n",
       ":   26.75\n",
       "$status\n",
       ":   **TM_OPTIMAL_SOLUTION_FOUND:** 0\n",
       "\n",
       "\n"
      ],
      "text/plain": [
       "$solution\n",
       "[1] 5.00 2.75 3.00\n",
       "\n",
       "$objval\n",
       "[1] 26.75\n",
       "\n",
       "$status\n",
       "TM_OPTIMAL_SOLUTION_FOUND \n",
       "                        0 \n"
      ]
     },
     "metadata": {},
     "output_type": "display_data"
    }
   ],
   "source": [
    "obj <- c(3, 1, 3)\n",
    "mat <- matrix(c(-1, 0, 1, 2, 4, -3, 1, -3, 2), nrow = 3)\n",
    "mat\n",
    "\n",
    "dir <- c(\"<=\", \"<=\", \"<=\")\n",
    "rhs <- c(4, 2, 3)\n",
    "max <- TRUE\n",
    "types <- c(\"I\", \"C\", \"I\")\n",
    "\n",
    "Rsymphony_solve_LP(obj, mat, dir, rhs, types = types, max = max)"
   ]
  },
  {
   "cell_type": "markdown",
   "metadata": {},
   "source": [
    "### example 3\n",
    "\n",
    "$$\n",
    "\\left\\{ \n",
    "\\begin{aligned}\n",
    "  -Inf < &x_1 <= 4   \\\\\n",
    "   0 <= &x_2 <= 100 \\\\\n",
    "   2 <= &x_3 < Inf  \\\\\n",
    "\\end{aligned}\n",
    "\\right.\n",
    "$$"
   ]
  },
  {
   "cell_type": "code",
   "execution_count": 6,
   "metadata": {
    "collapsed": false
   },
   "outputs": [
    {
     "data": {
      "text/html": [
       "<dl>\n",
       "\t<dt>$solution</dt>\n",
       "\t\t<dd><ol class=list-inline>\n",
       "\t<li>4</li>\n",
       "\t<li>2.5</li>\n",
       "\t<li>3</li>\n",
       "</ol>\n",
       "</dd>\n",
       "\t<dt>$objval</dt>\n",
       "\t\t<dd>23.5</dd>\n",
       "\t<dt>$status</dt>\n",
       "\t\t<dd><strong>TM_OPTIMAL_SOLUTION_FOUND:</strong> 0</dd>\n",
       "</dl>\n"
      ],
      "text/latex": [
       "\\begin{description}\n",
       "\\item[\\$solution] \\begin{enumerate*}\n",
       "\\item 4\n",
       "\\item 2.5\n",
       "\\item 3\n",
       "\\end{enumerate*}\n",
       "\n",
       "\\item[\\$objval] 23.5\n",
       "\\item[\\$status] \\textbf{TM\\textbackslash{}\\_OPTIMAL\\textbackslash{}\\_SOLUTION\\textbackslash{}\\_FOUND:} 0\n",
       "\\end{description}\n"
      ],
      "text/markdown": [
       "$solution\n",
       ":   1. 4\n",
       "2. 2.5\n",
       "3. 3\n",
       "\n",
       "\n",
       "\n",
       "$objval\n",
       ":   23.5\n",
       "$status\n",
       ":   **TM_OPTIMAL_SOLUTION_FOUND:** 0\n",
       "\n",
       "\n"
      ],
      "text/plain": [
       "$solution\n",
       "[1] 4.0 2.5 3.0\n",
       "\n",
       "$objval\n",
       "[1] 23.5\n",
       "\n",
       "$status\n",
       "TM_OPTIMAL_SOLUTION_FOUND \n",
       "                        0 \n"
      ]
     },
     "metadata": {},
     "output_type": "display_data"
    }
   ],
   "source": [
    "bounds <- list(lower = list(ind = c(1L, 3L), val = c(-Inf, 2)), \n",
    "               upper = list(ind = c(1L, 2L), val = c(4, 100)))\n",
    "Rsymphony_solve_LP(obj, mat, dir, rhs, types = types, max = max, bounds = bounds)"
   ]
  },
  {
   "cell_type": "code",
   "execution_count": null,
   "metadata": {
    "collapsed": true
   },
   "outputs": [],
   "source": []
  }
 ],
 "metadata": {
  "kernelspec": {
   "display_name": "R",
   "language": "R",
   "name": "ir"
  },
  "language_info": {
   "codemirror_mode": "r",
   "file_extension": ".r",
   "mimetype": "text/x-r-source",
   "name": "R",
   "pygments_lexer": "r",
   "version": "3.3.2"
  }
 },
 "nbformat": 4,
 "nbformat_minor": 2
}
