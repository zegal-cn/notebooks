{
 "cells": [
  {
   "cell_type": "markdown",
   "metadata": {},
   "source": [
    "# Matrix\n",
    "\n",
    "## 初始化\n",
    "\n",
    "使用矩阵表示\n",
    "\n",
    "向量转化为矩阵"
   ]
  },
  {
   "cell_type": "code",
   "execution_count": 17,
   "metadata": {
    "collapsed": false
   },
   "outputs": [
    {
     "data": {
      "text/html": [
       "<table>\n",
       "<tbody>\n",
       "\t<tr><td>1 </td><td>4 </td><td>7 </td><td>10</td></tr>\n",
       "\t<tr><td>2 </td><td>5 </td><td>8 </td><td>11</td></tr>\n",
       "\t<tr><td>3 </td><td>6 </td><td>9 </td><td>12</td></tr>\n",
       "</tbody>\n",
       "</table>\n"
      ],
      "text/latex": [
       "\\begin{tabular}{llll}\n",
       "\t 1  & 4  & 7  & 10\\\\\n",
       "\t 2  & 5  & 8  & 11\\\\\n",
       "\t 3  & 6  & 9  & 12\\\\\n",
       "\\end{tabular}\n"
      ],
      "text/markdown": [
       "\n",
       "| 1  | 4  | 7  | 10 | \n",
       "| 2  | 5  | 8  | 11 | \n",
       "| 3  | 6  | 9  | 12 | \n",
       "\n",
       "\n"
      ],
      "text/plain": [
       "     [,1] [,2] [,3] [,4]\n",
       "[1,] 1    4    7    10  \n",
       "[2,] 2    5    8    11  \n",
       "[3,] 3    6    9    12  "
      ]
     },
     "metadata": {},
     "output_type": "display_data"
    }
   ],
   "source": [
    "m <- matrix(c(1:12), nrow=3, ncol=4) # byrow 缺省为FALSE"
   ]
  },
  {
   "cell_type": "code",
   "execution_count": 9,
   "metadata": {
    "collapsed": false
   },
   "outputs": [
    {
     "data": {
      "text/html": [
       "<table>\n",
       "<tbody>\n",
       "\t<tr><td>1 </td><td> 2</td><td> 3</td><td> 4</td></tr>\n",
       "\t<tr><td>5 </td><td> 6</td><td> 7</td><td> 8</td></tr>\n",
       "\t<tr><td>9 </td><td>10</td><td>11</td><td>12</td></tr>\n",
       "</tbody>\n",
       "</table>\n"
      ],
      "text/latex": [
       "\\begin{tabular}{llll}\n",
       "\t 1  &  2 &  3 &  4\\\\\n",
       "\t 5  &  6 &  7 &  8\\\\\n",
       "\t 9  & 10 & 11 & 12\\\\\n",
       "\\end{tabular}\n"
      ],
      "text/markdown": [
       "\n",
       "| 1  |  2 |  3 |  4 | \n",
       "| 5  |  6 |  7 |  8 | \n",
       "| 9  | 10 | 11 | 12 | \n",
       "\n",
       "\n"
      ],
      "text/plain": [
       "     [,1] [,2] [,3] [,4]\n",
       "[1,] 1     2    3    4  \n",
       "[2,] 5     6    7    8  \n",
       "[3,] 9    10   11   12  "
      ]
     },
     "metadata": {},
     "output_type": "display_data"
    }
   ],
   "source": [
    "m <- matrix(c(1:12), nrow=3, ncol=4, byrow=TRUE)"
   ]
  },
  {
   "cell_type": "markdown",
   "metadata": {},
   "source": [
    "### 矩阵的信息"
   ]
  },
  {
   "cell_type": "markdown",
   "metadata": {},
   "source": [
    "函数dim()将返回一个矩阵的维数，nrow()返回行数，ncol()返回列数，例如："
   ]
  },
  {
   "cell_type": "code",
   "execution_count": 20,
   "metadata": {
    "collapsed": false
   },
   "outputs": [
    {
     "data": {
      "text/html": [
       "<ol class=list-inline>\n",
       "\t<li>3</li>\n",
       "\t<li>4</li>\n",
       "</ol>\n"
      ],
      "text/latex": [
       "\\begin{enumerate*}\n",
       "\\item 3\n",
       "\\item 4\n",
       "\\end{enumerate*}\n"
      ],
      "text/markdown": [
       "1. 3\n",
       "2. 4\n",
       "\n",
       "\n"
      ],
      "text/plain": [
       "[1] 3 4"
      ]
     },
     "metadata": {},
     "output_type": "display_data"
    },
    {
     "data": {
      "text/html": [
       "3"
      ],
      "text/latex": [
       "3"
      ],
      "text/markdown": [
       "3"
      ],
      "text/plain": [
       "[1] 3"
      ]
     },
     "metadata": {},
     "output_type": "display_data"
    },
    {
     "data": {
      "text/html": [
       "4"
      ],
      "text/latex": [
       "4"
      ],
      "text/markdown": [
       "4"
      ],
      "text/plain": [
       "[1] 4"
      ]
     },
     "metadata": {},
     "output_type": "display_data"
    }
   ],
   "source": [
    "dim(m)\n",
    "nrow(m)\n",
    "ncol(m)"
   ]
  },
  {
   "cell_type": "markdown",
   "metadata": {},
   "source": [
    "### 为矩阵添加名称dimnames参数"
   ]
  },
  {
   "cell_type": "code",
   "execution_count": 11,
   "metadata": {
    "collapsed": false
   },
   "outputs": [
    {
     "data": {
      "text/html": [
       "<table>\n",
       "<thead><tr><th></th><th scope=col>col1</th><th scope=col>col2</th><th scope=col>col3</th><th scope=col>col4</th></tr></thead>\n",
       "<tbody>\n",
       "\t<tr><th scope=row>row1</th><td>1 </td><td>4 </td><td>7 </td><td>10</td></tr>\n",
       "\t<tr><th scope=row>row2</th><td>2 </td><td>5 </td><td>8 </td><td>11</td></tr>\n",
       "\t<tr><th scope=row>row3</th><td>3 </td><td>6 </td><td>9 </td><td>12</td></tr>\n",
       "</tbody>\n",
       "</table>\n"
      ],
      "text/latex": [
       "\\begin{tabular}{r|llll}\n",
       "  & col1 & col2 & col3 & col4\\\\\n",
       "\\hline\n",
       "\trow1 & 1  & 4  & 7  & 10\\\\\n",
       "\trow2 & 2  & 5  & 8  & 11\\\\\n",
       "\trow3 & 3  & 6  & 9  & 12\\\\\n",
       "\\end{tabular}\n"
      ],
      "text/markdown": [
       "\n",
       "| <!--/--> | col1 | col2 | col3 | col4 | \n",
       "|---|---|---|\n",
       "| row1 | 1  | 4  | 7  | 10 | \n",
       "| row2 | 2  | 5  | 8  | 11 | \n",
       "| row3 | 3  | 6  | 9  | 12 | \n",
       "\n",
       "\n"
      ],
      "text/plain": [
       "     col1 col2 col3 col4\n",
       "row1 1    4    7    10  \n",
       "row2 2    5    8    11  \n",
       "row3 3    6    9    12  "
      ]
     },
     "metadata": {},
     "output_type": "display_data"
    }
   ],
   "source": [
    "matrix(c(1:12), ncol=4,\n",
    "       dimnames=list(c(\"row1\", \"row2\", \"row3\"),\n",
    "                     c(\"col1\", \"col2\", \"col3\", \"col4\")))"
   ]
  },
  {
   "cell_type": "code",
   "execution_count": 12,
   "metadata": {
    "collapsed": false
   },
   "outputs": [
    {
     "data": {
      "text/html": [
       "<table>\n",
       "<thead><tr><th></th><th scope=col>col1</th><th scope=col>col2</th><th scope=col>col3</th><th scope=col>col4</th></tr></thead>\n",
       "<tbody>\n",
       "\t<tr><th scope=row>row1</th><td>1 </td><td>4 </td><td>7 </td><td>10</td></tr>\n",
       "\t<tr><th scope=row>row2</th><td>2 </td><td>5 </td><td>8 </td><td>11</td></tr>\n",
       "\t<tr><th scope=row>row3</th><td>3 </td><td>6 </td><td>9 </td><td>12</td></tr>\n",
       "</tbody>\n",
       "</table>\n"
      ],
      "text/latex": [
       "\\begin{tabular}{r|llll}\n",
       "  & col1 & col2 & col3 & col4\\\\\n",
       "\\hline\n",
       "\trow1 & 1  & 4  & 7  & 10\\\\\n",
       "\trow2 & 2  & 5  & 8  & 11\\\\\n",
       "\trow3 & 3  & 6  & 9  & 12\\\\\n",
       "\\end{tabular}\n"
      ],
      "text/markdown": [
       "\n",
       "| <!--/--> | col1 | col2 | col3 | col4 | \n",
       "|---|---|---|\n",
       "| row1 | 1  | 4  | 7  | 10 | \n",
       "| row2 | 2  | 5  | 8  | 11 | \n",
       "| row3 | 3  | 6  | 9  | 12 | \n",
       "\n",
       "\n"
      ],
      "text/plain": [
       "     col1 col2 col3 col4\n",
       "row1 1    4    7    10  \n",
       "row2 2    5    8    11  \n",
       "row3 3    6    9    12  "
      ]
     },
     "metadata": {},
     "output_type": "display_data"
    }
   ],
   "source": [
    "m <- matrix(c(1:12), nrow=3, ncol=4)\n",
    "rownames(m) <- c(\"row1\", \"row2\", \"row3\")\n",
    "colnames(m) <- c(\"col1\", \"col2\", \"col3\", \"col4\")\n",
    "m"
   ]
  },
  {
   "cell_type": "markdown",
   "metadata": {},
   "source": [
    "### 取值"
   ]
  },
  {
   "cell_type": "code",
   "execution_count": 13,
   "metadata": {
    "collapsed": false
   },
   "outputs": [
    {
     "data": {
      "text/html": [
       "<dl class=dl-horizontal>\n",
       "\t<dt>col1</dt>\n",
       "\t\t<dd>1</dd>\n",
       "\t<dt>col2</dt>\n",
       "\t\t<dd>4</dd>\n",
       "\t<dt>col3</dt>\n",
       "\t\t<dd>7</dd>\n",
       "\t<dt>col4</dt>\n",
       "\t\t<dd>10</dd>\n",
       "</dl>\n"
      ],
      "text/latex": [
       "\\begin{description*}\n",
       "\\item[col1] 1\n",
       "\\item[col2] 4\n",
       "\\item[col3] 7\n",
       "\\item[col4] 10\n",
       "\\end{description*}\n"
      ],
      "text/markdown": [
       "col1\n",
       ":   1col2\n",
       ":   4col3\n",
       ":   7col4\n",
       ":   10\n",
       "\n"
      ],
      "text/plain": [
       "col1 col2 col3 col4 \n",
       "   1    4    7   10 "
      ]
     },
     "metadata": {},
     "output_type": "display_data"
    }
   ],
   "source": [
    "m[1,]\n"
   ]
  },
  {
   "cell_type": "code",
   "execution_count": 14,
   "metadata": {
    "collapsed": false
   },
   "outputs": [
    {
     "data": {
      "text/html": [
       "<dl class=dl-horizontal>\n",
       "\t<dt>row1</dt>\n",
       "\t\t<dd>1</dd>\n",
       "\t<dt>row2</dt>\n",
       "\t\t<dd>2</dd>\n",
       "\t<dt>row3</dt>\n",
       "\t\t<dd>3</dd>\n",
       "</dl>\n"
      ],
      "text/latex": [
       "\\begin{description*}\n",
       "\\item[row1] 1\n",
       "\\item[row2] 2\n",
       "\\item[row3] 3\n",
       "\\end{description*}\n"
      ],
      "text/markdown": [
       "row1\n",
       ":   1row2\n",
       ":   2row3\n",
       ":   3\n",
       "\n"
      ],
      "text/plain": [
       "row1 row2 row3 \n",
       "   1    2    3 "
      ]
     },
     "metadata": {},
     "output_type": "display_data"
    }
   ],
   "source": [
    "m[,1]"
   ]
  },
  {
   "cell_type": "code",
   "execution_count": 15,
   "metadata": {
    "collapsed": false
   },
   "outputs": [
    {
     "data": {
      "text/html": [
       "<dl class=dl-horizontal>\n",
       "\t<dt>row1</dt>\n",
       "\t\t<dd>4</dd>\n",
       "\t<dt>row2</dt>\n",
       "\t\t<dd>5</dd>\n",
       "\t<dt>row3</dt>\n",
       "\t\t<dd>6</dd>\n",
       "</dl>\n"
      ],
      "text/latex": [
       "\\begin{description*}\n",
       "\\item[row1] 4\n",
       "\\item[row2] 5\n",
       "\\item[row3] 6\n",
       "\\end{description*}\n"
      ],
      "text/markdown": [
       "row1\n",
       ":   4row2\n",
       ":   5row3\n",
       ":   6\n",
       "\n"
      ],
      "text/plain": [
       "row1 row2 row3 \n",
       "   4    5    6 "
      ]
     },
     "metadata": {},
     "output_type": "display_data"
    }
   ],
   "source": [
    "m[,\"col2\"]"
   ]
  },
  {
   "cell_type": "markdown",
   "metadata": {
    "collapsed": true
   },
   "source": [
    "### 空矩阵"
   ]
  },
  {
   "cell_type": "code",
   "execution_count": null,
   "metadata": {
    "collapsed": true
   },
   "outputs": [],
   "source": [
    "a <- matrix(0, nrow=3, ncol=5)\n",
    "a"
   ]
  },
  {
   "cell_type": "markdown",
   "metadata": {},
   "source": [
    "### 矩阵扩展"
   ]
  },
  {
   "cell_type": "code",
   "execution_count": null,
   "metadata": {
    "collapsed": true
   },
   "outputs": [],
   "source": [
    "cbind(a, c(1,1,2))"
   ]
  },
  {
   "cell_type": "code",
   "execution_count": null,
   "metadata": {
    "collapsed": true
   },
   "outputs": [],
   "source": [
    "rbind(a, c(1:5))"
   ]
  },
  {
   "cell_type": "markdown",
   "metadata": {},
   "source": [
    "#### 矩阵合并"
   ]
  },
  {
   "cell_type": "code",
   "execution_count": null,
   "metadata": {
    "collapsed": true
   },
   "outputs": [],
   "source": [
    "a <- matrix(1:6, 3, 2)\n",
    "b <- matrix(7:12, 3, 2)"
   ]
  },
  {
   "cell_type": "code",
   "execution_count": null,
   "metadata": {
    "collapsed": true,
    "scrolled": true
   },
   "outputs": [],
   "source": [
    "cbind(a, b)"
   ]
  },
  {
   "cell_type": "code",
   "execution_count": null,
   "metadata": {
    "collapsed": true,
    "scrolled": true
   },
   "outputs": [],
   "source": [
    "rbind(a, b)"
   ]
  },
  {
   "cell_type": "markdown",
   "metadata": {},
   "source": [
    "#### 矩阵变为向量"
   ]
  },
  {
   "cell_type": "code",
   "execution_count": null,
   "metadata": {
    "collapsed": true
   },
   "outputs": [],
   "source": [
    "as.vector(a)"
   ]
  },
  {
   "cell_type": "code",
   "execution_count": null,
   "metadata": {
    "collapsed": true
   },
   "outputs": [],
   "source": [
    "b <- matrix(a)\n",
    "b"
   ]
  },
  {
   "cell_type": "markdown",
   "metadata": {},
   "source": [
    "### 行和、列和、行平均与列平均"
   ]
  },
  {
   "cell_type": "code",
   "execution_count": 26,
   "metadata": {
    "collapsed": false
   },
   "outputs": [
    {
     "data": {
      "text/html": [
       "<ol class=list-inline>\n",
       "\t<li>22</li>\n",
       "\t<li>26</li>\n",
       "\t<li>30</li>\n",
       "</ol>\n"
      ],
      "text/latex": [
       "\\begin{enumerate*}\n",
       "\\item 22\n",
       "\\item 26\n",
       "\\item 30\n",
       "\\end{enumerate*}\n"
      ],
      "text/markdown": [
       "1. 22\n",
       "2. 26\n",
       "3. 30\n",
       "\n",
       "\n"
      ],
      "text/plain": [
       "[1] 22 26 30"
      ]
     },
     "metadata": {},
     "output_type": "display_data"
    }
   ],
   "source": [
    "m <- matrix(c(1:12), nrow=3, ncol=4)\n",
    "rowSums(m)"
   ]
  },
  {
   "cell_type": "code",
   "execution_count": 27,
   "metadata": {
    "collapsed": false
   },
   "outputs": [
    {
     "data": {
      "text/html": [
       "<ol class=list-inline>\n",
       "\t<li>5.5</li>\n",
       "\t<li>6.5</li>\n",
       "\t<li>7.5</li>\n",
       "</ol>\n"
      ],
      "text/latex": [
       "\\begin{enumerate*}\n",
       "\\item 5.5\n",
       "\\item 6.5\n",
       "\\item 7.5\n",
       "\\end{enumerate*}\n"
      ],
      "text/markdown": [
       "1. 5.5\n",
       "2. 6.5\n",
       "3. 7.5\n",
       "\n",
       "\n"
      ],
      "text/plain": [
       "[1] 5.5 6.5 7.5"
      ]
     },
     "metadata": {},
     "output_type": "display_data"
    }
   ],
   "source": [
    "rowMeans(m)"
   ]
  },
  {
   "cell_type": "code",
   "execution_count": 28,
   "metadata": {
    "collapsed": false
   },
   "outputs": [
    {
     "data": {
      "text/html": [
       "<ol class=list-inline>\n",
       "\t<li>6</li>\n",
       "\t<li>15</li>\n",
       "\t<li>24</li>\n",
       "\t<li>33</li>\n",
       "</ol>\n"
      ],
      "text/latex": [
       "\\begin{enumerate*}\n",
       "\\item 6\n",
       "\\item 15\n",
       "\\item 24\n",
       "\\item 33\n",
       "\\end{enumerate*}\n"
      ],
      "text/markdown": [
       "1. 6\n",
       "2. 15\n",
       "3. 24\n",
       "4. 33\n",
       "\n",
       "\n"
      ],
      "text/plain": [
       "[1]  6 15 24 33"
      ]
     },
     "metadata": {},
     "output_type": "display_data"
    }
   ],
   "source": [
    "colSums(m)"
   ]
  },
  {
   "cell_type": "code",
   "execution_count": 29,
   "metadata": {
    "collapsed": false
   },
   "outputs": [
    {
     "data": {
      "text/html": [
       "<ol class=list-inline>\n",
       "\t<li>2</li>\n",
       "\t<li>5</li>\n",
       "\t<li>8</li>\n",
       "\t<li>11</li>\n",
       "</ol>\n"
      ],
      "text/latex": [
       "\\begin{enumerate*}\n",
       "\\item 2\n",
       "\\item 5\n",
       "\\item 8\n",
       "\\item 11\n",
       "\\end{enumerate*}\n"
      ],
      "text/markdown": [
       "1. 2\n",
       "2. 5\n",
       "3. 8\n",
       "4. 11\n",
       "\n",
       "\n"
      ],
      "text/plain": [
       "[1]  2  5  8 11"
      ]
     },
     "metadata": {},
     "output_type": "display_data"
    }
   ],
   "source": [
    "colMeans(m)"
   ]
  },
  {
   "cell_type": "markdown",
   "metadata": {},
   "source": [
    "### 矩阵apply()运算函数\n",
    "\n",
    "语法是apply(data, dim, function),dim取1表示对行运用函数，取2表示对列运用函数。"
   ]
  },
  {
   "cell_type": "code",
   "execution_count": null,
   "metadata": {
    "collapsed": true
   },
   "outputs": [],
   "source": [
    "x <- matrix(1:6, 2, 3)"
   ]
  },
  {
   "cell_type": "code",
   "execution_count": null,
   "metadata": {
    "collapsed": true
   },
   "outputs": [],
   "source": [
    "apply(x, 2, mean) # 列均值，等同于colMeans(xx)\n",
    "apply(x, 2, sum)  # 列和，等同于colMeans(xx)，所以矩阵行和列的运算推荐用apply()。\n",
    "apply(x, 1, var)  # 行方差\n",
    "apply(x, 2, max)  # 每列最大值\n",
    "apply(x, 2, rev)  # 每列的数反排列"
   ]
  },
  {
   "cell_type": "code",
   "execution_count": null,
   "metadata": {
    "collapsed": false
   },
   "outputs": [],
   "source": [
    "apply(x, 2, length)\n",
    "max(apply(x, 2, length))"
   ]
  },
  {
   "cell_type": "code",
   "execution_count": null,
   "metadata": {
    "collapsed": false
   },
   "outputs": [],
   "source": [
    "apply(x, 2, unique)"
   ]
  },
  {
   "cell_type": "markdown",
   "metadata": {},
   "source": [
    "## 矩阵计算\n",
    "\n",
    "### 矩阵转置"
   ]
  },
  {
   "cell_type": "code",
   "execution_count": null,
   "metadata": {
    "collapsed": false
   },
   "outputs": [],
   "source": [
    "m <- matrix(1:6, c(2, 3))\n",
    "m\n",
    "t(m)"
   ]
  },
  {
   "cell_type": "markdown",
   "metadata": {},
   "source": [
    "若将函数 `t()` 作用于一个向量 $x$，则R默认 $x$ 为列向量，返回结果为一个行向量，例如："
   ]
  },
  {
   "cell_type": "code",
   "execution_count": null,
   "metadata": {
    "collapsed": false
   },
   "outputs": [],
   "source": [
    "x <- c(1:4)\n",
    "x\n",
    "class(x)\n",
    "t(x)\n",
    "class(t(x))"
   ]
  },
  {
   "cell_type": "markdown",
   "metadata": {},
   "source": [
    "若想得到一个列向量，可用t(t(x))，例如："
   ]
  },
  {
   "cell_type": "code",
   "execution_count": null,
   "metadata": {
    "collapsed": false
   },
   "outputs": [],
   "source": [
    "t(t(x))"
   ]
  },
  {
   "cell_type": "markdown",
   "metadata": {},
   "source": [
    "### 加减"
   ]
  },
  {
   "cell_type": "code",
   "execution_count": null,
   "metadata": {
    "collapsed": false
   },
   "outputs": [],
   "source": [
    "a <- b <- matrix(1:12, nrow=3, ncol=4)"
   ]
  },
  {
   "cell_type": "code",
   "execution_count": null,
   "metadata": {
    "collapsed": false
   },
   "outputs": [],
   "source": [
    "a + b"
   ]
  },
  {
   "cell_type": "code",
   "execution_count": null,
   "metadata": {
    "collapsed": false
   },
   "outputs": [],
   "source": [
    "a - b"
   ]
  },
  {
   "cell_type": "markdown",
   "metadata": {},
   "source": [
    "### 乘法\n",
    "\n",
    "#### 矩阵与整数相乘\n",
    "\n",
    "$a$ 为 $m×n$ 矩阵，$c>0$，例如："
   ]
  },
  {
   "cell_type": "code",
   "execution_count": null,
   "metadata": {
    "collapsed": false
   },
   "outputs": [],
   "source": [
    "a * 2"
   ]
  },
  {
   "cell_type": "markdown",
   "metadata": {},
   "source": [
    "#### 矩阵与矩阵相乘\n",
    "\n",
    "$a$ 为 $m×n$ 矩阵，$b$ 为 $n×k$ 矩阵，使用 `%*%` 实现矩阵相乘，例如："
   ]
  },
  {
   "cell_type": "code",
   "execution_count": null,
   "metadata": {
    "collapsed": false
   },
   "outputs": [],
   "source": [
    "a <- matrix(1:12, nrow=2, ncol=3)\n",
    "b <- matrix(1:12, nrow=3, ncol=2)\n",
    "a\n",
    "b\n",
    "a %*% b"
   ]
  },
  {
   "cell_type": "markdown",
   "metadata": {},
   "source": [
    "若 $a$ 为 $n×m$ 矩阵，要得到 $a'b$，可用函数 `crossprod()`，该函数计算结果与 `t(a)%*%b` 相同，但是效率更高。例如："
   ]
  },
  {
   "cell_type": "code",
   "execution_count": null,
   "metadata": {
    "collapsed": false
   },
   "outputs": [],
   "source": [
    "a <- matrix(1:12, nrow=2, ncol=3)\n",
    "b <- matrix(1:12, nrow=2, ncol=3)\n",
    "t(a) %*% b"
   ]
  },
  {
   "cell_type": "code",
   "execution_count": null,
   "metadata": {
    "collapsed": false
   },
   "outputs": [],
   "source": [
    "crossprod(a, b)"
   ]
  },
  {
   "cell_type": "markdown",
   "metadata": {},
   "source": [
    "#### 矩阵Hadamard积\n",
    "\n",
    "若 $A=a_{ij}m×n$, $B=b_{ij}m×n$, 则矩阵的Hadamard积定义为：\n",
    "$A⊙B=a_{ij} b_{ij}m×n$,R中Hadamard积可以直接运用运算符“*”例如："
   ]
  },
  {
   "cell_type": "markdown",
   "metadata": {},
   "source": [
    "### 矩阵对角元素相关运算\n",
    "\n",
    "取一个方阵的对角元素："
   ]
  },
  {
   "cell_type": "code",
   "execution_count": null,
   "metadata": {
    "collapsed": false
   },
   "outputs": [],
   "source": [
    "a <- matrix(1:16, nrow=4, ncol=4)\n",
    "a\n",
    "diag(a)"
   ]
  },
  {
   "cell_type": "markdown",
   "metadata": {},
   "source": [
    "对一个向量应用 `diag()` 函数将产生以这个向量为对角元素的对角矩阵，例如："
   ]
  },
  {
   "cell_type": "code",
   "execution_count": null,
   "metadata": {
    "collapsed": false,
    "scrolled": true
   },
   "outputs": [],
   "source": [
    "diag(diag(a))"
   ]
  },
  {
   "cell_type": "markdown",
   "metadata": {},
   "source": [
    "对一个正整数 $z$应用 `diag()` 函数将产生以 $z$ 维单位矩阵，例如："
   ]
  },
  {
   "cell_type": "code",
   "execution_count": null,
   "metadata": {
    "collapsed": false
   },
   "outputs": [],
   "source": [
    "diag(3)"
   ]
  },
  {
   "cell_type": "code",
   "execution_count": null,
   "metadata": {
    "collapsed": true
   },
   "outputs": [],
   "source": []
  }
 ],
 "metadata": {
  "kernelspec": {
   "display_name": "R",
   "language": "R",
   "name": "ir"
  },
  "language_info": {
   "codemirror_mode": "r",
   "file_extension": ".r",
   "mimetype": "text/x-r-source",
   "name": "R",
   "pygments_lexer": "r",
   "version": "3.3.2"
  }
 },
 "nbformat": 4,
 "nbformat_minor": 2
}
