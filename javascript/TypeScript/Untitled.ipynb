{
 "cells": [
  {
   "cell_type": "markdown",
   "metadata": {},
   "source": [
    "**关于术语的一点说明**: 请务必注意一点，TypeScript 1.5里术语名已经发生了变化。 “内部模块”现在称做“命名空间”。 “外部模块”现在则简称为“模块”，这是为了与ECMAScript 2015里的术语保持一致，(也就是说 `module X {` 相当于现在推荐的写法 `namespace X {`)。\n",
    "\n",
    "## 介绍\n",
    "\n",
    "从 ECMAScript 2015 开始，JavaScript 引入了模块的概念。TypeScript 也沿用这个概念。\n",
    "\n",
    "模块在其自身的作用域里执行，而不是在全局作用域里；这意味着定义在一个模块里的变量，函数，类等等在模块外部是不可见的，除非你明确地使用 `export` 形式之一导出它们。 相反，如果想使用其它模块导出的变量，函数，类，接口等的时候，你必须要导入它们，可以使用 `import` 形式之一。\n",
    "\n",
    "模块是自声明的；两个模块之间的关系是通过在文件级别上使用 `imports` 和 `exports` 建立的。\n",
    "\n",
    "模块使用模块加载器去导入其它的模块。 在运行时，模块加载器的作用是在执行此模块代码前去查找并执行这个模块的所有依赖。 大家最熟知的JavaScript模块加载器是服务于Node.js的CommonJS 和服务于Web应用的 [Require.js](http://requirejs.org/)。\n",
    "\n",
    "TypeScript与ECMAScript 2015一样，任何包含顶级 `import` 或者 `export` 的文件都被当成一个模块。\n",
    "\n",
    "## 导出\n",
    "\n",
    "### 导出声明\n",
    "\n",
    "任何声明（比如变量，函数，类，类型别名或接口）都能够通过添加 `export` 关键字来导出。\n",
    "\n",
    "** Validation.ts **"
   ]
  },
  {
   "cell_type": "code",
   "execution_count": null,
   "metadata": {
    "collapsed": true
   },
   "outputs": [],
   "source": [
    "export interface StringValidator {\n",
    "    isAcceptable(s: string): boolean;\n",
    "}"
   ]
  },
  {
   "cell_type": "markdown",
   "metadata": {},
   "source": [
    "** ZipCodeValidator.ts **"
   ]
  },
  {
   "cell_type": "code",
   "execution_count": null,
   "metadata": {
    "collapsed": true
   },
   "outputs": [],
   "source": [
    "export const numberRegexp = /^[0-9]+$/;\n",
    "\n",
    "export class ZipCodeValidator implements StringValidator {\n",
    "    isAcceptable(s: string) {\n",
    "        return s.length === 5 && numberRegexp.test(s);\n",
    "    }\n",
    "}"
   ]
  },
  {
   "cell_type": "markdown",
   "metadata": {},
   "source": [
    "### 导出语句\n",
    "\n",
    "导出语句很便利，因为我们可能需要对导出的部分重命名，所以上面的例子可以这样改写："
   ]
  },
  {
   "cell_type": "code",
   "execution_count": null,
   "metadata": {
    "collapsed": true
   },
   "outputs": [],
   "source": [
    "class ZipCodeValidator implements StringValidator {\n",
    "    isAcceptable(s: string) {\n",
    "        return s.length === 5 && numberRegexp.test(s);\n",
    "    }\n",
    "}\n",
    "export { ZipCodeValidator };\n",
    "export { ZipCodeValidator as mainValidator };"
   ]
  },
  {
   "cell_type": "markdown",
   "metadata": {},
   "source": [
    "### 重新导出\n",
    "\n",
    "我们经常会去扩展其它模块，并且只导出那个模块的部分内容。 重新导出功能并不会在当前模块导入那个模块或定义一个新的局部变量。"
   ]
  },
  {
   "cell_type": "code",
   "execution_count": null,
   "metadata": {
    "collapsed": true
   },
   "outputs": [],
   "source": [
    "ParseIntBasedZipCodeValidator.ts\n",
    "\n",
    "export class ParseIntBasedZipCodeValidator {\n",
    "    isAcceptable(s: string) {\n",
    "        return s.length === 5 && parseInt(s).toString() === s;\n",
    "    }\n",
    "}\n",
    "\n",
    "// 导出原先的验证器但做了重命名\n",
    "export {ZipCodeValidator as RegExpBasedZipCodeValidator} from \"./ZipCodeValidator\";"
   ]
  },
  {
   "cell_type": "markdown",
   "metadata": {},
   "source": [
    "或者一个模块可以包裹多个模块，并把他们导出的内容联合在一起通过语法：`export * from \"module\"`。\n",
    "\n",
    "** AllValidators.ts **"
   ]
  },
  {
   "cell_type": "code",
   "execution_count": null,
   "metadata": {
    "collapsed": true
   },
   "outputs": [],
   "source": [
    "export * from \"./StringValidator\"; // exports interface StringValidator\n",
    "export * from \"./LettersOnlyValidator\"; // exports class LettersOnlyValidator\n",
    "export * from \"./ZipCodeValidator\";  // exports class ZipCodeValidator"
   ]
  },
  {
   "cell_type": "markdown",
   "metadata": {},
   "source": [
    "## 导入\n",
    "\n",
    "模块的导入操作与导出一样简单。 可以使用以下import形式之一来导入其它模块中的导出内容。\n",
    "\n",
    "### 导入一个模块中的某个导出内容"
   ]
  },
  {
   "cell_type": "code",
   "execution_count": null,
   "metadata": {
    "collapsed": true
   },
   "outputs": [],
   "source": [
    "import { ZipCodeValidator } from \"./ZipCodeValidator\";\n",
    "\n",
    "let myValidator = new ZipCodeValidator();"
   ]
  },
  {
   "cell_type": "markdown",
   "metadata": {},
   "source": [
    "### 可以对导入内容重命名"
   ]
  },
  {
   "cell_type": "code",
   "execution_count": null,
   "metadata": {
    "collapsed": true
   },
   "outputs": [],
   "source": [
    "import { ZipCodeValidator as ZCV } from \"./ZipCodeValidator\";\n",
    "let myValidator = new ZCV();"
   ]
  },
  {
   "cell_type": "markdown",
   "metadata": {},
   "source": [
    "### 将整个模块导入到一个变量，并通过它来访问模块的导出部分"
   ]
  },
  {
   "cell_type": "code",
   "execution_count": null,
   "metadata": {
    "collapsed": true
   },
   "outputs": [],
   "source": [
    "import * as validator from \"./ZipCodeValidator\";\n",
    "let myValidator = new validator.ZipCodeValidator();"
   ]
  },
  {
   "cell_type": "markdown",
   "metadata": {},
   "source": [
    "### 具有副作用的导入模块\n",
    "\n",
    "尽管不推荐这么做，一些模块会设置一些全局状态供其它模块使用。 这些模块可能没有任何的导出或用户根本就不关注它的导出。 使用下面的方法来导入这类模块：\n",
    "\n",
    "```js\n",
    "import \"./my-module.js\";\n",
    "```\n",
    "\n",
    "## 默认导出\n",
    "\n",
    "每个模块都可以有一个 `default` 导出。 默认导出使用 `default` 关键字标记；并且一个模块只能够有一个 `default` 导出。 需要使用一种特殊的导入形式来导入 `default` 导出。\n",
    "\n",
    "`default` 导出十分便利。 比如，像JQuery这样的类库可能有一个默认导出 `jQuery` 或 `$`，并且我们基本上也会使用同样的名字 `jQuery` 或 `$`导出 `JQuery`。\n",
    "\n",
    "** JQuery.d.ts **"
   ]
  },
  {
   "cell_type": "code",
   "execution_count": null,
   "metadata": {
    "collapsed": true
   },
   "outputs": [],
   "source": [
    "declare let $: JQuery;\n",
    "export default $;"
   ]
  },
  {
   "cell_type": "markdown",
   "metadata": {},
   "source": [
    "** App.ts"
   ]
  },
  {
   "cell_type": "code",
   "execution_count": null,
   "metadata": {
    "collapsed": true
   },
   "outputs": [],
   "source": [
    "import $ from \"JQuery\";\n",
    "\n",
    "$(\"button.continue\").html( \"Next Step...\" );"
   ]
  },
  {
   "cell_type": "markdown",
   "metadata": {},
   "source": [
    "类和函数声明可以直接被标记为默认导出。 标记为默认导出的类和函数的名字是可以省略的。\n",
    "\n",
    "** ZipCodeValidator.ts"
   ]
  },
  {
   "cell_type": "code",
   "execution_count": null,
   "metadata": {
    "collapsed": true
   },
   "outputs": [],
   "source": [
    "export default class ZipCodeValidator {\n",
    "    static numberRegexp = /^[0-9]+$/;\n",
    "    isAcceptable(s: string) {\n",
    "        return s.length === 5 && ZipCodeValidator.numberRegexp.test(s);\n",
    "    }\n",
    "}"
   ]
  },
  {
   "cell_type": "markdown",
   "metadata": {},
   "source": [
    "** Test.ts"
   ]
  },
  {
   "cell_type": "code",
   "execution_count": null,
   "metadata": {
    "collapsed": true
   },
   "outputs": [],
   "source": [
    "import validator from \"./ZipCodeValidator\";\n",
    "\n",
    "let myValidator = new validator();"
   ]
  },
  {
   "cell_type": "markdown",
   "metadata": {},
   "source": [
    "或者\n",
    "\n",
    "** StaticZipCodeValidator.ts"
   ]
  },
  {
   "cell_type": "code",
   "execution_count": null,
   "metadata": {
    "collapsed": true
   },
   "outputs": [],
   "source": [
    "const numberRegexp = /^[0-9]+$/;\n",
    "\n",
    "export default function (s: string) {\n",
    "    return s.length === 5 && numberRegexp.test(s);\n",
    "}"
   ]
  },
  {
   "cell_type": "markdown",
   "metadata": {},
   "source": [
    "** Test.ts"
   ]
  },
  {
   "cell_type": "code",
   "execution_count": null,
   "metadata": {
    "collapsed": true
   },
   "outputs": [],
   "source": [
    "import validate from \"./StaticZipCodeValidator\";\n",
    "\n",
    "let strings = [\"Hello\", \"98052\", \"101\"];\n",
    "\n",
    "// Use function validate\n",
    "strings.forEach(s => {\n",
    "  console.log(`\"${s}\" ${validate(s) ? \" matches\" : \" does not match\"}`);\n",
    "});"
   ]
  },
  {
   "cell_type": "markdown",
   "metadata": {},
   "source": [
    "default导出也可以是一个值\n",
    "\n",
    "** OneTwoThree.ts"
   ]
  },
  {
   "cell_type": "code",
   "execution_count": null,
   "metadata": {
    "collapsed": true
   },
   "outputs": [],
   "source": [
    "export default \"123\";\n",
    "Log.ts\n",
    "\n",
    "import num from \"./OneTwoThree\";\n",
    "\n",
    "console.log(num); // \"123\"\n",
    "export = 和 import = require()"
   ]
  },
  {
   "cell_type": "markdown",
   "metadata": {},
   "source": [
    "`CommonJS` 和 `AMD` 都有一个 `exports` 对象的概念，它包含了一个模块的所有导出内容。\n",
    "\n",
    "它们也支持把 `exports` 替换为一个自定义对象。 默认导出就好比这样一个功能；然而，它们却并不相互兼容。 TypeScript模块支持 `export =` 语法以支持传统的 `CommonJS` 和 `AMD` 的工作流模型。\n",
    "\n",
    "`export =` 语法定义一个模块的导出对象。 它可以是类，接口，命名空间，函数或枚举。\n",
    "\n",
    "若要导入一个使用了 `export =` 的模块时，必须使用TypeScript提供的特定语法 `import let = require(\"module\")`。\n",
    "\n",
    "** ZipCodeValidator.ts"
   ]
  },
  {
   "cell_type": "code",
   "execution_count": null,
   "metadata": {
    "collapsed": true
   },
   "outputs": [],
   "source": [
    "let numberRegexp = /^[0-9]+$/;\n",
    "class ZipCodeValidator {\n",
    "    isAcceptable(s: string) {\n",
    "        return s.length === 5 && numberRegexp.test(s);\n",
    "    }\n",
    "}\n",
    "export = ZipCodeValidator;"
   ]
  },
  {
   "cell_type": "markdown",
   "metadata": {},
   "source": [
    "** Test.ts"
   ]
  },
  {
   "cell_type": "code",
   "execution_count": null,
   "metadata": {
    "collapsed": true
   },
   "outputs": [],
   "source": [
    "import zip = require(\"./ZipCodeValidator\");\n",
    "\n",
    "// Some samples to try\n",
    "let strings = [\"Hello\", \"98052\", \"101\"];\n",
    "\n",
    "// Validators to use\n",
    "let validator = new zip();\n",
    "\n",
    "// Show whether each string passed each validator\n",
    "strings.forEach(s => {\n",
    "  console.log(`\"${ s }\" - ${ validator.isAcceptable(s) ? \"matches\" : \"does not match\" }`);\n",
    "});"
   ]
  },
  {
   "cell_type": "markdown",
   "metadata": {},
   "source": [
    "## 生成模块代码\n",
    "\n",
    "根据编译时指定的模块目标参数，编译器会生成相应的供Node.js (CommonJS)，Require.js (AMD)，isomorphic (UMD), SystemJS或ECMAScript 2015 native modules (ES6)模块加载系统使用的代码。 想要了解生成代码中define，require 和 register的意义，请参考相应模块加载器的文档。\n",
    "\n",
    "下面的例子说明了导入导出语句里使用的名字是怎么转换为相应的模块加载器代码的。\n",
    "\n",
    "** SimpleModule.ts"
   ]
  },
  {
   "cell_type": "code",
   "execution_count": null,
   "metadata": {
    "collapsed": true
   },
   "outputs": [],
   "source": [
    "import m = require(\"mod\");\n",
    "export let t = m.something + 1;"
   ]
  },
  {
   "cell_type": "markdown",
   "metadata": {},
   "source": [
    "** AMD / RequireJS SimpleModule.js"
   ]
  },
  {
   "cell_type": "code",
   "execution_count": null,
   "metadata": {
    "collapsed": true
   },
   "outputs": [],
   "source": [
    "define([\"require\", \"exports\", \"./mod\"], function (require, exports, mod_1) {\n",
    "    exports.t = mod_1.something + 1;\n",
    "});"
   ]
  },
  {
   "cell_type": "markdown",
   "metadata": {},
   "source": [
    "** CommonJS / Node SimpleModule.js"
   ]
  },
  {
   "cell_type": "code",
   "execution_count": null,
   "metadata": {
    "collapsed": true
   },
   "outputs": [],
   "source": [
    "let mod_1 = require(\"./mod\");\n",
    "exports.t = mod_1.something + 1;"
   ]
  },
  {
   "cell_type": "markdown",
   "metadata": {},
   "source": [
    "** UMD SimpleModule.js"
   ]
  },
  {
   "cell_type": "code",
   "execution_count": null,
   "metadata": {
    "collapsed": true
   },
   "outputs": [],
   "source": [
    "(function (factory) {\n",
    "    if (typeof module === \"object\" && typeof module.exports === \"object\") {\n",
    "        let v = factory(require, exports); if (v !== undefined) module.exports = v;\n",
    "    }\n",
    "    else if (typeof define === \"function\" && define.amd) {\n",
    "        define([\"require\", \"exports\", \"./mod\"], factory);\n",
    "    }\n",
    "})(function (require, exports) {\n",
    "    let mod_1 = require(\"./mod\");\n",
    "    exports.t = mod_1.something + 1;\n",
    "});"
   ]
  },
  {
   "cell_type": "markdown",
   "metadata": {},
   "source": [
    "** System SimpleModule.js"
   ]
  },
  {
   "cell_type": "code",
   "execution_count": null,
   "metadata": {
    "collapsed": true
   },
   "outputs": [],
   "source": [
    "System.register([\"./mod\"], function(exports_1) {\n",
    "    let mod_1;\n",
    "    let t;\n",
    "    return {\n",
    "        setters:[\n",
    "            function (mod_1_1) {\n",
    "                mod_1 = mod_1_1;\n",
    "            }],\n",
    "        execute: function() {\n",
    "            exports_1(\"t\", t = mod_1.something + 1);\n",
    "        }\n",
    "    }\n",
    "});"
   ]
  },
  {
   "cell_type": "markdown",
   "metadata": {},
   "source": [
    "** Native ECMAScript 2015 modules SimpleModule.js"
   ]
  },
  {
   "cell_type": "code",
   "execution_count": null,
   "metadata": {
    "collapsed": true
   },
   "outputs": [],
   "source": [
    "import { something } from \"./mod\";\n",
    "export let t = something + 1;"
   ]
  },
  {
   "cell_type": "markdown",
   "metadata": {},
   "source": [
    "## 简单示例\n",
    "\n",
    "下面我们来整理一下前面的验证器实现，每个模块只有一个命名的导出。\n",
    "\n",
    "为了编译，我们必需要在命令行上指定一个模块目标。对于 `Node.js` 来说，使用 `--module commonjs`； 对于 `Require.js` 来说，使用 `--module amd`。比如：\n",
    "\n",
    "```bash\n",
    "tsc --module commonjs Test.ts\n",
    "```\n",
    "\n",
    "编译完成后，每个模块会生成一个单独的.js文件。 好比使用了reference标签，编译器会根据 `import` 语句编译相应的文件。"
   ]
  },
  {
   "cell_type": "markdown",
   "metadata": {},
   "source": [
    "** Validation.ts"
   ]
  },
  {
   "cell_type": "code",
   "execution_count": null,
   "metadata": {
    "collapsed": true
   },
   "outputs": [],
   "source": [
    "export interface StringValidator {\n",
    "    isAcceptable(s: string): boolean;\n",
    "}\n",
    "LettersOnlyValidator.ts\n",
    "\n",
    "import { StringValidator } from \"./Validation\";\n",
    "\n",
    "const lettersRegexp = /^[A-Za-z]+$/;\n",
    "\n",
    "export class LettersOnlyValidator implements StringValidator {\n",
    "    isAcceptable(s: string) {\n",
    "        return lettersRegexp.test(s);\n",
    "    }\n",
    "}"
   ]
  },
  {
   "cell_type": "markdown",
   "metadata": {},
   "source": [
    "** ZipCodeValidator.ts"
   ]
  },
  {
   "cell_type": "code",
   "execution_count": null,
   "metadata": {
    "collapsed": true
   },
   "outputs": [],
   "source": [
    "import { StringValidator } from \"./Validation\";\n",
    "\n",
    "const numberRegexp = /^[0-9]+$/;\n",
    "\n",
    "export class ZipCodeValidator implements StringValidator {\n",
    "    isAcceptable(s: string) {\n",
    "        return s.length === 5 && numberRegexp.test(s);\n",
    "    }\n",
    "}"
   ]
  },
  {
   "cell_type": "markdown",
   "metadata": {},
   "source": [
    "** Test.ts"
   ]
  },
  {
   "cell_type": "code",
   "execution_count": null,
   "metadata": {
    "collapsed": true
   },
   "outputs": [],
   "source": [
    "import { StringValidator } from \"./Validation\";\n",
    "import { ZipCodeValidator } from \"./ZipCodeValidator\";\n",
    "import { LettersOnlyValidator } from \"./LettersOnlyValidator\";\n",
    "\n",
    "// Some samples to try\n",
    "let strings = [\"Hello\", \"98052\", \"101\"];\n",
    "\n",
    "// Validators to use\n",
    "let validators: { [s: string]: StringValidator; } = {};\n",
    "validators[\"ZIP code\"] = new ZipCodeValidator();\n",
    "validators[\"Letters only\"] = new LettersOnlyValidator();\n",
    "\n",
    "// Show whether each string passed each validator\n",
    "strings.forEach(s => {\n",
    "    for (let name in validators) {\n",
    "        console.log(`\"${ s }\" - ${ validators[name].isAcceptable(s) ? \"matches\" : \"does not match\" } ${ name }`);\n",
    "    }\n",
    "});"
   ]
  },
  {
   "cell_type": "markdown",
   "metadata": {},
   "source": [
    "## 可选的模块加载和其它高级加载场景\n",
    "\n",
    "有时候，你只想在某种条件下才加载某个模块。 在TypeScript里，使用下面的方式来实现它和其它的高级加载场景，我们可以直接调用模块加载器并且可以保证类型完全。\n",
    "\n",
    "编译器会检测是否每个模块都会在生成的JavaScript中用到。 如果一个模块标识符只在类型注解部分使用，并且完全没有在表达式中使用时，就不会生成require这个模块的代码。 省略掉没有用到的引用对性能提升是很有益的，并同时提供了选择性加载模块的能力。\n",
    "\n",
    "这种模式的核心是 `import id = require(\"...\")` 语句可以让我们访问模块导出的类型。 模块加载器会被动态调用（通过 `require` ），就像下面if代码块里那样。 它利用了省略引用的优化，所以模块只在被需要时加载。 为了让这个模块工作，一定要注意 `import` 定义的标识符只能在表示类型处使用（不能在会转换成JavaScript的地方）。\n",
    "\n",
    "为了确保类型安全性，我们可以使用 `typeof` 关键字。 `typeof` 关键字，当在表示类型的地方使用时，会得出一个类型值，这里就表示模块的类型。\n",
    "\n",
    "示例：`Node.js` 里的动态模块加载"
   ]
  },
  {
   "cell_type": "code",
   "execution_count": null,
   "metadata": {
    "collapsed": true
   },
   "outputs": [],
   "source": [
    "declare function require(moduleName: string): any;\n",
    "\n",
    "import { ZipCodeValidator as Zip } from \"./ZipCodeValidator\";\n",
    "\n",
    "if (needZipValidation) {\n",
    "    let ZipCodeValidator: typeof Zip = require(\"./ZipCodeValidator\");\n",
    "    let validator = new ZipCodeValidator();\n",
    "    if (validator.isAcceptable(\"...\")) { /* ... */ }\n",
    "}"
   ]
  },
  {
   "cell_type": "markdown",
   "metadata": {},
   "source": [
    "示例：require.js里的动态模块加载"
   ]
  },
  {
   "cell_type": "code",
   "execution_count": null,
   "metadata": {
    "collapsed": true
   },
   "outputs": [],
   "source": [
    "declare function require(moduleNames: string[], onLoad: (...args: any[]) => void): void;\n",
    "\n",
    "import { ZipCodeValidator as Zip } from \"./ZipCodeValidator\";\n",
    "\n",
    "if (needZipValidation) {\n",
    "    require([\"./ZipCodeValidator\"], (ZipCodeValidator: typeof Zip) => {\n",
    "        let validator = new ZipCodeValidator();\n",
    "        if (validator.isAcceptable(\"...\")) { /* ... */ }\n",
    "    });\n",
    "}"
   ]
  },
  {
   "cell_type": "markdown",
   "metadata": {},
   "source": [
    "示例：`System.js`里的动态模块加载"
   ]
  },
  {
   "cell_type": "code",
   "execution_count": null,
   "metadata": {
    "collapsed": true
   },
   "outputs": [],
   "source": [
    "declare let System: any;\n",
    "\n",
    "import { ZipCodeValidator as Zip } from \"./ZipCodeValidator\";\n",
    "\n",
    "if (needZipValidation) {\n",
    "    System.import(\"./ZipCodeValidator\").then((ZipCodeValidator: typeof Zip) => {\n",
    "        let x = new ZipCodeValidator();\n",
    "        if (x.isAcceptable(\"...\")) { /* ... */ }\n",
    "    });\n",
    "}"
   ]
  },
  {
   "cell_type": "markdown",
   "metadata": {},
   "source": [
    "### 使用其它的JavaScript库\n",
    "\n",
    "要想描述非TypeScript编写的类库的类型，我们需要声明类库所暴露出的API。\n",
    "\n",
    "我们叫它声明因为它不是“外部程序”的具体实现。 它们通常是在.d.ts文件里定义的。 如果你熟悉C/C++，你可以把它们当做.h文件。 让我们看一些例子。\n",
    "\n",
    "## 外部模块\n",
    "\n",
    "在Node.js里大部分工作是通过加载一个或多个模块实现的。 我们可以使用顶级的export声明来为每个模块都定义一个.d.ts文件，但最好还是写在一个大的.d.ts文件里。 我们使用与构造一个外部命名空间相似的方法，但是这里使用module关键字并且把名字用引号括起来，方便之后import。 例如："
   ]
  },
  {
   "cell_type": "code",
   "execution_count": null,
   "metadata": {
    "collapsed": true
   },
   "outputs": [],
   "source": [
    "// node.d.ts (simplified excerpt)\n",
    "\n",
    "declare module \"url\" {\n",
    "    export interface Url {\n",
    "        protocol?: string;\n",
    "        hostname?: string;\n",
    "        pathname?: string;\n",
    "    }\n",
    "\n",
    "    export function parse(urlStr: string, parseQueryString?, slashesDenoteHost?): Url;\n",
    "}\n",
    "\n",
    "declare module \"path\" {\n",
    "    export function normalize(p: string): string;\n",
    "    export function join(...paths: any[]): string;\n",
    "    export let sep: string;\n",
    "}"
   ]
  },
  {
   "cell_type": "markdown",
   "metadata": {},
   "source": [
    "现在我们可以/// <reference> node.d.ts并且使用import url = require(\"url\");加载模块。"
   ]
  },
  {
   "cell_type": "code",
   "execution_count": null,
   "metadata": {
    "collapsed": true
   },
   "outputs": [],
   "source": [
    "/// <reference path=\"node.d.ts\"/>\n",
    "import * as URL from \"url\";\n",
    "let myUrl = URL.parse(\"http://www.typescriptlang.org\");"
   ]
  },
  {
   "cell_type": "markdown",
   "metadata": {},
   "source": [
    "### 外部模块简写\n",
    "\n",
    "假如你不想在使用一个新模块之前花时间去编写声明，你可以采用声明的简写形式以便能够快速使用它。"
   ]
  },
  {
   "cell_type": "code",
   "execution_count": null,
   "metadata": {
    "collapsed": true
   },
   "outputs": [],
   "source": [
    "// declarations.d.ts\n",
    "\n",
    "declare module \"hot-new-module\";"
   ]
  },
  {
   "cell_type": "markdown",
   "metadata": {},
   "source": [
    "简写模块里所有导出的类型将是any。"
   ]
  },
  {
   "cell_type": "code",
   "execution_count": null,
   "metadata": {
    "collapsed": true
   },
   "outputs": [],
   "source": [
    "import x, {y} from \"hot-new-module\";\n",
    "x(y);"
   ]
  },
  {
   "cell_type": "markdown",
   "metadata": {},
   "source": [
    "### 模块声明通配符\n",
    "\n",
    "某些模块加载器如SystemJS 和AMD支持导入非JavaScript内容。 它们通常会使用一个前缀或后缀来表示特殊的加载语法。 模块声明通配符可以用来表示这些情况。"
   ]
  },
  {
   "cell_type": "code",
   "execution_count": null,
   "metadata": {
    "collapsed": true
   },
   "outputs": [],
   "source": [
    "declare module \"*!text\" {\n",
    "    const content: string;\n",
    "    export default content;\n",
    "}\n",
    "// Some do it the other way around.\n",
    "declare module \"json!*\" {\n",
    "    const value: any;\n",
    "    export default value;\n",
    "}"
   ]
  },
  {
   "cell_type": "markdown",
   "metadata": {},
   "source": [
    "现在你可以就导入匹配 `\"*!text\"` 或 `\"json!*\"` 的内容了。"
   ]
  },
  {
   "cell_type": "code",
   "execution_count": null,
   "metadata": {
    "collapsed": true
   },
   "outputs": [],
   "source": [
    "import fileContent from \"./xyz.txt!text\";\n",
    "import data from \"json!http://example.com/data.json\";\n",
    "console.log(data, fileContent);"
   ]
  },
  {
   "cell_type": "markdown",
   "metadata": {},
   "source": [
    "UMD模块\n",
    "\n",
    "有些模块被设计成兼容多个模块加载器，或者不使用模块加载器（全局变量）。 它们以UMD或Isomorphic模块为代表。 这些库可以通过导入的形式或全局变量的形式访问。 例如："
   ]
  },
  {
   "cell_type": "code",
   "execution_count": null,
   "metadata": {
    "collapsed": true
   },
   "outputs": [],
   "source": [
    "// math-lib.d.ts\n",
    "\n",
    "export const isPrime(x: number): boolean;\n",
    "export as namespace mathLib;"
   ]
  },
  {
   "cell_type": "markdown",
   "metadata": {},
   "source": [
    "之后，这个库可以在某个模块里通过导入来使用："
   ]
  },
  {
   "cell_type": "code",
   "execution_count": null,
   "metadata": {
    "collapsed": true
   },
   "outputs": [],
   "source": [
    "import { isPrime } from \"math-lib\";\n",
    "isPrime(2);\n",
    "mathLib.isPrime(2); // ERROR: can't use the global definition from inside a module"
   ]
  },
  {
   "cell_type": "markdown",
   "metadata": {},
   "source": [
    "它同样可以通过全局变量的形式使用，但只能在某个脚本里。 （脚本是指一个不带有导入或导出的文件。）"
   ]
  },
  {
   "cell_type": "code",
   "execution_count": null,
   "metadata": {
    "collapsed": true
   },
   "outputs": [],
   "source": [
    "mathLib.isPrime(2);"
   ]
  },
  {
   "cell_type": "markdown",
   "metadata": {},
   "source": [
    "创建模块结构指导\n",
    "\n",
    "尽可能地在顶层导出\n",
    "\n",
    "用户应该更容易地使用你模块导出的内容。 嵌套层次过多会变得难以处理，因此仔细考虑一下如何组织你的代码。\n",
    "\n",
    "从你的模块中导出一个命名空间就是一个增加嵌套的例子。 虽然命名空间有时候有它们的用处，在使用模块的时候它们额外地增加了一层。 这对用户来说是很不便的并且通常是多余的。\n",
    "\n",
    "导出类的静态方法也有同样的问题 - 这个类本身就增加了一层嵌套。 除非它能方便表述或便于清晰使用，否则请考虑直接导出一个辅助方法。\n",
    "\n",
    "如果仅导出单个 `class` 或 `function`，使用 `export default`\n",
    "\n",
    "就像“在顶层上导出”帮助减少用户使用的难度，一个默认的导出也能起到这个效果。 如果一个模块就是为了导出特定的内容，那么你应该考虑使用一个默认导出。 这会令模块的导入和使用变得些许简单。 比如："
   ]
  },
  {
   "cell_type": "code",
   "execution_count": null,
   "metadata": {
    "collapsed": true
   },
   "outputs": [],
   "source": [
    "// MyClass.ts\n",
    "\n",
    "export default class SomeType {\n",
    "  constructor() { ... }\n",
    "}\n",
    "MyFunc.ts\n",
    "\n",
    "export default function getThing() { return 'thing'; }\n",
    "Consumer.ts\n",
    "\n",
    "import t from \"./MyClass\";\n",
    "import f from \"./MyFunc\";\n",
    "let x = new t();\n",
    "console.log(f());"
   ]
  },
  {
   "cell_type": "markdown",
   "metadata": {},
   "source": [
    "对用户来说这是最理想的。他们可以随意命名导入模块的类型（本例为t）并且不需要多余的（.）来找到相关对象。\n",
    "\n",
    "如果要导出多个对象，把它们放在顶层里导出"
   ]
  },
  {
   "cell_type": "code",
   "execution_count": null,
   "metadata": {
    "collapsed": true
   },
   "outputs": [],
   "source": [
    "// MyThings.ts\n",
    "\n",
    "export class SomeType { /* ... */ }\n",
    "export function someFunc() { /* ... */ }"
   ]
  },
  {
   "cell_type": "markdown",
   "metadata": {},
   "source": [
    "相反地，当导入的时候：\n",
    "\n",
    "明确地列出导入的名字"
   ]
  },
  {
   "cell_type": "code",
   "execution_count": null,
   "metadata": {
    "collapsed": true
   },
   "outputs": [],
   "source": [
    "// Consumer.ts\n",
    "\n",
    "import { SomeType, SomeFunc } from \"./MyThings\";\n",
    "let x = new SomeType();\n",
    "let y = someFunc();"
   ]
  },
  {
   "cell_type": "markdown",
   "metadata": {},
   "source": [
    "使用命名空间导入模式当你要导出大量内容的时候"
   ]
  },
  {
   "cell_type": "code",
   "execution_count": null,
   "metadata": {
    "collapsed": true
   },
   "outputs": [],
   "source": [
    "// MyLargeModule.ts\n",
    "\n",
    "export class Dog { ... }\n",
    "export class Cat { ... }\n",
    "export class Tree { ... }\n",
    "export class Flower { ... }\n",
    "Consumer.ts\n",
    "\n",
    "import * as myLargeModule from \"./MyLargeModule.ts\";\n",
    "let x = new myLargeModule.Dog();"
   ]
  },
  {
   "cell_type": "markdown",
   "metadata": {},
   "source": [
    "### 使用重新导出进行扩展\n",
    "\n",
    "你可能经常需要去扩展一个模块的功能。 JS里常用的一个模式是JQuery那样去扩展原对象。 如我们之前提到的，模块不会像全局命名空间对象那样去合并。 推荐的方案是不要去改变原来的对象，而是导出一个新的实体来提供新的功能。\n",
    "\n",
    "假设Calculator.ts模块里定义了一个简单的计算器实现。 这个模块同样提供了一个辅助函数来测试计算器的功能，通过传入一系列输入的字符串并在最后给出结果。"
   ]
  },
  {
   "cell_type": "code",
   "execution_count": null,
   "metadata": {
    "collapsed": true
   },
   "outputs": [],
   "source": [
    "Calculator.ts\n",
    "\n",
    "export class Calculator {\n",
    "    private current = 0;\n",
    "    private memory = 0;\n",
    "    private operator: string;\n",
    "\n",
    "    protected processDigit(digit: string, currentValue: number) {\n",
    "        if (digit >= \"0\" && digit <= \"9\") {\n",
    "            return currentValue * 10 + (digit.charCodeAt(0) - \"0\".charCodeAt(0));\n",
    "        }\n",
    "    }\n",
    "\n",
    "    protected processOperator(operator: string) {\n",
    "        if ([\"+\", \"-\", \"*\", \"/\"].indexOf(operator) >= 0) {\n",
    "            return operator;\n",
    "        }\n",
    "    }\n",
    "\n",
    "    protected evaluateOperator(operator: string, left: number, right: number): number {\n",
    "        switch (this.operator) {\n",
    "            case \"+\": return left + right;\n",
    "            case \"-\": return left - right;\n",
    "            case \"*\": return left * right;\n",
    "            case \"/\": return left / right;\n",
    "        }\n",
    "    }\n",
    "\n",
    "    private evaluate() {\n",
    "        if (this.operator) {\n",
    "            this.memory = this.evaluateOperator(this.operator, this.memory, this.current);\n",
    "        }\n",
    "        else {\n",
    "            this.memory = this.current;\n",
    "        }\n",
    "        this.current = 0;\n",
    "    }\n",
    "\n",
    "    public handelChar(char: string) {\n",
    "        if (char === \"=\") {\n",
    "            this.evaluate();\n",
    "            return;\n",
    "        }\n",
    "        else {\n",
    "            let value = this.processDigit(char, this.current);\n",
    "            if (value !== undefined) {\n",
    "                this.current = value;\n",
    "                return;\n",
    "            }\n",
    "            else {\n",
    "                let value = this.processOperator(char);\n",
    "                if (value !== undefined) {\n",
    "                    this.evaluate();\n",
    "                    this.operator = value;\n",
    "                    return;\n",
    "                }\n",
    "            }\n",
    "        }\n",
    "        throw new Error(`Unsupported input: '${char}'`);\n",
    "    }\n",
    "\n",
    "    public getResult() {\n",
    "        return this.memory;\n",
    "    }\n",
    "}\n",
    "\n",
    "export function test(c: Calculator, input: string) {\n",
    "    for (let i = 0; i < input.length; i++) {\n",
    "        c.handelChar(input[i]);\n",
    "    }\n",
    "\n",
    "    console.log(`result of '${input}' is '${c.getResult()}'`);\n",
    "}"
   ]
  },
  {
   "cell_type": "markdown",
   "metadata": {},
   "source": [
    "这是使用导出的test函数来测试计算器。"
   ]
  },
  {
   "cell_type": "code",
   "execution_count": null,
   "metadata": {
    "collapsed": true
   },
   "outputs": [],
   "source": [
    "// TestCalculator.ts\n",
    "\n",
    "import { Calculator, test } from \"./Calculator\";\n",
    "\n",
    "\n",
    "let c = new Calculator();\n",
    "test(c, \"1+2*33/11=\"); // prints 9"
   ]
  },
  {
   "cell_type": "markdown",
   "metadata": {},
   "source": [
    "现在扩展它，添加支持输入其它进制（十进制以外），让我们来创建 ProgrammerCalculator.ts。\n",
    "\n",
    "** ProgrammerCalculator.ts **"
   ]
  },
  {
   "cell_type": "code",
   "execution_count": null,
   "metadata": {
    "collapsed": true
   },
   "outputs": [],
   "source": [
    "import { Calculator } from \"./Calculator\";\n",
    "\n",
    "class ProgrammerCalculator extends Calculator {\n",
    "    static digits = [\"0\", \"1\", \"2\", \"3\", \"4\", \"5\", \"6\", \"7\", \"8\", \"9\", \"A\", \"B\", \"C\", \"D\", \"E\", \"F\"];\n",
    "\n",
    "    constructor(public base: number) {\n",
    "        super();\n",
    "        if (base <= 0 || base > ProgrammerCalculator.digits.length) {\n",
    "            throw new Error(\"base has to be within 0 to 16 inclusive.\");\n",
    "        }\n",
    "    }\n",
    "\n",
    "    protected processDigit(digit: string, currentValue: number) {\n",
    "        if (ProgrammerCalculator.digits.indexOf(digit) >= 0) {\n",
    "            return currentValue * this.base + ProgrammerCalculator.digits.indexOf(digit);\n",
    "        }\n",
    "    }\n",
    "}\n",
    "\n",
    "// Export the new extended calculator as Calculator\n",
    "export { ProgrammerCalculator as Calculator };\n",
    "\n",
    "// Also, export the helper function\n",
    "export { test } from \"./Calculator\";"
   ]
  },
  {
   "cell_type": "markdown",
   "metadata": {},
   "source": [
    "新的ProgrammerCalculator模块导出的API与原先的Calculator模块很相似，但却没有改变原模块里的对象。 下面是测试ProgrammerCalculator类的代码：\n",
    "\n",
    "**TestProgrammerCalculator.ts**"
   ]
  },
  {
   "cell_type": "code",
   "execution_count": null,
   "metadata": {
    "collapsed": true
   },
   "outputs": [],
   "source": [
    "import { Calculator, test } from \"./ProgrammerCalculator\";\n",
    "\n",
    "let c = new Calculator(2);\n",
    "test(c, \"001+010=\"); // prints 3"
   ]
  },
  {
   "cell_type": "markdown",
   "metadata": {},
   "source": [
    "### 模块里不要使用命名空间\n",
    "\n",
    "当初次进入基于模块的开发模式时，可能总会控制不住要将导出包裹在一个命名空间里。 模块具有其自己的作用域，并且只有导出的声明才会在模块外部可见。 记住这点，命名空间在使用模块时几乎没什么价值。\n",
    "\n",
    "在组织方面，命名空间对于在全局作用域内对逻辑上相关的对象和类型进行分组是很便利的。 例如，在C#里，你会从 `System.Collections` 里找到所有集合的类型。 通过将类型有层次地组织在命名空间里，可以方便用户找到与使用那些类型。 然而，模块本身已经存在于文件系统之中，这是必须的。 我们必须通过路径和文件名找到它们，这已经提供了一种逻辑上的组织形式。 我们可以创建 `/collections/generic/` 文件夹，把相应模块放在这里面。\n",
    "\n",
    "命名空间对解决全局作用域里命名冲突来说是很重要的。 比如，你可以有一个`My.Application.Customer.AddForm` 和 `My.Application.Order.AddForm` -- 两个类型的名字相同，但命名空间不同。 然而，这对于模块来说却不是一个问题。 在一个模块里，没有理由两个对象拥有同一个名字。 从模块的使用角度来说，使用者会挑出他们用来引用模块的名字，所以也没有理由发生重名的情况。\n",
    "\n",
    "更多关于模块和命名空间的资料查看命名空间和模块\n",
    "\n",
    "## 危险信号\n",
    "\n",
    "以下均为模块结构上的危险信号。重新检查以确保你没有在对模块使用命名空间：\n",
    "\n",
    "* 文件的顶层声明是 `export namespace Foo { ... }` （删除 `Foo` 并把所有内容向上层移动一层）\n",
    "* 文件只有一个 `export class` 或 `export function` （考虑使用 `export default`）\n",
    "* 多个文件的顶层具有同样的 `export namespace Foo {` （不要以为这些会合并到一个 `Foo` 中！）\n",
    "\n",
    "[原文](http://www.runoob.com/manual/gitbook/TypeScript/_book/doc/handbook/Modules.html)"
   ]
  }
 ],
 "metadata": {
  "kernelspec": {
   "display_name": "Javascript (Node.js)",
   "language": "javascript",
   "name": "javascript"
  }
 },
 "nbformat": 4,
 "nbformat_minor": 2
}
