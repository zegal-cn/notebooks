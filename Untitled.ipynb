{
 "cells": [
  {
   "cell_type": "markdown",
   "metadata": {},
   "source": [
    "# Course Arrangement\n",
    "\n",
    "## 模型 Model\n",
    "\n",
    "0-1 整数规划(0-1 Integer Linear Programming)\n",
    "\n",
    "### 约束条件 Constants\n",
    "\n",
    "Field   | Max_Number   | desc\n",
    "---------|---------------|----------\n",
    "Grade   | max_grade    |\n",
    "Claxx   | max_claxx    |\n",
    "Weekday  | max_weekday  |\n",
    "Lesson  | max_lesson   |\n",
    "Teacher | max_teacher  |\n",
    "\n",
    "* 班级 claxx\n",
    "\n",
    "年级和班级设置：\n",
    "\n",
    "claxx_id | name     | grade_id\n",
    "---------|------------|----------\n",
    "1      | 一班     | 1\n",
    "2      | 二班     | 1\n",
    "...     | ...      | ...\n",
    "\n",
    "max_grade   <- 1\n",
    "max_claxx   <- 4\n",
    "max_weekday <- 5\n",
    "max_lesson  <- 6\n",
    "max_teacher <- 20"
   ]
  },
  {
   "cell_type": "code",
   "execution_count": 35,
   "metadata": {
    "collapsed": false
   },
   "outputs": [
    {
     "data": {
      "text/html": [
       "2"
      ],
      "text/latex": [
       "2"
      ],
      "text/markdown": [
       "2"
      ],
      "text/plain": [
       "[1] 2"
      ]
     },
     "metadata": {},
     "output_type": "display_data"
    },
    {
     "data": {
      "text/html": [
       "<ol class=list-inline>\n",
       "\t<li>11</li>\n",
       "\t<li>11</li>\n",
       "</ol>\n"
      ],
      "text/latex": [
       "\\begin{enumerate*}\n",
       "\\item 11\n",
       "\\item 11\n",
       "\\end{enumerate*}\n"
      ],
      "text/markdown": [
       "1. 11\n",
       "2. 11\n",
       "\n",
       "\n"
      ],
      "text/plain": [
       "[1] 11 11"
      ]
     },
     "metadata": {},
     "output_type": "display_data"
    }
   ],
   "source": [
    "mclaxx <- matrix(c(1, 1, 2, 1, 3, 1, 4, 1, 5, 1, 6, 2, 7, 2, 8, 2, 9, 2, 10, 2, 11, 2), \n",
    "                 ncol=2, byrow=TRUE)\n",
    "\n",
    "max_grade <- length(unique(mclaxx[,2]))\n",
    "\n",
    "# max_claxx <-\n"
   ]
  },
  {
   "cell_type": "markdown",
   "metadata": {},
   "source": [
    "* 科目 Course\n",
    "\n",
    "grade_id | course_id | number_course\n",
    "---------|-----------|---------------\n",
    "1      | 1      | 10\n",
    "1      | 2      | 10\n",
    "1      | 3      | 5\n",
    "1      | 4      | 5\n",
    "...    |...     | ...\n"
   ]
  },
  {
   "cell_type": "code",
   "execution_count": 4,
   "metadata": {
    "collapsed": false
   },
   "outputs": [],
   "source": [
    "cmatrix <- matrix(c(1, 1, 10, 1, 2, 10, 1, 3, 5, 1, 4, 5, 1, 5, 2, 1, 6, 2, 1, 7, 2), \n",
    "                  ncol=3, byrow = TRUE)"
   ]
  },
  {
   "cell_type": "markdown",
   "metadata": {},
   "source": [
    "* 课程 Lesson\n",
    "\n",
    "claxx_id | teacher_id | course_id | number_lesson\n",
    "---------|----------|------------|-----------------\n",
    " 1     | 1      | 1       | 10\n",
    " 1     | 1      | 2       | 10\n",
    " 1     | 1      | 3       | 5\n",
    " 1     | 1      | 4       | 5"
   ]
  },
  {
   "cell_type": "code",
   "execution_count": 5,
   "metadata": {
    "collapsed": false
   },
   "outputs": [],
   "source": [
    "lmatrix <- matrix(c(1, 1, 1, 10, 1, 2, 2, 10, 1, 3, 3, 5, 1, 4, 4, 5, 1, 5, 5, 2, 1, 6, 6, 2, 1, 7, 7, 2), \n",
    "                  ncol=4, byrow = TRUE)"
   ]
  },
  {
   "cell_type": "code",
   "execution_count": null,
   "metadata": {
    "collapsed": true
   },
   "outputs": [],
   "source": []
  },
  {
   "cell_type": "code",
   "execution_count": 6,
   "metadata": {
    "collapsed": true
   },
   "outputs": [],
   "source": [
    "\n",
    "\n",
    "ncourse_morning = 4    # 上午课时数\n",
    "ncourse_afternoon = 2  # 下午课时数\n",
    "ncourse <- ncourse_morning + ncourse_afternoon"
   ]
  },
  {
   "cell_type": "code",
   "execution_count": 7,
   "metadata": {
    "collapsed": false
   },
   "outputs": [
    {
     "data": {
      "text/html": [
       "<table>\n",
       "<tbody>\n",
       "\t<tr><td>1 </td><td>1 </td><td>10</td></tr>\n",
       "\t<tr><td>1 </td><td>2 </td><td>10</td></tr>\n",
       "\t<tr><td>1 </td><td>3 </td><td> 5</td></tr>\n",
       "\t<tr><td>1 </td><td>3 </td><td> 5</td></tr>\n",
       "</tbody>\n",
       "</table>\n"
      ],
      "text/latex": [
       "\\begin{tabular}{lll}\n",
       "\t 1  & 1  & 10\\\\\n",
       "\t 1  & 2  & 10\\\\\n",
       "\t 1  & 3  &  5\\\\\n",
       "\t 1  & 3  &  5\\\\\n",
       "\\end{tabular}\n"
      ],
      "text/markdown": [
       "\n",
       "| 1  | 1  | 10 | \n",
       "| 1  | 2  | 10 | \n",
       "| 1  | 3  |  5 | \n",
       "| 1  | 3  |  5 | \n",
       "\n",
       "\n"
      ],
      "text/plain": [
       "     [,1] [,2] [,3]\n",
       "[1,] 1    1    10  \n",
       "[2,] 1    2    10  \n",
       "[3,] 1    3     5  \n",
       "[4,] 1    3     5  "
      ]
     },
     "metadata": {},
     "output_type": "display_data"
    }
   ],
   "source": [
    "lmatrix <- matrix(c(1, 1, 10, 1, 2, 10, 1, 3, 5, 1, 3, 5), ncol=3, byrow = TRUE)"
   ]
  }
 ],
 "metadata": {
  "kernelspec": {
   "display_name": "R",
   "language": "R",
   "name": "ir"
  },
  "language_info": {
   "codemirror_mode": "r",
   "file_extension": ".r",
   "mimetype": "text/x-r-source",
   "name": "R",
   "pygments_lexer": "r",
   "version": "3.3.2"
  }
 },
 "nbformat": 4,
 "nbformat_minor": 2
}
