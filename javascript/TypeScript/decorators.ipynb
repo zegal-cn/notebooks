{
 "cells": [
  {
   "cell_type": "markdown",
   "metadata": {},
   "source": [
    "# 装饰器\n",
    "\n",
    "## 介绍\n",
    "\n",
    "随着TypeScript和ES6里引入了类，在一些场景下我们需要额外的特性来支持标注或修改类及其成员。 装饰器（Decorators）为我们在类的声明及成员上通过元编程语法添加标注提供了一种方式。 Javascript 里的装饰器目前处在 建议征集的第二阶段，但在TypeScript里已做为一项实验性特性予以支持。\n",
    "\n",
    "> 注意  装饰器是一项实验性特性，在未来的版本中可能会发生改变。\n",
    "\n",
    "若要启用实验性的装饰器特性，你必须在命令行或 tsconfig.json 里启用 experimentalDecorators 编译器选项：\n",
    "\n",
    "命令行:\n",
    "\n",
    "```bash\n",
    "tsc --target ES5 --experimentalDecorators\n",
    "```\n",
    "\n",
    "tsconfig.json:\n",
    "\n",
    "```json\n",
    "{\n",
    "    \"compilerOptions\": {\n",
    "        \"target\": \"ES5\",\n",
    "        \"experimentalDecorators\": true\n",
    "    }\n",
    "}\n",
    "```\n",
    "\n",
    "## 装饰器\n",
    "\n",
    "装饰器是一种特殊类型的声明，它能够被附加到类声明，方法， 访问符，属性或参数上。 装饰器使用 @expression 这种形式，expression 求值后必须为一个函数，它会在运行时被调用，被装饰的声明信息做为参数传入。\n",
    "\n",
    "例如，有一个@sealed装饰器，我们会这样定义sealed函数：\n",
    "\n",
    "```js\n",
    "function sealed(target) {\n",
    "    // do something with \"target\" ...\n",
    "}\n",
    "```\n",
    "\n",
    "> 注意  后面类装饰器小节里有一个更加详细的例子。\n",
    "\n",
    "### 装饰器工厂\n",
    "\n",
    "如果我们要定制一个修饰器如何应用到一个声明上，我们得写一个装饰器工厂函数。 装饰器工厂就是一个简单的函数，它返回一个表达式，以供装饰器在运行时调用。\n",
    "\n",
    "我们可以通过下面的方式来写一个装饰器工厂函数：\n",
    "\n",
    "```js\n",
    "function color(value: string) { // 这是一个装饰器工厂\n",
    "    return function (target) { //  这是装饰器\n",
    "        // do something with \"target\" and \"value\"...\n",
    "    }\n",
    "}\n",
    "```\n",
    "\n",
    "> 注意  下面方法装饰器小节里有一个更加详细的例子。\n",
    "\n",
    "### 装饰器组合\n",
    "\n",
    "多个装饰器可以同时应用到一个声明上，就像下面的示例：\n",
    "\n",
    "书写在同一行上：\n",
    "\n",
    "```js\n",
    "@f @g x\n",
    "```\n",
    "\n",
    "书写在多行上：\n",
    "\n",
    "```js\n",
    "@f\n",
    "@g\n",
    "x\n",
    "```\n",
    "\n",
    "当多个装饰器应用于一个声明上，它们求值方式与复合函数相似。在这个模型下，当复合f和g时，复合的结果(f ∘ g)(x)等同于f(g(x))。\n",
    "\n",
    "同样的，在TypeScript里，当多个装饰器应用在一个声明上时会进行如下步骤的操作：\n",
    "\n",
    "由上至下依次对装饰器表达式求值。\n",
    "求值的结果会被当作函数，由下至上依次调用。\n",
    "如果我们使用装饰器工厂的话，可以通过下面的例子来观察它们求值的顺序：\n",
    "\n"
   ]
  },
  {
   "cell_type": "code",
   "execution_count": 1,
   "metadata": {},
   "outputs": [
    {
     "name": "stdout",
     "output_type": "stream",
     "text": [
      "f(): evaluated\n",
      "g(): evaluated\n",
      "g(): called\n",
      "f(): called\n"
     ]
    },
    {
     "data": {
      "text/plain": [
       "undefined"
      ]
     },
     "execution_count": 1,
     "metadata": {},
     "output_type": "execute_result"
    }
   ],
   "source": [
    "function f() {\n",
    "    console.log(\"f(): evaluated\");\n",
    "    return function (target, propertyKey: string, descriptor: PropertyDescriptor) {\n",
    "        console.log(\"f(): called\");\n",
    "    }\n",
    "}\n",
    "\n",
    "function g() {\n",
    "    console.log(\"g(): evaluated\");\n",
    "    return function (target, propertyKey: string, descriptor: PropertyDescriptor) {\n",
    "        console.log(\"g(): called\");\n",
    "    }\n",
    "}\n",
    "\n",
    "class C {\n",
    "    @f()\n",
    "    @g()\n",
    "    method() {}\n",
    "}"
   ]
  },
  {
   "cell_type": "markdown",
   "metadata": {},
   "source": [
    "### 装饰器求值\n",
    "\n",
    "类中不同声明上的装饰器将按以下规定的顺序应用：\n",
    "\n",
    "- 参数装饰器，然后依次是方法装饰器，访问符装饰器，或属性装饰器应用到每个实例成员。\n",
    "- 参数装饰器，然后依次是方法装饰器，访问符装饰器，或属性装饰器应用到每个静态成员。\n",
    "- 参数装饰器应用到构造函数。\n",
    "- 类装饰器应用到类。\n",
    "\n",
    "\n",
    "### 类装饰器\n",
    "\n",
    "类装饰器在类声明之前被声明（紧靠着类声明）。 类装饰器应用于类构造函数，可以用来监视，修改或替换类定义。 类装饰器不能用在声明文件中( .d.ts)，也不能用在任何外部上下文中（比如 declare 的类）。\n",
    "\n",
    "类装饰器表达式会在运行时当作函数被调用，类的构造函数作为其唯一的参数。\n",
    "\n",
    "如果类装饰器返回一个值，它会使用提供的构造函数来替换类的声明。\n",
    "\n",
    "> 注意  如果你要返回一个新的构造函数，你必须注意处理好原来的原型链。 在运行时的装饰器调用逻辑中 不会为你做这些。\n",
    "\n",
    "下面是使用类装饰器(@sealed)的例子，应用在Greeter类："
   ]
  },
  {
   "cell_type": "code",
   "execution_count": 2,
   "metadata": {},
   "outputs": [
    {
     "data": {
      "text/plain": [
       "undefined"
      ]
     },
     "execution_count": 2,
     "metadata": {},
     "output_type": "execute_result"
    }
   ],
   "source": [
    "function sealed(constructor: Function) {\n",
    "    Object.seal(constructor);\n",
    "    Object.seal(constructor.prototype);\n",
    "}\n",
    "\n",
    "@sealed\n",
    "class Greeter {\n",
    "    greeting: string;\n",
    "    constructor(message: string) {\n",
    "        this.greeting = message;\n",
    "    }\n",
    "    greet() {\n",
    "        return \"Hello, \" + this.greeting;\n",
    "    }\n",
    "}"
   ]
  },
  {
   "cell_type": "markdown",
   "metadata": {},
   "source": [
    "当 `@sealed` 被执行的时候，它将密封此类的构造函数和原型。(注：参见[Object.seal](https://developer.mozilla.org/zh-CN/docs/Web/JavaScript/Reference/Global_Objects/Object/seal))\n",
    "\n",
    "下面是一个重载构造函数的例子。"
   ]
  },
  {
   "cell_type": "code",
   "execution_count": 3,
   "metadata": {},
   "outputs": [
    {
     "name": "stdout",
     "output_type": "stream",
     "text": [
      "class_1 {\n",
      "  property: 'property',\n",
      "  hello: 'override',\n",
      "  newProperty: 'new property' }\n"
     ]
    },
    {
     "data": {
      "text/plain": [
       "undefined"
      ]
     },
     "execution_count": 3,
     "metadata": {},
     "output_type": "execute_result"
    }
   ],
   "source": [
    "function classDecorator<T extends {new(...args:any[]):{}}>(constructor:T) {\n",
    "    return class extends constructor {\n",
    "        newProperty = \"new property\";\n",
    "        hello = \"override\";\n",
    "    }\n",
    "}\n",
    "\n",
    "@classDecorator\n",
    "class Greeter {\n",
    "    property = \"property\";\n",
    "    hello: string;\n",
    "    constructor(m: string) {\n",
    "        this.hello = m;\n",
    "    }\n",
    "}\n",
    "\n",
    "console.log(new Greeter(\"world\"));"
   ]
  },
  {
   "cell_type": "markdown",
   "metadata": {},
   "source": [
    "### 方法装饰器\n",
    "\n",
    "方法装饰器声明在一个方法的声明之前（紧靠着方法声明）。 它会被应用到方法的 属性描述符上，可以用来监视，修改或者替换方法定义。 方法装饰器不能用在声明文件( .d.ts)，重载或者任何外部上下文（比如 `declare` 的类）中。\n",
    "\n",
    "方法装饰器表达式会在运行时当作函数被调用，传入下列3个参数：\n",
    "\n",
    "1. 对于静态成员来说是类的构造函数，对于实例成员是类的原型对象。\n",
    "2. 成员的名字。\n",
    "3. 成员的属性描述符。\n",
    "\n",
    "> 注意  如果代码输出目标版本小于 ES5，属性描述符将会是 undefined。\n",
    "\n",
    "如果方法装饰器返回一个值，它会被用作方法的属性描述符。\n",
    "\n",
    "> 注意  如果代码输出目标版本小于 ES5 返回值会被忽略。\n",
    "\n",
    "下面是一个方法装饰器（`@enumerable`）的例子，应用于 `Greeter` 类的方法上："
   ]
  },
  {
   "cell_type": "code",
   "execution_count": 12,
   "metadata": {},
   "outputs": [
    {
     "name": "stdout",
     "output_type": "stream",
     "text": [
      "Greeter { greet: [Function] } 'greet' undefined\n"
     ]
    },
    {
     "ename": "TypeError",
     "evalue": "Cannot set property 'enumerable' of undefined",
     "output_type": "error",
     "traceback": [
      "TypeError: Cannot set property 'enumerable' of undefined",
      "    at evalmachine.<anonymous>:10:31",
      "    at DecorateProperty (C:\\Users\\LENOVO\\node_modules\\reflect-metadata\\Reflect.js:530:29)",
      "    at Object.decorate (C:\\Users\\LENOVO\\node_modules\\reflect-metadata\\Reflect.js:100:20)",
      "    at __decorate (evalmachine.<anonymous>:3:92)",
      "    at evalmachine.<anonymous>:20:5",
      "    at evalmachine.<anonymous>:24:2",
      "    at ContextifyScript.Script.runInThisContext (vm.js:25:33)",
      "    at Object.runInThisContext (vm.js:97:38)",
      "    at run ([eval]:617:19)",
      "    at onRunRequest ([eval]:388:22)"
     ]
    }
   ],
   "source": [
    "function enumerable(value: boolean) {\n",
    "    return function (target: any, propertyKey: string, descriptor: PropertyDescriptor) {\n",
    "        console.log(target, propertyKey, descriptor)\n",
    "        descriptor.enumerable = value;\n",
    "    };\n",
    "}\n",
    "\n",
    "class Greeter {\n",
    "    greeting: string;\n",
    "    constructor(message: string) {\n",
    "        this.greeting = message;\n",
    "    }\n",
    "\n",
    "    @enumerable(false)\n",
    "    greet() {\n",
    "        return \"Hello, \" + this.greeting;\n",
    "    }\n",
    "}"
   ]
  },
  {
   "cell_type": "markdown",
   "metadata": {},
   "source": [
    "这里的 `@enumerable(false)` 是一个装饰器工厂。 当装饰器 `@enumerable(false)` 被调用时，它会修改属性描述符的 `enumerable` 属性。\n",
    "\n",
    "### 访问器装饰器\n",
    "\n",
    "访问器装饰器声明在一个访问器的声明之前（紧靠着访问器声明）。 访问器装饰器应用于访问器的 属性描述符并且可以用来监视，修改或替换一个访问器的定义。 访问器装饰器不能用在声明文件中（.d.ts），或者任何外部上下文（比如 `declare` 的类）里。\n",
    "\n",
    "> 注意  TypeScript不允许同时装饰一个成员的get和set访问器。取而代之的是，一个成员的所有装饰的必须应用在文档顺序的第一个访问器上。这是因为，在装饰器应用于一个属性描述符时，它联合了get和set访问器，而不是分开声明的。\n",
    "\n",
    "访问器装饰器表达式会在运行时当作函数被调用，传入下列3个参数：\n",
    "\n",
    "1. 对于静态成员来说是类的构造函数，对于实例成员是类的原型对象。\n",
    "2. 成员的名字。\n",
    "3. 成员的属性描述符。\n",
    "\n",
    "> 注意  如果代码输出目标版本小于ES5，Property Descriptor将会是undefined。\n",
    "\n",
    "如果访问器装饰器返回一个值，它会被用作方法的属性描述符。\n",
    "\n",
    "> 注意  如果代码输出目标版本小于ES5返回值会被忽略。\n",
    "\n",
    "下面是使用了访问器装饰器（`@configurable`）的例子，应用于 `Point` 类的成员上："
   ]
  },
  {
   "cell_type": "code",
   "execution_count": 5,
   "metadata": {},
   "outputs": [
    {
     "ename": "TypeError",
     "evalue": "Cannot set property 'configurable' of undefined",
     "output_type": "error",
     "traceback": [
      "TypeError: Cannot set property 'configurable' of undefined",
      "    at evalmachine.<anonymous>:9:33",
      "    at __decorate (evalmachine.<anonymous>:4:130)",
      "    at evalmachine.<anonymous>:27:5",
      "    at evalmachine.<anonymous>:34:2",
      "    at ContextifyScript.Script.runInThisContext (vm.js:25:33)",
      "    at Object.runInThisContext (vm.js:97:38)",
      "    at run ([eval]:617:19)",
      "    at onRunRequest ([eval]:388:22)",
      "    at onMessage ([eval]:356:17)",
      "    at emitTwo (events.js:106:13)"
     ]
    }
   ],
   "source": [
    "function configurable(value: boolean) {\n",
    "    return function (target: any, propertyKey: string, descriptor: PropertyDescriptor) {\n",
    "        descriptor.configurable = value;\n",
    "    };\n",
    "}\n",
    "\n",
    "class Point {\n",
    "    private _x: number;\n",
    "    private _y: number;\n",
    "    constructor(x: number, y: number) {\n",
    "        this._x = x;\n",
    "        this._y = y;\n",
    "    }\n",
    "\n",
    "    @configurable(false)\n",
    "    get x() { return this._x; }\n",
    "\n",
    "    @configurable(false)\n",
    "    get y() { return this._y; }\n",
    "}"
   ]
  },
  {
   "cell_type": "markdown",
   "metadata": {},
   "source": [
    "### 属性装饰器\n",
    "\n",
    "属性装饰器声明在一个属性声明之前（紧靠着属性声明）。 属性装饰器不能用在声明文件中（.d.ts），或者任何外部上下文（比如 declare的类）里。\n",
    "\n",
    "属性装饰器表达式会在运行时当作函数被调用，传入下列2个参数：\n",
    "\n",
    "1. 对于静态成员来说是类的构造函数，对于实例成员是类的原型对象。\n",
    "2. 成员的名字。\n",
    "\n",
    "> 注意  属性描述符不会做为参数传入属性装饰器，这与TypeScript是如何初始化属性装饰器的有关。 因为目前没有办法在定义一个原型对象的成员时描述一个实例属性，并且没办法监视或修改一个属性的初始化方法。 因此，属性描述符只能用来监视类中是否声明了某个名字的属性。\n",
    "\n",
    "如果属性装饰器返回一个值，它会被用作方法的属性描述符。\n",
    "\n",
    "> 注意  如果代码输出目标版本小于ES5，返回值会被忽略。\n",
    "\n",
    "如果访问符装饰器返回一个值，它会被用作方法的属性描述符。\n",
    "\n",
    "我们可以用它来记录这个属性的元数据，如下例所示："
   ]
  },
  {
   "cell_type": "code",
   "execution_count": 8,
   "metadata": {},
   "outputs": [
    {
     "data": {
      "text/plain": [
       "'Hello, Tim'"
      ]
     },
     "execution_count": 8,
     "metadata": {},
     "output_type": "execute_result"
    }
   ],
   "source": [
    "import \"reflect-metadata\";\n",
    "\n",
    "const formatMetadataKey = Symbol(\"format\");\n",
    "\n",
    "function format(formatString: string) {\n",
    "    return Reflect.metadata(formatMetadataKey, formatString);\n",
    "}\n",
    "\n",
    "function getFormat(target: any, propertyKey: string) {\n",
    "    return Reflect.getMetadata(formatMetadataKey, target, propertyKey);\n",
    "}\n",
    "\n",
    "class Greeter {\n",
    "    @format(\"Hello, %s\")\n",
    "    greeting: string;\n",
    "\n",
    "    constructor(message: string) {\n",
    "        this.greeting = message;\n",
    "    }\n",
    "    greet() {\n",
    "        let formatString = getFormat(this, \"greeting\");\n",
    "        return formatString.replace(\"%s\", this.greeting);\n",
    "    }\n",
    "}\n",
    "\n",
    "g = new Greeter(\"Tim\")\n",
    "g.greet()"
   ]
  },
  {
   "cell_type": "markdown",
   "metadata": {},
   "source": [
    "这个@format(\"Hello, %s\")装饰器是个 [装饰器工厂](https://www.tslang.cn/docs/handbook/decorators.html#decorator-factories)。 当 @format(\"Hello, %s\")被调用时，它添加一条这个属性的元数据，通过 [reflect-metadata](https://www.tslang.cn/docs/handbook/decorators.html#metadata) 库里的 Reflect.metadata 函数。 当 getFormat 被调用时，它读取格式的元数据。\n",
    "\n",
    "> 注意  这个例子需要使用reflect-metadata库。 查看 元数据了解reflect-metadata库更详细的信息。\n",
    "\n",
    "### 参数装饰器\n",
    "\n",
    "参数装饰器声明在一个参数声明之前（紧靠着参数声明）。 参数装饰器应用于类构造函数或方法声明。 参数装饰器不能用在声明文件（.d.ts），重载或其它外部上下文（比如 declare的类）里。\n",
    "\n",
    "参数装饰器表达式会在运行时当作函数被调用，传入下列3个参数：\n",
    "\n",
    "1. 对于静态成员来说是类的构造函数，对于实例成员是类的原型对象。\n",
    "2. 成员的名字。\n",
    "3. 参数在函数参数列表中的索引。\n",
    "\n",
    "> 注意  参数装饰器只能用来监视一个方法的参数是否被传入。\n",
    "\n",
    "参数装饰器的返回值会被忽略。\n",
    "\n",
    "下例定义了参数装饰器（`@required`）并应用于 `Greeter` 类方法的一个参数："
   ]
  },
  {
   "cell_type": "code",
   "execution_count": 9,
   "metadata": {},
   "outputs": [
    {
     "ename": "TypeError",
     "evalue": "Cannot read property 'value' of undefined",
     "output_type": "error",
     "traceback": [
      "TypeError: Cannot read property 'value' of undefined",
      "    at validate (evalmachine.<anonymous>:20:28)",
      "    at DecorateProperty (C:\\Users\\LENOVO\\node_modules\\reflect-metadata\\Reflect.js:530:29)",
      "    at Object.decorate (C:\\Users\\LENOVO\\node_modules\\reflect-metadata\\Reflect.js:100:20)",
      "    at __decorate (evalmachine.<anonymous>:3:92)",
      "    at evalmachine.<anonymous>:41:5",
      "    at evalmachine.<anonymous>:46:2",
      "    at ContextifyScript.Script.runInThisContext (vm.js:25:33)",
      "    at Object.runInThisContext (vm.js:97:38)",
      "    at run ([eval]:617:19)",
      "    at onRunRequest ([eval]:388:22)"
     ]
    }
   ],
   "source": [
    "import \"reflect-metadata\";\n",
    "\n",
    "const requiredMetadataKey = Symbol(\"required\");\n",
    "\n",
    "function required(target: Object, propertyKey: string | symbol, parameterIndex: number) {\n",
    "    let existingRequiredParameters: number[] = Reflect.getOwnMetadata(requiredMetadataKey, target, propertyKey) || [];\n",
    "    existingRequiredParameters.push(parameterIndex);\n",
    "    Reflect.defineMetadata(requiredMetadataKey, existingRequiredParameters, target, propertyKey);\n",
    "}\n",
    "\n",
    "function validate(target: any, propertyName: string, descriptor: TypedPropertyDescriptor<Function>) {\n",
    "    let method = descriptor.value;\n",
    "    descriptor.value = function () {\n",
    "        let requiredParameters: number[] = Reflect.getOwnMetadata(requiredMetadataKey, target, propertyName);\n",
    "        if (requiredParameters) {\n",
    "            for (let parameterIndex of requiredParameters) {\n",
    "                if (parameterIndex >= arguments.length || arguments[parameterIndex] === undefined) {\n",
    "                    throw new Error(\"Missing required argument.\");\n",
    "                }\n",
    "            }\n",
    "        }\n",
    "\n",
    "        return method.apply(this, arguments);\n",
    "    }\n",
    "}\n",
    "\n",
    "class Greeter {\n",
    "    greeting: string;\n",
    "\n",
    "    constructor(message: string) {\n",
    "        this.greeting = message;\n",
    "    }\n",
    "\n",
    "    @validate\n",
    "    greet(@required name: string) {\n",
    "        return \"Hello \" + name + \", \" + this.greeting;\n",
    "    }\n",
    "}"
   ]
  },
  {
   "cell_type": "markdown",
   "metadata": {},
   "source": [
    "`@required` 装饰器添加了元数据实体把参数标记为必需的。 `@validate` 装饰器把 `greet` 方法包裹在一个函数里在调用原先的函数前验证函数参数。\n",
    "\n",
    "> 注意  这个例子使用了reflect-metadata库。 查看 元数据了解reflect-metadata库的更多信息。\n",
    "\n",
    "### 元数据\n",
    "\n",
    "一些例子使用了 `reflect-metadata` 库来支持实验性的 `metadata API`。 这个库还不是 `ECMAScript (JavaScript)` 标准的一部分。 然而，当装饰器被ECMAScript 官方标准采纳后，这些扩展也将被推荐给 ECMAScript 以采纳。\n",
    "\n",
    "你可以通过npm安装这个库：\n",
    "\n",
    "```bash\n",
    "npm i reflect-metadata --save\n",
    "```\n",
    "\n",
    "TypeScript支持为带有装饰器的声明生成元数据。 你需要在命令行或 tsconfig.json里启用emitDecoratorMetadata编译器选项。\n",
    "\n",
    "Command Line:\n",
    "\n",
    "```bash\n",
    "tsc --target ES5 --experimentalDecorators --emitDecoratorMetadata\n",
    "```\n",
    "\n",
    "tsconfig.json:\n",
    "\n",
    "```json\n",
    "{\n",
    "    \"compilerOptions\": {\n",
    "        \"target\": \"ES5\",\n",
    "        \"experimentalDecorators\": true,\n",
    "        \"emitDecoratorMetadata\": true\n",
    "    }\n",
    "}\n",
    "```\n",
    "\n",
    "当启用后，只要 `reflect-metadata` 库被引入了，设计阶段添加的类型信息可以在运行时使用。\n",
    "\n",
    "如下例所示："
   ]
  },
  {
   "cell_type": "code",
   "execution_count": 10,
   "metadata": {},
   "outputs": [
    {
     "ename": "TypeError",
     "evalue": "Cannot read property 'set' of undefined",
     "output_type": "error",
     "traceback": [
      "TypeError: Cannot read property 'set' of undefined",
      "    at validate (evalmachine.<anonymous>:39:25)",
      "    at DecorateProperty (C:\\Users\\LENOVO\\node_modules\\reflect-metadata\\Reflect.js:530:29)",
      "    at Object.decorate (C:\\Users\\LENOVO\\node_modules\\reflect-metadata\\Reflect.js:100:20)",
      "    at __decorate (evalmachine.<anonymous>:3:92)",
      "    at evalmachine.<anonymous>:30:5",
      "    at evalmachine.<anonymous>:37:2",
      "    at ContextifyScript.Script.runInThisContext (vm.js:25:33)",
      "    at Object.runInThisContext (vm.js:97:38)",
      "    at run ([eval]:617:19)",
      "    at onRunRequest ([eval]:388:22)"
     ]
    }
   ],
   "source": [
    "import \"reflect-metadata\";\n",
    "\n",
    "class Point {\n",
    "    x: number;\n",
    "    y: number;\n",
    "}\n",
    "\n",
    "class Line {\n",
    "    private _p0: Point;\n",
    "    private _p1: Point;\n",
    "\n",
    "    @validate\n",
    "    set p0(value: Point) { this._p0 = value; }\n",
    "    get p0() { return this._p0; }\n",
    "\n",
    "    @validate\n",
    "    set p1(value: Point) { this._p1 = value; }\n",
    "    get p1() { return this._p1; }\n",
    "}\n",
    "\n",
    "function validate<T>(target: any, propertyKey: string, descriptor: TypedPropertyDescriptor<T>) {\n",
    "    let set = descriptor.set;\n",
    "    descriptor.set = function (value: T) {\n",
    "        let type = Reflect.getMetadata(\"design:type\", target, propertyKey);\n",
    "        if (!(value instanceof type)) {\n",
    "            throw new TypeError(\"Invalid type.\");\n",
    "        }\n",
    "        set(value);\n",
    "    }\n",
    "}"
   ]
  },
  {
   "cell_type": "markdown",
   "metadata": {},
   "source": [
    "TypeScript编译器可以通过@Reflect.metadata装饰器注入设计阶段的类型信息。 你可以认为它相当于下面的TypeScript："
   ]
  },
  {
   "cell_type": "code",
   "execution_count": 11,
   "metadata": {},
   "outputs": [
    {
     "ename": "TypeError",
     "evalue": "Cannot read property 'set' of undefined",
     "output_type": "error",
     "traceback": [
      "TypeError: Cannot read property 'set' of undefined",
      "    at validate (evalmachine.<anonymous>:39:25)",
      "    at DecorateProperty (C:\\Users\\LENOVO\\node_modules\\reflect-metadata\\Reflect.js:530:29)",
      "    at Object.decorate (C:\\Users\\LENOVO\\node_modules\\reflect-metadata\\Reflect.js:100:20)",
      "    at __decorate (evalmachine.<anonymous>:3:92)",
      "    at evalmachine.<anonymous>:22:5",
      "    at evalmachine.<anonymous>:31:2",
      "    at ContextifyScript.Script.runInThisContext (vm.js:25:33)",
      "    at Object.runInThisContext (vm.js:97:38)",
      "    at run ([eval]:617:19)",
      "    at onRunRequest ([eval]:388:22)"
     ]
    }
   ],
   "source": [
    "class Line {\n",
    "    private _p0: Point;\n",
    "    private _p1: Point;\n",
    "\n",
    "    @validate\n",
    "    @Reflect.metadata(\"design:type\", Point)\n",
    "    set p0(value: Point) { this._p0 = value; }\n",
    "    get p0() { return this._p0; }\n",
    "\n",
    "    @validate\n",
    "    @Reflect.metadata(\"design:type\", Point)\n",
    "    set p1(value: Point) { this._p1 = value; }\n",
    "    get p1() { return this._p1; }\n",
    "}"
   ]
  },
  {
   "cell_type": "markdown",
   "metadata": {},
   "source": [
    "> 注意  装饰器元数据是个实验性的特性并且可能在以后的版本中发生破坏性的改变（breaking changes）。"
   ]
  }
 ],
 "metadata": {
  "kernelspec": {
   "display_name": "Typescript 2.4",
   "language": "typescript",
   "name": "typescript"
  },
  "language_info": {
   "file_extension": ".ts",
   "mimetype": "text/x-typescript",
   "name": "typescript",
   "version": "2.4.2"
  }
 },
 "nbformat": 4,
 "nbformat_minor": 2
}
