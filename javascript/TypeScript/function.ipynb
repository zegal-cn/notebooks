{
 "cells": [
  {
   "cell_type": "markdown",
   "metadata": {},
   "source": [
    "## 介绍\n",
    "\n",
    "函数是JavaScript应用程序的基础。 它帮助你实现抽象层，模拟类，信息隐藏和模块。 在TypeScript里，虽然已经支持类，命名空间和模块，但函数仍然是主要的定义行为的地方。 TypeScript为JavaScript函数添加了额外的功能，让我们可以更容易地使用。\n",
    "\n",
    "## 函数\n",
    "\n",
    "和JavaScript一样，TypeScript函数可以创建有名字的函数和匿名函数。 你可以随意选择适合应用程序的方式，不论是定义一系列API函数还是只使用一次的函数。\n",
    "\n",
    "通过下面的例子可以迅速回想起这两种JavaScript中的函数："
   ]
  },
  {
   "cell_type": "code",
   "execution_count": null,
   "metadata": {
    "collapsed": true
   },
   "outputs": [],
   "source": [
    "// Named function\n",
    "function add(x, y) {\n",
    "    return x + y;\n",
    "}\n",
    "\n",
    "// Anonymous function\n",
    "let myAdd = function(x, y) { return x + y; };"
   ]
  },
  {
   "cell_type": "markdown",
   "metadata": {},
   "source": [
    "在JavaScript里，函数可以使用函数体外部的变量。 当函数这么做时，我们说它‘捕获’了这些变量。 至于为什么可以这样做以及其中的利弊超出了本文的范围，但是深刻理解这个机制对学习JavaScript和TypeScript会很有帮助。"
   ]
  },
  {
   "cell_type": "code",
   "execution_count": null,
   "metadata": {
    "collapsed": true
   },
   "outputs": [],
   "source": [
    "let z = 100;\n",
    "\n",
    "function addToZ(x, y) {\n",
    "    return x + y + z;\n",
    "}"
   ]
  },
  {
   "cell_type": "markdown",
   "metadata": {},
   "source": [
    "## 函数类型\n",
    "\n",
    "### 为函数定义类型\n",
    "\n",
    "让我们为上面那个函数添加类型："
   ]
  },
  {
   "cell_type": "code",
   "execution_count": null,
   "metadata": {
    "collapsed": true
   },
   "outputs": [],
   "source": [
    "function add(x: number, y: number): number {\n",
    "    return x + y;\n",
    "}\n",
    "\n",
    "let myAdd = function(x: number, y: number): number { return x+y; };"
   ]
  },
  {
   "cell_type": "markdown",
   "metadata": {},
   "source": [
    "我们可以给每个参数添加类型之后再为函数本身添加返回值类型。 TypeScript能够根据返回语句自动推断出返回值类型，因此我们通常省略它。\n",
    "\n",
    "## 书写完整函数类型\n",
    "\n",
    "现在我们已经为函数指定了类型，下面让我们写出函数的完整类型。"
   ]
  },
  {
   "cell_type": "code",
   "execution_count": null,
   "metadata": {
    "collapsed": true
   },
   "outputs": [],
   "source": [
    "let myAdd: (x:number, y:number)=>number =\n",
    "    function(x: number, y: number): number { return x+y; };"
   ]
  },
  {
   "cell_type": "markdown",
   "metadata": {},
   "source": [
    "函数类型包含两部分：参数类型和返回值类型。 当写出完整函数类型的时候，这两部分都是需要的。 我们以参数列表的形式写出参数类型，为每个参数指定一个名字和类型。 这个名字只是为了增加可读性。 我们也可以这么写："
   ]
  },
  {
   "cell_type": "code",
   "execution_count": null,
   "metadata": {
    "collapsed": true
   },
   "outputs": [],
   "source": [
    "let myAdd: (baseValue:number, increment:number) => number =\n",
    "    function(x: number, y: number): number { return x + y; };"
   ]
  },
  {
   "cell_type": "markdown",
   "metadata": {},
   "source": [
    "只要参数类型是匹配的，那么就认为它是有效的函数类型，而不在乎参数名是否正确。\n",
    "\n",
    "第二部分是返回值类型。 对于返回值，我们在函数和返回值类型之前使用(=>)符号，使之清晰明了。 如之前提到的，返回值类型是函数类型的必要部分，如果函数没有返回任何值，你也必须指定返回值类型为`void`而不能留空。\n",
    "\n",
    "函数的类型只是由参数类型和返回值组成的。 函数中使用的捕获变量不会体现在类型里。 实际上，这些变量是函数的隐藏状态并不是组成API的一部分。\n",
    "\n",
    "### 推断类型\n",
    "\n",
    "尝试这个例子的时候，你会发现如果你在赋值语句的一边指定了类型但是另一边没有类型的话，TypeScript编译器会自动识别出类型："
   ]
  },
  {
   "cell_type": "code",
   "execution_count": null,
   "metadata": {
    "collapsed": true
   },
   "outputs": [],
   "source": [
    "// myAdd has the full function type\n",
    "let myAdd = function(x: number, y: number): number { return x + y; };\n",
    "\n",
    "// The parameters `x` and `y` have the type number\n",
    "let myAdd: (baseValue:number, increment:number) => number =\n",
    "    function(x, y) { return x + y; };"
   ]
  },
  {
   "cell_type": "markdown",
   "metadata": {},
   "source": [
    "这叫做“按上下文归类”，是类型推论的一种。 它帮助我们更好地为程序指定类型。\n",
    "\n",
    "### 可选参数和默认参数\n",
    "\n",
    "TypeScript里的每个函数参数都是必须的。 这不是指不能传递`null`或`undefined`作为参数，而是说编译器检查用户是否为每个参数都传入了值。 编译器还会假设只有这些参数会被传递进函数。 简短地说，传递给一个函数的参数个数必须与函数期望的参数个数一致。"
   ]
  },
  {
   "cell_type": "code",
   "execution_count": null,
   "metadata": {
    "collapsed": true
   },
   "outputs": [],
   "source": [
    "function buildName(firstName: string, lastName: string) {\n",
    "    return firstName + \" \" + lastName;\n",
    "}\n",
    "\n",
    "let result1 = buildName(\"Bob\");                  // error, too few parameters\n",
    "let result2 = buildName(\"Bob\", \"Adams\", \"Sr.\");  // error, too many parameters\n",
    "let result3 = buildName(\"Bob\", \"Adams\");         // ah, just right"
   ]
  },
  {
   "cell_type": "markdown",
   "metadata": {},
   "source": [
    "JavaScript里，每个参数都是可选的，可传可不传。 没传参的时候，它的值就是`undefined`。 在TypeScript里我们可以在参数名旁使用`?`实现可选参数的功能。 比如，我们想让last name是可选的："
   ]
  },
  {
   "cell_type": "code",
   "execution_count": null,
   "metadata": {
    "collapsed": true
   },
   "outputs": [],
   "source": [
    "function buildName(firstName: string, lastName?: string) {\n",
    "    if (lastName)\n",
    "        return firstName + \" \" + lastName;\n",
    "    else\n",
    "        return firstName;\n",
    "}\n",
    "\n",
    "let result1 = buildName(\"Bob\");  // works correctly now\n",
    "let result2 = buildName(\"Bob\", \"Adams\", \"Sr.\");  // error, too many parameters\n",
    "let result3 = buildName(\"Bob\", \"Adams\");  // ah, just right"
   ]
  },
  {
   "cell_type": "markdown",
   "metadata": {},
   "source": [
    "可选参数必须跟在必须参数后面。 如果上例我们想让first name是可选的，那么就必须调整它们的位置，把first name放在后面。\n",
    "\n",
    "在TypeScript里，我们也可以为参数提供一个默认值当用户没有传递这个参数或传递的值是`undefined`时。 它们叫做**有默认初始化值的参数**。 让我们修改上例，把last name的默认值设置为\"Smith\"。"
   ]
  },
  {
   "cell_type": "code",
   "execution_count": null,
   "metadata": {
    "collapsed": true
   },
   "outputs": [],
   "source": [
    "function buildName(firstName: string, lastName = \"Smith\") {\n",
    "    return firstName + \" \" + lastName;\n",
    "}\n",
    "\n",
    "let result1 = buildName(\"Bob\");                  // works correctly now, returns \"Bob Smith\"\n",
    "let result2 = buildName(\"Bob\", undefined);       // still works, also returns \"Bob Smith\"\n",
    "let result3 = buildName(\"Bob\", \"Adams\", \"Sr.\");  // error, too many parameters\n",
    "let result4 = buildName(\"Bob\", \"Adams\");         // ah, just right"
   ]
  },
  {
   "cell_type": "markdown",
   "metadata": {},
   "source": [
    "在所有必须参数后面的带默认初始化的参数都是可选的，与可选参数一样，在调用函数的时候可以省略。 也就是说可选参数与末尾的默认参数共享参数类型。"
   ]
  },
  {
   "cell_type": "code",
   "execution_count": null,
   "metadata": {
    "collapsed": true
   },
   "outputs": [],
   "source": [
    "function buildName(firstName: string, lastName?: string) {\n",
    "    // ...\n",
    "}"
   ]
  },
  {
   "cell_type": "markdown",
   "metadata": {},
   "source": [
    "和"
   ]
  },
  {
   "cell_type": "code",
   "execution_count": null,
   "metadata": {
    "collapsed": true
   },
   "outputs": [],
   "source": [
    "function buildName(firstName: string, lastName = \"Smith\") {\n",
    "    // ...\n",
    "}"
   ]
  },
  {
   "cell_type": "markdown",
   "metadata": {},
   "source": [
    "共享同样的类型`(firstName: string, lastName?: string) => string`。 默认参数的默认值消失了，只保留了它是一个可选参数的信息。\n",
    "\n",
    "与普通可选参数不同的是，带默认值的参数不需要放在必须参数的后面。 如果带默认值的参数出现在必须参数前面，用户必须明确的传入`undefined`值来获得默认值。 例如，我们重写最后一个例子，让firstName是带默认值的参数："
   ]
  },
  {
   "cell_type": "code",
   "execution_count": null,
   "metadata": {
    "collapsed": true
   },
   "outputs": [],
   "source": [
    "function buildName(firstName = \"Will\", lastName: string) {\n",
    "    return firstName + \" \" + lastName;\n",
    "}\n",
    "\n",
    "let result1 = buildName(\"Bob\");                  // error, too few parameters\n",
    "let result2 = buildName(\"Bob\", \"Adams\", \"Sr.\");  // error, too many parameters\n",
    "let result3 = buildName(\"Bob\", \"Adams\");         // okay and returns \"Bob Adams\"\n",
    "let result4 = buildName(undefined, \"Adams\");     // okay and returns \"Will Adams\""
   ]
  },
  {
   "cell_type": "markdown",
   "metadata": {},
   "source": [
    "### 剩余参数\n",
    "\n",
    "必要参数，默认参数和可选参数有个共同点：它们表示某一个参数。 有时，你想同时操作多个参数，或者你并不知道会有多少参数传递进来。 在JavaScript里，你可以使用`arguments`来访问所有传入的参数。\n",
    "\n",
    "在TypeScript里，你可以把所有参数收集到一个变量里："
   ]
  },
  {
   "cell_type": "code",
   "execution_count": null,
   "metadata": {
    "collapsed": true
   },
   "outputs": [],
   "source": [
    "function buildName(firstName: string, ...restOfName: string[]) {\n",
    "  return firstName + \" \" + restOfName.join(\" \");\n",
    "}\n",
    "\n",
    "let employeeName = buildName(\"Joseph\", \"Samuel\", \"Lucas\", \"MacKinzie\");"
   ]
  },
  {
   "cell_type": "markdown",
   "metadata": {},
   "source": [
    "剩余参数会被当做个数不限的可选参数。 可以一个都没有，同样也可以有任意个。 编译器创建参数数组，名字是你在省略号`（...）`后面给定的名字，你可以在函数体内使用这个数组。\n",
    "\n",
    "这个省略号也会在带有剩余参数的函数类型定义上使用到："
   ]
  },
  {
   "cell_type": "code",
   "execution_count": null,
   "metadata": {
    "collapsed": true
   },
   "outputs": [],
   "source": [
    "function buildName(firstName: string, ...restOfName: string[]) {\n",
    "  return firstName + \" \" + restOfName.join(\" \");\n",
    "}\n",
    "\n",
    "let buildNameFun: (fname: string, ...rest: string[]) => string = buildName;"
   ]
  },
  {
   "cell_type": "markdown",
   "metadata": {},
   "source": [
    "## this\n",
    "\n",
    "学习使用JavaScript里`this`就好比一场成年礼。 由于TypeScript是JavaScript的超集，TypeScript程序员也需要弄清`this`工作机制并且当有bug的时候能够找出错误所在。 幸运的是，TypeScript能通知你错误地使用了`this`的地方。 如果你想了解JavaScript里的`this`是如何工作的，那么首先阅读Yehuda Katz写的Understanding JavaScript Function Invocation and \"this\"。 Yehuda的文章详细的阐述了`this`的内部工作原理，因此我们这里只做简单介绍。\n",
    "\n",
    "### this和箭头函数\n",
    "\n",
    "JavaScript里，`this`的值在函数被调用的时候才会指定。 这是个既强大又灵活的特点，但是你需要花点时间弄清楚函数调用的上下文是什么。 但众所周知，这不是一件很简单的事，尤其是在返回一个函数或将函数当做参数传递的时候。\n",
    "\n",
    "下面看一个例子："
   ]
  },
  {
   "cell_type": "code",
   "execution_count": null,
   "metadata": {
    "collapsed": true
   },
   "outputs": [],
   "source": [
    "let deck = {\n",
    "    suits: [\"hearts\", \"spades\", \"clubs\", \"diamonds\"],\n",
    "    cards: Array(52),\n",
    "    createCardPicker: function() {\n",
    "        return function() {\n",
    "            let pickedCard = Math.floor(Math.random() * 52);\n",
    "            let pickedSuit = Math.floor(pickedCard / 13);\n",
    "\n",
    "            return {suit: this.suits[pickedSuit], card: pickedCard % 13};\n",
    "        }\n",
    "    }\n",
    "}\n",
    "\n",
    "let cardPicker = deck.createCardPicker();\n",
    "let pickedCard = cardPicker();\n",
    "\n",
    "alert(\"card: \" + pickedCard.card + \" of \" + pickedCard.suit);"
   ]
  },
  {
   "cell_type": "markdown",
   "metadata": {},
   "source": [
    "可以看到createCardPicker是个函数，并且它又返回了一个函数。 如果我们尝试运行这个程序，会发现它并没有弹出对话框而是报错了。 因为createCardPicker返回的函数里的`this`被设置成了window而不是deck对象。 因为我们只是独立的调用了cardPicker()。 顶级的非方法式调用会将`this`视为window。 （注意：在严格模式下，`this`为undefined而不是window）。\n",
    "\n",
    "为了解决这个问题，我们可以在函数被返回时就绑好正确的`this`。 这样的话，无论之后怎么使用它，都会引用绑定的‘deck’对象。 我们需要改变函数表达式来使用ECMAScript 6箭头语法。 箭头函数能保存函数创建时的`this`值，而不是调用时的值：\n",
    "\n",
    "我们把函数表达式变为使用`lambda`表达式（ `() => {}` ）。 这样就会在函数创建的时候就指定了‘this’值，而不是在函数调用的时候。"
   ]
  },
  {
   "cell_type": "code",
   "execution_count": null,
   "metadata": {
    "collapsed": true
   },
   "outputs": [],
   "source": [
    "let deck = {\n",
    "    suits: [\"hearts\", \"spades\", \"clubs\", \"diamonds\"],\n",
    "    cards: Array(52),\n",
    "    createCardPicker: function() {\n",
    "        // NOTE: the line below is now an arrow function, allowing us to capture 'this' right here\n",
    "        return () => {\n",
    "            let pickedCard = Math.floor(Math.random() * 52);\n",
    "            let pickedSuit = Math.floor(pickedCard / 13);\n",
    "\n",
    "            return {suit: this.suits[pickedSuit], card: pickedCard % 13};\n",
    "        }\n",
    "    }\n",
    "}\n",
    "\n",
    "let cardPicker = deck.createCardPicker();\n",
    "let pickedCard = cardPicker();\n",
    "\n",
    "alert(\"card: \" + pickedCard.card + \" of \" + pickedCard.suit);"
   ]
  },
  {
   "cell_type": "markdown",
   "metadata": {},
   "source": [
    "更好事情是，TypeScript会警告你犯了一个错误，如果你给编译器设置了--noImplicitThis标记。 它会指出`this.suits[pickedSuit]`里的`this`的类型为`any`。\n",
    "\n",
    "### this参数\n",
    "\n",
    "不幸的是，`this.suits[pickedSuit]`的类型依旧为`any`。 这是因为`this`来自对象字面量里的函数表达式。 修改的方法是，提供一个显示的`this`参数。 `this`参数是个假的参数，它出现在参数列表的最前面："
   ]
  },
  {
   "cell_type": "code",
   "execution_count": null,
   "metadata": {
    "collapsed": true
   },
   "outputs": [],
   "source": [
    "function f(this: void) {\n",
    "    // make sure `this` is unusable in this standalone function\n",
    "}"
   ]
  },
  {
   "cell_type": "markdown",
   "metadata": {},
   "source": [
    "让我们往例子里添加一些接口，Card 和 Deck，让类型重用能够变得清晰简单些："
   ]
  },
  {
   "cell_type": "code",
   "execution_count": null,
   "metadata": {
    "collapsed": true
   },
   "outputs": [],
   "source": [
    "interface Card {\n",
    "    suit: string;\n",
    "    card: number;\n",
    "}\n",
    "interface Deck {\n",
    "    suits: string[];\n",
    "    cards: number[];\n",
    "    createCardPicker(this: Deck): () => Card;\n",
    "}\n",
    "let deck: Deck = {\n",
    "    suits: [\"hearts\", \"spades\", \"clubs\", \"diamonds\"],\n",
    "    cards: Array(52),\n",
    "    // NOTE: The function now explicitly specifies that its callee must be of type Deck\n",
    "    createCardPicker: function(this: Deck) {\n",
    "        return () => {\n",
    "            let pickedCard = Math.floor(Math.random() * 52);\n",
    "            let pickedSuit = Math.floor(pickedCard / 13);\n",
    "\n",
    "            return {suit: this.suits[pickedSuit], card: pickedCard % 13};\n",
    "        }\n",
    "    }\n",
    "}\n",
    "\n",
    "let cardPicker = deck.createCardPicker();\n",
    "let pickedCard = cardPicker();\n",
    "\n",
    "alert(\"card: \" + pickedCard.card + \" of \" + pickedCard.suit);"
   ]
  },
  {
   "cell_type": "markdown",
   "metadata": {},
   "source": [
    "现在TypeScript知道createCardPicker期望在某个Deck对象上调用。 也就是说`this`是Deck类型的，而非`any`，因此--noImplicitThis不会报错了。\n",
    "\n",
    "### this参数在回调函数里\n",
    "\n",
    "你可以也看到过在回调函数里的`this`报错，当你将一个函数传递到某个库函数里稍后会被调用时。 因为当回调被调用的时候，它们会被当成一个普通函数调用，`this`将为`undefined`。 稍做改动，你就可以通过`this`参数来避免错误。 首先，库函数的作者要指定this的类型："
   ]
  },
  {
   "cell_type": "code",
   "execution_count": null,
   "metadata": {
    "collapsed": true
   },
   "outputs": [],
   "source": [
    "interface UIElement {\n",
    "    addClickListener(onclick: (this: void, e: Event) => void): void;\n",
    "}\n",
    "this: void means that addClickListener expects onclick to be a function that does not require a this type. Second, annotate your calling code with this:\n",
    "\n",
    "class Handler {\n",
    "    info: string;\n",
    "    onClickBad(this: Handler, e: Event) {\n",
    "        // oops, used this here. using this callback would crash at runtime\n",
    "        this.info = e.message;\n",
    "    };\n",
    "}\n",
    "let h = new Handler();\n",
    "uiElement.addClickListener(h.onClickBad); // error!"
   ]
  },
  {
   "cell_type": "markdown",
   "metadata": {},
   "source": [
    "指定了`this`类型后，你显示声明onClickBad必须在Handler的实例上调用。 然后TypeScript会检测到addClickListener要求函数带有`this: void`。 改变`this`类型来修复这个错误："
   ]
  },
  {
   "cell_type": "code",
   "execution_count": null,
   "metadata": {
    "collapsed": true
   },
   "outputs": [],
   "source": [
    "class Handler {\n",
    "    info: string;\n",
    "    onClickGood(this: void, e: Event) {\n",
    "        // can't use this here because it's of type void!\n",
    "        console.log('clicked!');\n",
    "    }\n",
    "}\n",
    "let h = new Handler();\n",
    "uiElement.addClickListener(h.onClickGood);"
   ]
  },
  {
   "cell_type": "markdown",
   "metadata": {},
   "source": [
    "因为onClickGood指定了`this`类型为`void`，因此传递addClickListener是合法的。 当然了，这也意味着不能使用`this.info`. 如果你两者都想要，你不得不使用箭头函数了："
   ]
  },
  {
   "cell_type": "code",
   "execution_count": null,
   "metadata": {
    "collapsed": true
   },
   "outputs": [],
   "source": [
    "class Handler {\n",
    "    info: string;\n",
    "    onClickGood = (e: Event) => { this.info = e.message }\n",
    "}"
   ]
  },
  {
   "cell_type": "markdown",
   "metadata": {},
   "source": [
    "这是可行的因为箭头函数不会捕获`this`，所以你总是可以把它们传给期望`this: void`的函数。 缺点是每个Handler对象都会创建一个箭头函数。 另一方面，方法只会被创建一次，添加到Handler的原型链上。 它们在不同Handler对象间是共享的。\n",
    "\n",
    "重载\n",
    "\n",
    "JavaScript本身是个动态语言。 JavaScript里函数根据传入不同的参数而返回不同类型的数据是很常见的。"
   ]
  },
  {
   "cell_type": "code",
   "execution_count": null,
   "metadata": {
    "collapsed": true
   },
   "outputs": [],
   "source": [
    "let suits = [\"hearts\", \"spades\", \"clubs\", \"diamonds\"];\n",
    "\n",
    "function pickCard(x): any {\n",
    "    // Check to see if we're working with an object/array\n",
    "    // if so, they gave us the deck and we'll pick the card\n",
    "    if (typeof x == \"object\") {\n",
    "        let pickedCard = Math.floor(Math.random() * x.length);\n",
    "        return pickedCard;\n",
    "    }\n",
    "    // Otherwise just let them pick the card\n",
    "    else if (typeof x == \"number\") {\n",
    "        let pickedSuit = Math.floor(x / 13);\n",
    "        return { suit: suits[pickedSuit], card: x % 13 };\n",
    "    }\n",
    "}\n",
    "\n",
    "let myDeck = [{ suit: \"diamonds\", card: 2 }, { suit: \"spades\", card: 10 }, { suit: \"hearts\", card: 4 }];\n",
    "let pickedCard1 = myDeck[pickCard(myDeck)];\n",
    "alert(\"card: \" + pickedCard1.card + \" of \" + pickedCard1.suit);\n",
    "\n",
    "let pickedCard2 = pickCard(15);\n",
    "alert(\"card: \" + pickedCard2.card + \" of \" + pickedCard2.suit);"
   ]
  },
  {
   "cell_type": "markdown",
   "metadata": {},
   "source": [
    "pickCard方法根据传入参数的不同会返回两种不同的类型。 如果传入的是代表纸牌的对象，函数作用是从中抓一张牌。 如果用户想抓牌，我们告诉他抓到了什么牌。 但是这怎么在类型系统里表示呢。\n",
    "\n",
    "方法是为同一个函数提供多个函数类型定义来进行函数重载。 编译器会根据这个列表去处理函数的调用。 下面我们来重载pickCard函数。"
   ]
  },
  {
   "cell_type": "code",
   "execution_count": null,
   "metadata": {
    "collapsed": true
   },
   "outputs": [],
   "source": [
    "let suits = [\"hearts\", \"spades\", \"clubs\", \"diamonds\"];\n",
    "\n",
    "function pickCard(x: {suit: string; card: number; }[]): number;\n",
    "function pickCard(x: number): {suit: string; card: number; };\n",
    "function pickCard(x): any {\n",
    "    // Check to see if we're working with an object/array\n",
    "    // if so, they gave us the deck and we'll pick the card\n",
    "    if (typeof x == \"object\") {\n",
    "        let pickedCard = Math.floor(Math.random() * x.length);\n",
    "        return pickedCard;\n",
    "    }\n",
    "    // Otherwise just let them pick the card\n",
    "    else if (typeof x == \"number\") {\n",
    "        let pickedSuit = Math.floor(x / 13);\n",
    "        return { suit: suits[pickedSuit], card: x % 13 };\n",
    "    }\n",
    "}\n",
    "\n",
    "let myDeck = [{ suit: \"diamonds\", card: 2 }, { suit: \"spades\", card: 10 }, { suit: \"hearts\", card: 4 }];\n",
    "let pickedCard1 = myDeck[pickCard(myDeck)];\n",
    "alert(\"card: \" + pickedCard1.card + \" of \" + pickedCard1.suit);\n",
    "\n",
    "let pickedCard2 = pickCard(15);\n",
    "alert(\"card: \" + pickedCard2.card + \" of \" + pickedCard2.suit);"
   ]
  },
  {
   "cell_type": "markdown",
   "metadata": {},
   "source": [
    "这样改变后，重载的pickCard函数在调用的时候会进行正确的类型检查。\n",
    "\n",
    "为了让编译器能够选择正确的检查类型，它与JavaScript里的处理流程相似。 它查找重载列表，尝试使用第一个重载定义。 如果匹配的话就使用这个。 因此，在定义重载的时候，一定要把最精确的定义放在最前面。\n",
    "\n",
    "注意，`function pickCard(x): any`并不是重载列表的一部分，因此这里只有两个重载：一个是接收对象另一个接收数字。 以其它参数调用pickCard会产生错误。"
   ]
  }
 ],
 "metadata": {
  "kernelspec": {
   "display_name": "Javascript (Node.js)",
   "language": "javascript",
   "name": "javascript"
  }
 },
 "nbformat": 4,
 "nbformat_minor": 2
}
