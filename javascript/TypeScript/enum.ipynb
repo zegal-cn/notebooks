{
 "cells": [
  {
   "cell_type": "markdown",
   "metadata": {},
   "source": [
    "# 枚举\n",
    "\n",
    "使用枚举我们可以定义一些有名字的数字常量。 枚举通过enum关键字来定义。"
   ]
  },
  {
   "cell_type": "code",
   "execution_count": null,
   "metadata": {
    "collapsed": true
   },
   "outputs": [],
   "source": [
    "enum Direction {\n",
    "    Up = 1,\n",
    "    Down,\n",
    "    Left,\n",
    "    Right\n",
    "}"
   ]
  },
  {
   "cell_type": "markdown",
   "metadata": {},
   "source": [
    "一个枚举类型可以包含零个或多个枚举成员。 枚举成员具有一个数字值，它可以是常数或是计算得出的值 当满足如下条件时，枚举成员被当作是常数：\n",
    "\n",
    "* 不具有初始化函数并且之前的枚举成员是常数。 在这种情况下，当前枚举成员的值为上一个枚举成员的值加 `1`。 但第一个枚举元素是个例外。 如果它没有初始化方法，那么它的初始值为 `0`。\n",
    "* 枚举成员使用常数枚举表达式初始化。 常数枚举表达式是TypeScript表达式的子集，它可以在编译阶段求值。 当一个表达式满足下面条件之一时，它就是一个常数枚举表达式：\n",
    "  * 数字字面量\n",
    "  * 引用之前定义的常数枚举成员（可以是在不同的枚举类型中定义的） 如果这个成员是在同一个枚举类型中定义的，可以使用非限定名来引用。\n",
    "  * 带括号的常数枚举表达式\n",
    "  * `+`, `-`, `~ `一元运算符应用于常数枚举表达式\n",
    "  * `+`, `-`, `*`, `/`, `%`, `<<`, `>>`, `>>>`, `&`, `|`, `^` 二元运算符，常数枚举表达式做为其一个操作对象 若常数枚举表达式求值后为NaN或Infinity，则会在编译阶段报错。\n",
    "所有其它情况的枚举成员被当作是需要计算得出的值。"
   ]
  },
  {
   "cell_type": "code",
   "execution_count": null,
   "metadata": {
    "collapsed": true
   },
   "outputs": [],
   "source": [
    "enum FileAccess {\n",
    "    // constant members\n",
    "    None,\n",
    "    Read    = 1 << 1,\n",
    "    Write   = 1 << 2,\n",
    "    ReadWrite  = Read | Write\n",
    "    // computed member\n",
    "    G = \"123\".length\n",
    "}"
   ]
  },
  {
   "cell_type": "markdown",
   "metadata": {},
   "source": [
    "枚举是在运行时真正存在的一个对象。 其中一个原因是因为这样可以从枚举值到枚举名进行反向映射。"
   ]
  },
  {
   "cell_type": "code",
   "execution_count": null,
   "metadata": {
    "collapsed": true
   },
   "outputs": [],
   "source": [
    "enum Enum {\n",
    "    A\n",
    "}\n",
    "let a = Enum.A;\n",
    "let nameOfA = Enum[Enum.A]; // \"A\""
   ]
  },
  {
   "cell_type": "markdown",
   "metadata": {},
   "source": [
    "编译成："
   ]
  },
  {
   "cell_type": "code",
   "execution_count": null,
   "metadata": {
    "collapsed": true
   },
   "outputs": [],
   "source": [
    "var Enum;\n",
    "(function (Enum) {\n",
    "    Enum[Enum[\"A\"] = 0] = \"A\";\n",
    "})(Enum || (Enum = {}));\n",
    "var a = Enum.A;\n",
    "var nameOfA = Enum[Enum.A]; // \"A\""
   ]
  },
  {
   "cell_type": "markdown",
   "metadata": {},
   "source": [
    "生成的代码中，枚举类型被编译成一个对象，它包含双向映射（name -> value）和（value -> name）。 引用枚举成员总会生成一次属性访问并且永远不会内联。 在大多数情况下这是很好的并且正确的解决方案。 然而有时候需求却比较严格。 当访问枚举值时，为了避免生成多余的代码和间接引用，可以使用常数枚举。 常数枚举是在enum关键字前使用const修饰符。"
   ]
  },
  {
   "cell_type": "code",
   "execution_count": null,
   "metadata": {
    "collapsed": true
   },
   "outputs": [],
   "source": [
    "const enum Enum {\n",
    "    A = 1,\n",
    "    B = A * 2\n",
    "}"
   ]
  },
  {
   "cell_type": "markdown",
   "metadata": {},
   "source": [
    "常数枚举只能使用常数枚举表达式并且不同于常规的枚举的是它们在编译阶段会被删除。 常数枚举成员在使用的地方被内联进来。 这是因为常数枚举不可能有计算成员。"
   ]
  },
  {
   "cell_type": "code",
   "execution_count": null,
   "metadata": {
    "collapsed": true
   },
   "outputs": [],
   "source": [
    "const enum Directions {\n",
    "    Up,\n",
    "    Down,\n",
    "    Left,\n",
    "    Right\n",
    "}\n",
    "\n",
    "let directions = [Directions.Up, Directions.Down, Directions.Left, Directions.Right]"
   ]
  },
  {
   "cell_type": "markdown",
   "metadata": {},
   "source": [
    "生成后的代码为："
   ]
  },
  {
   "cell_type": "code",
   "execution_count": null,
   "metadata": {
    "collapsed": true
   },
   "outputs": [],
   "source": [
    "var directions = [0 /* Up */, 1 /* Down */, 2 /* Left */, 3 /* Right */];"
   ]
  },
  {
   "cell_type": "markdown",
   "metadata": {},
   "source": [
    "## 外部枚举\n",
    "\n",
    "外部枚举用来描述已经存在的枚举类型的形状。"
   ]
  },
  {
   "cell_type": "code",
   "execution_count": null,
   "metadata": {
    "collapsed": true
   },
   "outputs": [],
   "source": [
    "declare enum Enum {\n",
    "    A = 1,\n",
    "    B,\n",
    "    C = 2\n",
    "}"
   ]
  },
  {
   "cell_type": "markdown",
   "metadata": {},
   "source": [
    "外部枚举和非外部枚举之间有一个重要的区别，在正常的枚举里，没有初始化方法的成员被当成常数成员。 对于非常数的外部枚举而言，没有初始化方法时被当做需要经过计算的。"
   ]
  }
 ],
 "metadata": {
  "kernelspec": {
   "display_name": "Javascript (Node.js)",
   "language": "javascript",
   "name": "javascript"
  }
 },
 "nbformat": 4,
 "nbformat_minor": 2
}
