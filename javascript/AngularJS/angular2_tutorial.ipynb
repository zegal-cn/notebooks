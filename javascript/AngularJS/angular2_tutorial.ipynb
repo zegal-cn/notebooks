{
 "cells": [
  {
   "cell_type": "markdown",
   "metadata": {},
   "source": [
    "# AngularJS2 Tutorial\n",
    "\n",
    "![AngularJS2](images/angular2.png)\n",
    "\n",
    "AngularJS2 是一款开源JavaScript库，由Google维护，用来协助单一页面应用程序运行。\n",
    "\n",
    "AngularJS2 是 Angular 1.x 的升级版本，性能上得到显著的提高，能很好的支持 Web 开发组件。\n",
    "\n",
    "AngularJS2 发布于2016年9月份，它是基于ES6来开发的。\n",
    "\n",
    "[架构](./architecture.ipynb)\n",
    "\n",
    "Angular 是一种构建客户端应用程序的框架，用于 HTML 和 JavaScript 或类似于 TypeScript 可编译为 Javascript 的语言。\n",
    "\n",
    "该框架由几个库组成，其中一些是核心和一些可选的。\n",
    "\n",
    "您通过使用 Angularized 标记组合 HTML `templates` 来编写 Angular 应用程序，编写 `component` 类来管理这些模板，在 `services` 中添加应用程序逻辑，以及在 `modules` 中封装组件和服务。\n",
    "\n",
    "然后通过根模块中的 `bootstrapping` 来启动应用程序。 Angular 接管，在浏览器中显示您的应用程序内容，并根据您提供的指令来和用户进行交互。\n",
    "\n"
   ]
  }
 ],
 "metadata": {
  "kernelspec": {
   "display_name": "Javascript (Node.js)",
   "language": "javascript",
   "name": "javascript"
  },
  "language_info": {
   "file_extension": ".js",
   "mimetype": "application/javascript",
   "name": "javascript",
   "version": "6.11.1"
  }
 },
 "nbformat": 4,
 "nbformat_minor": 2
}
