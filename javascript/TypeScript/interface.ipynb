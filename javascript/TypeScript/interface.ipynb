{
 "cells": [
  {
   "cell_type": "markdown",
   "metadata": {},
   "source": [
    "# 接口\n",
    "\n",
    "## 介绍\n",
    "\n",
    "TypeScript的核心原则之一是对值所具有的shape进行类型检查。 它有时被称做“鸭式辨型法”或“结构性子类型化”。 在TypeScript里，接口的作用就是为这些类型命名和为你的代码或第三方代码定义契约。\n",
    "\n",
    "## 接口初探\n",
    "\n",
    "下面通过一个简单示例来观察接口是如何工作的："
   ]
  },
  {
   "cell_type": "code",
   "execution_count": null,
   "metadata": {
    "collapsed": true
   },
   "outputs": [],
   "source": [
    "function printLabel(labelledObj: { label: string }) {\n",
    "  console.log(labelledObj.label);\n",
    "}\n",
    "\n",
    "let myObj = { size: 10, label: \"Size 10 Object\" };\n",
    "printLabel(myObj);"
   ]
  },
  {
   "cell_type": "markdown",
   "metadata": {},
   "source": [
    "类型检查器会查看printLabel的调用。 printLabel有一个参数，并要求这个对象参数有一个名为label类型为string的属性。 需要注意的是，我们传入的对象参数实际上会包含很多属性，但是编译器只会检查那些必需的属性是否存在，并且其类型是否匹配。 然而，有些时候TypeScript却并不会这么宽松，我们下面会稍做讲解。\n",
    "\n",
    "下面我们重写上面的例子，这次使用接口来描述：必须包含一个label属性且类型为string："
   ]
  },
  {
   "cell_type": "code",
   "execution_count": null,
   "metadata": {
    "collapsed": true
   },
   "outputs": [],
   "source": [
    "interface LabelledValue {\n",
    "  label: string;\n",
    "}\n",
    "\n",
    "function printLabel(labelledObj: LabelledValue) {\n",
    "  console.log(labelledObj.label);\n",
    "}\n",
    "\n",
    "let myObj = {size: 10, label: \"Size 10 Object\"};\n",
    "printLabel(myObj);"
   ]
  },
  {
   "cell_type": "markdown",
   "metadata": {},
   "source": [
    "LabelledValue接口就好比一个名字，用来描述上面例子里的要求。 它代表了有一个label属性且类型为string的对象。 需要注意的是，我们在这里并不能像在其它语言里一样，说传给printLabel的对象实现了这个接口。我们只会去关注值的外形。 只要传入的对象满足上面提到的必要条件，那么它就是被允许的。\n",
    "\n",
    "还有一点值得提的是，类型检查器不会去检查属性的顺序，只要相应的属性存在并且类型也是对的就可以。\n",
    "\n",
    "## 可选属性\n",
    "\n",
    "接口里的属性不全都是必需的。 有些是只在某些条件下存在，或者根本不存在。 可选属性在应用“option bags”模式时很常用，即给函数传入的参数对象中只有部分属性赋值了。\n",
    "\n",
    "下面是应用了“option bags”的例子："
   ]
  },
  {
   "cell_type": "code",
   "execution_count": null,
   "metadata": {
    "collapsed": true
   },
   "outputs": [],
   "source": [
    "interface SquareConfig {\n",
    "  color?: string;\n",
    "  width?: number;\n",
    "}\n",
    "\n",
    "function createSquare(config: SquareConfig): {color: string; area: number} {\n",
    "  let newSquare = {color: \"white\", area: 100};\n",
    "  if (config.color) {\n",
    "    newSquare.color = config.color;\n",
    "  }\n",
    "  if (config.width) {\n",
    "    newSquare.area = config.width * config.width;\n",
    "  }\n",
    "  return newSquare;\n",
    "}\n",
    "\n",
    "let mySquare = createSquare({color: \"black\"});"
   ]
  },
  {
   "cell_type": "markdown",
   "metadata": {},
   "source": [
    "带有可选属性的接口与普通的接口定义差不多，只是在可选属性名字定义的后面加一个?符号。\n",
    "\n",
    "可选属性的好处之一是可以对可能存在的属性进行预定义，好处之二是可以捕获引用了不存在的属性时的错误。 比如，我们故意将createSquare里的color属性名拼错，就会得到一个错误提示："
   ]
  },
  {
   "cell_type": "code",
   "execution_count": null,
   "metadata": {
    "collapsed": true
   },
   "outputs": [],
   "source": [
    "interface SquareConfig {\n",
    "  color?: string;\n",
    "  width?: number;\n",
    "}\n",
    "\n",
    "function createSquare(config: SquareConfig): { color: string; area: number } {\n",
    "  let newSquare = {color: \"white\", area: 100};\n",
    "  if (config.color) {\n",
    "    // Error: Property 'collor' does not exist on type 'SquareConfig'\n",
    "    newSquare.color = config.collor;  // Type-checker can catch the mistyped name here\n",
    "  }\n",
    "  if (config.width) {\n",
    "    newSquare.area = config.width * config.width;\n",
    "  }\n",
    "  return newSquare;\n",
    "}\n",
    "\n",
    "let mySquare = createSquare({color: \"black\"});"
   ]
  },
  {
   "cell_type": "markdown",
   "metadata": {},
   "source": [
    "## 只读属性\n",
    "\n",
    "一些对象属性只能在对象刚刚创建的时候修改其值。 你可以在属性名前用readonly来指定只读属性:"
   ]
  },
  {
   "cell_type": "code",
   "execution_count": null,
   "metadata": {
    "collapsed": true
   },
   "outputs": [],
   "source": [
    "interface Point {\n",
    "    readonly x: number;\n",
    "    readonly y: number;\n",
    "}"
   ]
  },
  {
   "cell_type": "markdown",
   "metadata": {},
   "source": [
    "你可以通过赋值一个对象字面量来构造一个Point。 赋值后，x和y再也不能被改变了。"
   ]
  },
  {
   "cell_type": "code",
   "execution_count": null,
   "metadata": {
    "collapsed": true
   },
   "outputs": [],
   "source": [
    "let p1: Point = { x: 10, y: 20 };\n",
    "p1.x = 5; // error!"
   ]
  },
  {
   "cell_type": "markdown",
   "metadata": {},
   "source": [
    "TypeScript具有ReadonlyArray<T>类型，它与Array<T>相似，只是把怕有可变方法去掉了，因此可以确保数组创建后再也不能被修改："
   ]
  },
  {
   "cell_type": "code",
   "execution_count": null,
   "metadata": {
    "collapsed": true
   },
   "outputs": [],
   "source": [
    "let a: number[] = [1, 2, 3, 4];\n",
    "let ro: ReadonlyArray<number> = a;\n",
    "ro[0] = 12; // error!\n",
    "ro.push(5); // error!\n",
    "ro.length = 100; // error!\n",
    "a = ro; // error!"
   ]
  },
  {
   "cell_type": "markdown",
   "metadata": {},
   "source": [
    "上面代码的最后一行，可以看到就算把整个ReadonlyArray赋值到一个普通数组也是不可以的。 但是你可以用类型断言重写："
   ]
  },
  {
   "cell_type": "code",
   "execution_count": null,
   "metadata": {
    "collapsed": true
   },
   "outputs": [],
   "source": [
    "a = ro as number[];\n",
    "readonly vs const"
   ]
  },
  {
   "cell_type": "markdown",
   "metadata": {},
   "source": [
    "最简单判断该用readonly还是const的方法是看要把它做为变量使用还是做为一个属性。 做为变量使用的话用const，若做为属性则使用readonly。\n",
    "\n",
    "## 额外的属性检查\n",
    "\n",
    "我们在第一个例子里使用了接口，TypeScript让我们传入{ size: number; label: string; }到仅期望得到{ label: string; }的函数里。 我们已经学过了可选属性，并且知道他们在“option bags”模式里很有用。\n",
    "\n",
    "然而，天真地将这两者结合的话就会像在JavaScript里那样搬起石头砸自己的脚。 比如，拿createSquare例子来说："
   ]
  },
  {
   "cell_type": "code",
   "execution_count": null,
   "metadata": {
    "collapsed": true
   },
   "outputs": [],
   "source": [
    "interface SquareConfig {\n",
    "    color?: string;\n",
    "    width?: number;\n",
    "}\n",
    "\n",
    "function createSquare(config: SquareConfig): { color: string; area: number } {\n",
    "    // ...\n",
    "}\n",
    "\n",
    "let mySquare = createSquare({ colour: \"red\", width: 100 });"
   ]
  },
  {
   "cell_type": "markdown",
   "metadata": {},
   "source": [
    "注意传入createSquare的参数拼写为colour而不是color。 在JavaScript里，这会默默地失败。\n",
    "\n",
    "你可能会争辩这个程序已经正确地类型化了，因为width属性是兼容的，不存在color属性，而且额外的colour属性是无意义的。\n",
    "\n",
    "然而，TypeScript会认为这段代码可能存在bug。 对象字面量会被特殊对待而且会经过额外属性检查，当将它们赋值给变量或作为参数传递的时候。 如果一个对象字面量存在任何“目标类型”不包含的属性时，你会得到一个错误。"
   ]
  },
  {
   "cell_type": "code",
   "execution_count": null,
   "metadata": {
    "collapsed": true
   },
   "outputs": [],
   "source": [
    "// error: 'colour' not expected in type 'SquareConfig'\n",
    "let mySquare = createSquare({ colour: \"red\", width: 100 });"
   ]
  },
  {
   "cell_type": "markdown",
   "metadata": {},
   "source": [
    "绕开这些检查非常简单。 最简便的方法是使用类型断言："
   ]
  },
  {
   "cell_type": "code",
   "execution_count": null,
   "metadata": {
    "collapsed": true
   },
   "outputs": [],
   "source": [
    "let mySquare = createSquare({ width: 100, opacity: 0.5 } as SquareConfig);"
   ]
  },
  {
   "cell_type": "markdown",
   "metadata": {},
   "source": [
    "然而，最佳的方式是能够添加一个字符串索引签名，前提是你能够确定这个对象可能具有某些做为特殊用途使用的额外属性。 如果SquareConfig带有上面定义的类型的color和width属性，并且还会带有任意数量的其它属性，那么我们可以这样定义它："
   ]
  },
  {
   "cell_type": "code",
   "execution_count": null,
   "metadata": {
    "collapsed": true
   },
   "outputs": [],
   "source": [
    "interface SquareConfig {\n",
    "    color?: string;\n",
    "    width?: number;\n",
    "    [propName: string]: any;\n",
    "}"
   ]
  },
  {
   "cell_type": "markdown",
   "metadata": {},
   "source": [
    "我们稍后会讲到索引签名，但在这我们要表示的是SquareConfig可以有任意数量的属性，并且只要它们不是color和width，那么就无所谓它们的类型是什么。\n",
    "\n",
    "还有最后一种跳过这些检查的方式，这可能会让你感到惊讶，它就是将这个对象赋值给一个另一个变量： 因为squareOptions不会经过额外属性检查，所以编译器不会报错。"
   ]
  },
  {
   "cell_type": "code",
   "execution_count": null,
   "metadata": {
    "collapsed": true
   },
   "outputs": [],
   "source": [
    "let squareOptions = { colour: \"red\", width: 100 };\n",
    "let mySquare = createSquare(squareOptions);"
   ]
  },
  {
   "cell_type": "markdown",
   "metadata": {},
   "source": [
    "要留意，在像上面一样的简单代码里，你可能不应该去绕开这些检查。 对于包含方法和内部状态的复杂对象字面量来讲，你可能需要使用这些技巧，但是大部额外属性检查错误是真正的bug。 就是说你遇到了额外类型检查出的错误，比如选择包，你应该去审查一下你的类型声明。 在这里，如果支持传入color或colour属性到createSquare，你应该修改SquareConfig定义来体现出这一点。\n",
    "\n",
    "## 函数类型\n",
    "\n",
    "接口能够描述JavaScript中对象拥有的各种各样的外形。 除了描述带有属性的普通对象外，接口也可以描述函数类型。\n",
    "\n",
    "为了使用接口表示函数类型，我们需要给接口定义一个调用签名。 它就像是一个只有参数列表和返回值类型的函数定义。参数列表里的每个参数都需要名字和类型。"
   ]
  },
  {
   "cell_type": "code",
   "execution_count": null,
   "metadata": {
    "collapsed": true
   },
   "outputs": [],
   "source": [
    "interface SearchFunc {\n",
    "  (source: string, subString: string): boolean;\n",
    "}"
   ]
  },
  {
   "cell_type": "markdown",
   "metadata": {},
   "source": [
    "这样定义后，我们可以像使用其它接口一样使用这个函数类型的接口。 下例展示了如何创建一个函数类型的变量，并将一个同类型的函数赋值给这个变量。"
   ]
  },
  {
   "cell_type": "code",
   "execution_count": null,
   "metadata": {
    "collapsed": true
   },
   "outputs": [],
   "source": [
    "let mySearch: SearchFunc;\n",
    "mySearch = function(source: string, subString: string) {\n",
    "  let result = source.search(subString);\n",
    "  if (result == -1) {\n",
    "    return false;\n",
    "  }\n",
    "  else {\n",
    "    return true;\n",
    "  }\n",
    "}"
   ]
  },
  {
   "cell_type": "markdown",
   "metadata": {},
   "source": [
    "对于函数类型的类型检查来说，函数的参数名不需要与接口里定义的名字相匹配。 比如，我们使用下面的代码重写上面的例子："
   ]
  },
  {
   "cell_type": "code",
   "execution_count": null,
   "metadata": {
    "collapsed": true
   },
   "outputs": [],
   "source": [
    "let mySearch: SearchFunc;\n",
    "mySearch = function(src: string, sub: string): boolean {\n",
    "  let result = src.search(sub);\n",
    "  if (result == -1) {\n",
    "    return false;\n",
    "  }\n",
    "  else {\n",
    "    return true;\n",
    "  }\n",
    "}"
   ]
  },
  {
   "cell_type": "markdown",
   "metadata": {},
   "source": [
    "函数的参数会逐个进行检查，要求对应位置上的参数类型是兼容的。 如果你不想指定类型，Typescript的类型系统会推断出参数类型，因为函数直接赋值给了SearchFunc类型变量。 函数的返回值类型是通过其返回值推断出来的（此例是false和true）。 如果让这个函数返回数字或字符串，类型检查器会警告我们函数的返回值类型与SearchFunc接口中的定义不匹配。"
   ]
  },
  {
   "cell_type": "code",
   "execution_count": null,
   "metadata": {
    "collapsed": true
   },
   "outputs": [],
   "source": [
    "let mySearch: SearchFunc;\n",
    "mySearch = function(src, sub) {\n",
    "    let result = src.search(sub);\n",
    "    if (result == -1) {\n",
    "        return false;\n",
    "    }\n",
    "    else {\n",
    "        return true;\n",
    "    }\n",
    "}"
   ]
  },
  {
   "cell_type": "markdown",
   "metadata": {},
   "source": [
    "## 可索引的类型\n",
    "\n",
    "与使用接口描述函数类型差不多，我们也可以描述那些能够“通过索引得到”的类型，比如a[10]或ageMap[\"daniel\"]。 可索引类型具有一个索引签名，它描述了对象索引的类型，还有相应的索引返回值类型。 让我们看一个例子："
   ]
  },
  {
   "cell_type": "code",
   "execution_count": null,
   "metadata": {
    "collapsed": true
   },
   "outputs": [],
   "source": [
    "interface StringArray {\n",
    "  [index: number]: string;\n",
    "}\n",
    "\n",
    "let myArray: StringArray;\n",
    "myArray = [\"Bob\", \"Fred\"];\n",
    "\n",
    "let myStr: string = myArray[0];"
   ]
  },
  {
   "cell_type": "markdown",
   "metadata": {},
   "source": [
    "上面例子里，我们定义了StringArray接口，它具有索引签名。 这个索引签名表示了当用number去索引StringArray时会得到string类型的返回值。\n",
    "\n",
    "共有支持两种索引签名：字符串和数字。 可以同时使用两种类型的索引，但是数字索引的返回值必须是字符串索引返回值类型的子类型。 这是因为当使用number来索引时，JavaScript会将它转换成string然后再去索引对象。 也就是说用100（一个number）去索引等同于使用\"100\"（一个string）去索引，因此两者需要保持一致。"
   ]
  },
  {
   "cell_type": "code",
   "execution_count": null,
   "metadata": {
    "collapsed": true
   },
   "outputs": [],
   "source": [
    "class Animal {\n",
    "    name: string;\n",
    "}\n",
    "class Dog extends Animal {\n",
    "    breed: string;\n",
    "}\n",
    "\n",
    "// Error: indexing with a 'string' will sometimes get you a Dog!\n",
    "interface NotOkay {\n",
    "    [x: number]: Animal;\n",
    "    [x: string]: Dog;\n",
    "}"
   ]
  },
  {
   "cell_type": "markdown",
   "metadata": {},
   "source": [
    "字符串索引签名能够很好的描述dictionary模式，并且它们也会确保所有属性与其返回值类型相匹配。 因为字符串索引声明了obj.property和obj[\"property\"]两种形式都可以。 下面的例子里，name的类型与字符串索引类型不匹配，所以类型检查器给出一个错误提示："
   ]
  },
  {
   "cell_type": "code",
   "execution_count": null,
   "metadata": {
    "collapsed": true
   },
   "outputs": [],
   "source": [
    "interface NumberDictionary {\n",
    "  [index: string]: number;\n",
    "  length: number;    // 可以，length是number类型\n",
    "  name: string       // 错误，`name`的类型不是索引类型的子类型\n",
    "}"
   ]
  },
  {
   "cell_type": "markdown",
   "metadata": {},
   "source": [
    "最后，你可以将索引签名设置为只读，这样就防止了给索引赋值："
   ]
  },
  {
   "cell_type": "code",
   "execution_count": null,
   "metadata": {
    "collapsed": true
   },
   "outputs": [],
   "source": [
    "interface ReadonlyStringArray {\n",
    "    readonly [index: number]: string;\n",
    "}\n",
    "let myArray: ReadonlyStringArray = [\"Alice\", \"Bob\"];\n",
    "myArray[2] = \"Mallory\"; // error!"
   ]
  },
  {
   "cell_type": "markdown",
   "metadata": {},
   "source": [
    "你不能设置myArray[2]，因为索引签名是只读的。\n",
    "\n",
    "## 类类型\n",
    "\n",
    "### 实现接口\n",
    "\n",
    "与C#或Java里接口的基本作用一样，TypeScript也能够用它来明确的强制一个类去符合某种契约。"
   ]
  },
  {
   "cell_type": "code",
   "execution_count": null,
   "metadata": {
    "collapsed": true
   },
   "outputs": [],
   "source": [
    "interface ClockInterface {\n",
    "    currentTime: Date;\n",
    "}\n",
    "\n",
    "class Clock implements ClockInterface {\n",
    "    currentTime: Date;\n",
    "    constructor(h: number, m: number) { }\n",
    "}"
   ]
  },
  {
   "cell_type": "markdown",
   "metadata": {},
   "source": [
    "你也可以在接口中描述一个方法，在类里实现它，如同下面的setTime方法一样："
   ]
  },
  {
   "cell_type": "code",
   "execution_count": null,
   "metadata": {
    "collapsed": true
   },
   "outputs": [],
   "source": [
    "interface ClockInterface {\n",
    "    currentTime: Date;\n",
    "    setTime(d: Date);\n",
    "}\n",
    "\n",
    "class Clock implements ClockInterface {\n",
    "    currentTime: Date;\n",
    "    setTime(d: Date) {\n",
    "        this.currentTime = d;\n",
    "    }\n",
    "    constructor(h: number, m: number) { }\n",
    "}"
   ]
  },
  {
   "cell_type": "markdown",
   "metadata": {},
   "source": [
    "接口描述了类的公共部分，而不是公共和私有两部分。 它不会帮你检查类是否具有某些私有成员。\n",
    "\n",
    "类静态部分与实例部分的区别\n",
    "\n",
    "当你操作类和接口的时候，你要知道类是具有两个类型的：静态部分的类型和实例的类型。 你会注意到，当你用构造器签名去定义一个接口并试图定义一个类去实现这个接口时会得到一个错误："
   ]
  },
  {
   "cell_type": "code",
   "execution_count": null,
   "metadata": {
    "collapsed": true
   },
   "outputs": [],
   "source": [
    "interface ClockConstructor {\n",
    "    new (hour: number, minute: number);\n",
    "}\n",
    "\n",
    "class Clock implements ClockConstructor {\n",
    "    currentTime: Date;\n",
    "    constructor(h: number, m: number) { }\n",
    "}"
   ]
  },
  {
   "cell_type": "markdown",
   "metadata": {},
   "source": [
    "这里因为当一个类实现了一个接口时，只对其实例部分进行类型检查。 constructor存在于类的静态部分，所以不在检查的范围内。\n",
    "\n",
    "因此，我们应该直接操作类的静态部分。 看下面的例子，我们定义了两个接口，ClockConstructor为构造函数所用和ClockInterface为实例方法所用。 为了方便我们定义一个构造函数createClock，它用传入的类型创建实例。\n"
   ]
  },
  {
   "cell_type": "code",
   "execution_count": null,
   "metadata": {
    "collapsed": true
   },
   "outputs": [],
   "source": [
    "interface ClockConstructor {\n",
    "    new (hour: number, minute: number): ClockInterface;\n",
    "}\n",
    "interface ClockInterface {\n",
    "    tick();\n",
    "}\n",
    "\n",
    "function createClock(ctor: ClockConstructor, hour: number, minute: number): ClockInterface {\n",
    "    return new ctor(hour, minute);\n",
    "}\n",
    "\n",
    "class DigitalClock implements ClockInterface {\n",
    "    constructor(h: number, m: number) { }\n",
    "    tick() {\n",
    "        console.log(\"beep beep\");\n",
    "    }\n",
    "}\n",
    "class AnalogClock implements ClockInterface {\n",
    "    constructor(h: number, m: number) { }\n",
    "    tick() {\n",
    "        console.log(\"tick tock\");\n",
    "    }\n",
    "}\n",
    "\n",
    "let digital = createClock(DigitalClock, 12, 17);\n",
    "let analog = createClock(AnalogClock, 7, 32);"
   ]
  },
  {
   "cell_type": "markdown",
   "metadata": {},
   "source": [
    "因为createClock的第一个参数是ClockConstructor类型，在createClock(AnalogClock, 7, 32)里，会检查AnalogClock是否符合构造函数签名。\n",
    "\n",
    "## 扩展接口\n",
    "\n",
    "和类一样，接口也可以相互扩展。 这让我们能够从一个接口里复制成员到另一个接口里，可以更灵活地将接口分割到可重用的模块里。"
   ]
  },
  {
   "cell_type": "code",
   "execution_count": null,
   "metadata": {
    "collapsed": true
   },
   "outputs": [],
   "source": [
    "interface Shape {\n",
    "    color: string;\n",
    "}\n",
    "\n",
    "interface Square extends Shape {\n",
    "    sideLength: number;\n",
    "}\n",
    "\n",
    "let square = <Square>{};\n",
    "square.color = \"blue\";\n",
    "square.sideLength = 10;"
   ]
  },
  {
   "cell_type": "markdown",
   "metadata": {},
   "source": [
    "一个接口可以继承多个接口，创建出多个接口的合成接口。"
   ]
  },
  {
   "cell_type": "code",
   "execution_count": null,
   "metadata": {
    "collapsed": true
   },
   "outputs": [],
   "source": [
    "interface Shape {\n",
    "    color: string;\n",
    "}\n",
    "\n",
    "interface PenStroke {\n",
    "    penWidth: number;\n",
    "}\n",
    "\n",
    "interface Square extends Shape, PenStroke {\n",
    "    sideLength: number;\n",
    "}\n",
    "\n",
    "let square = <Square>{};\n",
    "square.color = \"blue\";\n",
    "square.sideLength = 10;\n",
    "square.penWidth = 5.0;"
   ]
  },
  {
   "cell_type": "markdown",
   "metadata": {},
   "source": [
    "## 混合类型\n",
    "\n",
    "先前我们提过，接口能够描述JavaScript里丰富的类型。 因为JavaScript其动态灵活的特点，有时你会希望一个对象可以同时具有上面提到的多种类型。\n",
    "\n",
    "一个例子就是，一个对象可以同时做为函数和对象使用，并带有额外的属性。"
   ]
  },
  {
   "cell_type": "code",
   "execution_count": null,
   "metadata": {
    "collapsed": true
   },
   "outputs": [],
   "source": [
    "interface Counter {\n",
    "    (start: number): string;\n",
    "    interval: number;\n",
    "    reset(): void;\n",
    "}\n",
    "\n",
    "function getCounter(): Counter {\n",
    "    let counter = <Counter>function (start: number) { };\n",
    "    counter.interval = 123;\n",
    "    counter.reset = function () { };\n",
    "    return counter;\n",
    "}\n",
    "\n",
    "let c = getCounter();\n",
    "c(10);\n",
    "c.reset();\n",
    "c.interval = 5.0;"
   ]
  },
  {
   "cell_type": "markdown",
   "metadata": {},
   "source": [
    "在使用JavaScript第三方库的时候，你可能需要像上面那样去完整地定义类型。\n",
    "\n",
    "## 接口继承类\n",
    "\n",
    "当接口继承了一个类类型时，它会继承类的成员但不包括其实现。 就好像接口声明了所有类中存在的成员，但并没有提供具体实现一样。 接口同样会继承到类的private和protected成员。 这意味着当你创建了一个接口继承了一个拥有私有或受保护的成员的类时，这个接口类型只能被这个类或其子类所实现（implement）。\n",
    "\n",
    "这是很有用的，当你有一个很深层次的继承，但是只想你的代码只是针对拥有特定属性的子类起作用的时候。子类除了继承自基类外与基类没有任何联系。 例："
   ]
  },
  {
   "cell_type": "code",
   "execution_count": null,
   "metadata": {
    "collapsed": true
   },
   "outputs": [],
   "source": [
    "class Control {\n",
    "    private state: any;\n",
    "}\n",
    "\n",
    "interface SelectableControl extends Control {\n",
    "    select(): void;\n",
    "}\n",
    "\n",
    "class Button extends Control {\n",
    "    select() { }\n",
    "}\n",
    "class TextBox extends Control {\n",
    "    select() { }\n",
    "}\n",
    "class Image extends Control {\n",
    "}\n",
    "class Location {\n",
    "    select() { }\n",
    "}"
   ]
  },
  {
   "cell_type": "markdown",
   "metadata": {},
   "source": [
    "在上面的例子里，SelectableControl包含了Control的所有成员，包括私有成员state。 因为state是私有成员，所以只能够是Control的子类们才能实现SelectableControl接口。 因为只有Control的子类才能够拥有一个声明于Control的私有成员state，这对私有成员的兼容性是必需的。\n",
    "\n",
    "在Control类内部，是允许通过SelectableControl的实例来访问私有成员state的。 实际上，SelectableControl就像Control一样，并拥有一个select方法。 Button和TextBox类是SelectableControl的子类（因为它们都继承自Control并有select方法），但Image和Location类并不是这样的。\n",
    "\n",
    "[接口](http://www.runoob.com/manual/gitbook/TypeScript/_book/doc/handbook/Interfaces.html)"
   ]
  }
 ],
 "metadata": {
  "kernelspec": {
   "display_name": "Javascript (Node.js)",
   "language": "javascript",
   "name": "javascript"
  }
 },
 "nbformat": 4,
 "nbformat_minor": 2
}
