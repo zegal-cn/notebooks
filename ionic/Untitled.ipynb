{
 "cells": [
  {
   "cell_type": "markdown",
   "metadata": {},
   "source": [
    "# Tutorial\n",
    "\n",
    "## 安装\n",
    "\n",
    "```bash\n",
    "npm install -g ionic cordova\n",
    "```\n",
    "\n",
    "## 开始一个新的 Ionic App\n",
    "\n",
    "```bash\n",
    "ionic start MyIonicProject tutorial\n",
    "```\n",
    "参数   |  描述\n",
    "--------|----------------\n",
    "start  | 告诉CLI创建一个新的应用程序\n",
    "MyIonicProject | 将是您的项目中的目录名称和应用程序名称\n",
    "tutorial | 项目的起始模板\n",
    "\n",
    "ionic可用的几个模板：\n",
    "\n",
    "模板名   |  描述\n",
    "----------|--------------------\n",
    "tabs    | 简单的3标签布局\n",
    "sidemenu  | 一个布局与侧面的可滑动菜单\n",
    "blank    | 一个单独的启动器\n",
    "super    | 启动项目超过14个可以使用的页面设计\n",
    "tutorial  | 指导启动项目\n",
    "\n",
    "* 如果不设置模板，缺省将使用 `tab` 模板\n",
    "\n",
    "## 在浏览器显示 app\n",
    "\n",
    "```bash\n",
    "cd MyIonicProject\n",
    "ionic serve\n",
    "```"
   ]
  }
 ],
 "metadata": {
  "kernelspec": {
   "display_name": "Javascript (Node.js)",
   "language": "javascript",
   "name": "javascript"
  },
  "language_info": {
   "file_extension": ".js",
   "mimetype": "application/javascript",
   "name": "javascript",
   "version": "6.11.1"
  }
 },
 "nbformat": 4,
 "nbformat_minor": 2
}
