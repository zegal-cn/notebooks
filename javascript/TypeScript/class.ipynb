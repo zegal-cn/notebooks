{
 "cells": [
  {
   "cell_type": "markdown",
   "metadata": {},
   "source": [
    "## 介绍\n",
    "\n",
    "传统的JavaScript程序使用函数和基于原型的继承来创建可重用的组件，但这对于熟悉使用面向对象方式的程序员来说有些棘手，因为他们用的是基于类的继承并且对象是从类构建出来的。 从ECMAScript 2015，也就是ECMAScript 6，JavaScript程序将可以使用这种基于类的面向对象方法。 在TypeScript里，我们允许开发者现在就使用这些特性，并且编译后的JavaScript可以在所有主流浏览器和平台上运行，而不需要等到下个JavaScript版本。\n",
    "\n",
    "## 类\n",
    "\n",
    "下面看一个使用类的例子："
   ]
  },
  {
   "cell_type": "code",
   "execution_count": null,
   "metadata": {
    "collapsed": true
   },
   "outputs": [],
   "source": [
    "class Greeter {\n",
    "    greeting: string;\n",
    "    constructor(message: string) {\n",
    "        this.greeting = message;\n",
    "    }\n",
    "    greet() {\n",
    "        return \"Hello, \" + this.greeting;\n",
    "    }\n",
    "}\n",
    "\n",
    "let greeter = new Greeter(\"world\");"
   ]
  },
  {
   "cell_type": "markdown",
   "metadata": {},
   "source": [
    "如果你使用过C#或Java，你会对这种语法非常熟悉。 我们声明一个Greeter类。这个类有3个成员：一个叫做greeting的属性，一个构造函数和一个greet方法。\n",
    "\n",
    "你会注意到，我们在引用任何一个类成员的时候都用了`this`。 它表示我们访问的是类的成员。\n",
    "\n",
    "最后一行，我们使用`new`构造了Greeter类的一个实例。 它会调用之前定义的构造函数，创建一个Greeter类型的新对象，并执行构造函数初始化它。\n",
    "\n",
    "## 继承\n",
    "\n",
    "在TypeScript里，我们可以使用常用的面向对象模式。 当然，基于类的程序设计中最基本的模式是允许使用继承来扩展一个类。\n",
    "\n",
    "看下面的例子："
   ]
  },
  {
   "cell_type": "code",
   "execution_count": null,
   "metadata": {
    "collapsed": true
   },
   "outputs": [],
   "source": [
    "class Animal {\n",
    "    name:string;\n",
    "    constructor(theName: string) { this.name = theName; }\n",
    "    move(distanceInMeters: number = 0) {\n",
    "        console.log(`${this.name} moved ${distanceInMeters}m.`);\n",
    "    }\n",
    "}\n",
    "\n",
    "class Snake extends Animal {\n",
    "    constructor(name: string) { super(name); }\n",
    "    move(distanceInMeters = 5) {\n",
    "        console.log(\"Slithering...\");\n",
    "        super.move(distanceInMeters);\n",
    "    }\n",
    "}\n",
    "\n",
    "class Horse extends Animal {\n",
    "    constructor(name: string) { super(name); }\n",
    "    move(distanceInMeters = 45) {\n",
    "        console.log(\"Galloping...\");\n",
    "        super.move(distanceInMeters);\n",
    "    }\n",
    "}\n",
    "\n",
    "let sam = new Snake(\"Sammy the Python\");\n",
    "let tom: Animal = new Horse(\"Tommy the Palomino\");\n",
    "\n",
    "sam.move();\n",
    "tom.move(34);"
   ]
  },
  {
   "cell_type": "markdown",
   "metadata": {},
   "source": [
    "这个例子展示了TypeScript中继承的一些特征，与其它语言类似。 我们使用`extends`来创建子类。你可以看到Horse和Snake类是基类Animal的子类，并且可以访问其属性和方法。\n",
    "\n",
    "包含`constructor`函数的派生类必须调用`super()`，它会执行基类的构造方法。\n",
    "\n",
    "这个例子演示了如何在子类里可以重写父类的方法。 Snake类和Horse类都创建了move方法，重写了从Animal继承来的move方法，使得move方法根据不同的类而具有不同的功能。 注意，即使tom被声明为Animal类型，因为它的值是Horse，tom.move(34)调用Horse里的重写方法：\n",
    "\n",
    "```\n",
    "Slithering...\n",
    "Sammy the Python moved 5m.\n",
    "Galloping...\n",
    "Tommy the Palomino moved 34m.\n",
    "```\n",
    "## 公共，私有与受保护的修饰符\n",
    "\n",
    "### 默认为公有\n",
    "\n",
    "在上面的例子里，我们可以自由的访问程序里定义的成员。 如果你对其它语言中的类比较了解，就会注意到我们在之前的代码里并没有使用`public`来做修饰；例如，C#要求必须明确地使用`public`指定成员是可见的。 在TypeScript里，每个成员默认为`public`的。\n",
    "\n",
    "你也可以明确的将一个成员标记成`public`。 我们可以用下面的方式来重写上面的Animal类："
   ]
  },
  {
   "cell_type": "code",
   "execution_count": null,
   "metadata": {
    "collapsed": true
   },
   "outputs": [],
   "source": [
    "class Animal {\n",
    "    public name: string;\n",
    "    public constructor(theName: string) { this.name = theName; }\n",
    "    public move(distanceInMeters: number) {\n",
    "        console.log(`${this.name} moved ${distanceInMeters}m.`);\n",
    "    }\n",
    "}"
   ]
  },
  {
   "cell_type": "markdown",
   "metadata": {},
   "source": [
    "### 理解private\n",
    "\n",
    "当成员被标记成`private`时，它就不能在声明它的类的外部访问。比如："
   ]
  },
  {
   "cell_type": "code",
   "execution_count": null,
   "metadata": {
    "collapsed": true
   },
   "outputs": [],
   "source": [
    "class Animal {\n",
    "    private name: string;\n",
    "    constructor(theName: string) { this.name = theName; }\n",
    "}\n",
    "\n",
    "new Animal(\"Cat\").name; // Error: 'name' is private;"
   ]
  },
  {
   "cell_type": "markdown",
   "metadata": {},
   "source": [
    "TypeScript使用的是结构性类型系统。 当我们比较两种不同的类型时，并不在乎它们从哪儿来的，如果所有成员的类型都是兼容的，我们就认为它们的类型是兼容的。\n",
    "\n",
    "然而，当我们比较带有`private`或`protected`成员的类型的时候，情况就不同了。 如果其中一个类型里包含一个`private`成员，那么只有当另外一个类型中也存在这样一个`private`成员， 并且它们是来自同一处声明时，我们才认为这两个类型是兼容的。 对于`protected`成员也使用这个规则。\n",
    "\n",
    "下面来看一个例子，详细的解释了这点："
   ]
  },
  {
   "cell_type": "code",
   "execution_count": null,
   "metadata": {
    "collapsed": true
   },
   "outputs": [],
   "source": [
    "class Animal {\n",
    "    private name: string;\n",
    "    constructor(theName: string) { this.name = theName; }\n",
    "}\n",
    "\n",
    "class Rhino extends Animal {\n",
    "    constructor() { super(\"Rhino\"); }\n",
    "}\n",
    "\n",
    "class Employee {\n",
    "    private name: string;\n",
    "    constructor(theName: string) { this.name = theName; }\n",
    "}\n",
    "\n",
    "let animal = new Animal(\"Goat\");\n",
    "let rhino = new Rhino();\n",
    "let employee = new Employee(\"Bob\");\n",
    "\n",
    "animal = rhino;\n",
    "animal = employee; // Error: Animal and Employee are not compatible"
   ]
  },
  {
   "cell_type": "markdown",
   "metadata": {},
   "source": [
    "这个例子中有Animal和Rhino两个类，Rhino是Animal类的子类。 还有一个Employee类，其类型看上去与Animal是相同的。 我们创建了几个这些类的实例，并相互赋值来看看会发生什么。 因为Animal和Rhino共享了来自Animal里的私有成员定义`private name: string`，因此它们是兼容的。 然而Employee却不是这样。当把Employee赋值给Animal的时候，得到一个错误，说它们的类型不兼容。 尽管Employee里也有一个私有成员name，但它明显不是Animal里面定义的那个。\n",
    "\n",
    "### 理解protected\n",
    "\n",
    "`protected`修饰符与`private`修饰符的行为很相似，但有一点不同，protected成员在派生类中仍然可以访问。例如："
   ]
  },
  {
   "cell_type": "code",
   "execution_count": null,
   "metadata": {
    "collapsed": true
   },
   "outputs": [],
   "source": [
    "class Person {\n",
    "    protected name: string;\n",
    "    constructor(name: string) { this.name = name; }\n",
    "}\n",
    "\n",
    "class Employee extends Person {\n",
    "    private department: string;\n",
    "\n",
    "    constructor(name: string, department: string) {\n",
    "        super(name)\n",
    "        this.department = department;\n",
    "    }\n",
    "\n",
    "    public getElevatorPitch() {\n",
    "        return `Hello, my name is ${this.name} and I work in ${this.department}.`;\n",
    "    }\n",
    "}\n",
    "\n",
    "let howard = new Employee(\"Howard\", \"Sales\");\n",
    "console.log(howard.getElevatorPitch());\n",
    "console.log(howard.name); // error"
   ]
  },
  {
   "cell_type": "markdown",
   "metadata": {},
   "source": [
    "注意，我们不能在Person类外使用name，但是我们仍然可以通过Employee类的实例方法访问，因为Employee是由Person派生出来的。\n",
    "\n",
    "构造函数也可以被标记成`protected`。 这意味着这个类不能在包含它的类外被实例化，但是能被继承。比如，"
   ]
  },
  {
   "cell_type": "code",
   "execution_count": null,
   "metadata": {
    "collapsed": true
   },
   "outputs": [],
   "source": [
    "class Person {\n",
    "    protected name: string;\n",
    "    protected constructor(theName: string) { this.name = theName; }\n",
    "}\n",
    "\n",
    "// Employee can extend Person\n",
    "class Employee extends Person {\n",
    "    private department: string;\n",
    "\n",
    "    constructor(name: string, department: string) {\n",
    "        super(name);\n",
    "        this.department = department;\n",
    "    }\n",
    "\n",
    "    public getElevatorPitch() {\n",
    "        return `Hello, my name is ${this.name} and I work in ${this.department}.`;\n",
    "    }\n",
    "}\n",
    "\n",
    "let howard = new Employee(\"Howard\", \"Sales\");\n",
    "let john = new Person(\"John\"); // Error: The 'Person' constructor is protected"
   ]
  },
  {
   "cell_type": "markdown",
   "metadata": {},
   "source": [
    "### readonly 修饰符\n",
    "\n",
    "你可以使用`readonly`关键字将属性设置为只读的。 只读属性必须在声明时或构造函数里被初始化。"
   ]
  },
  {
   "cell_type": "code",
   "execution_count": null,
   "metadata": {
    "collapsed": true
   },
   "outputs": [],
   "source": [
    "class Octopus {\n",
    "    readonly name: string;\n",
    "    readonly numberOfLegs: number = 8;\n",
    "    constructor (theName: string) {\n",
    "        this.name = theName;\n",
    "    }\n",
    "}\n",
    "let dad = new Octopus(\"Man with the 8 strong legs\");\n",
    "dad.name = \"Man with the 3-piece suit\"; // error! name is readonly."
   ]
  },
  {
   "cell_type": "markdown",
   "metadata": {},
   "source": [
    "### 参数属性\n",
    "\n",
    "在上面的例子中，我们不得不定义一个受保护的成员name和一个构造函数参数theName在Person类里，并且立刻给name和theName赋值。 这种情况经常会遇到。参数属性可以方便地让我们在一个地方定义并初始化一个成员。 下面的例子是对之前Animal类的修改版，使用了参数属性："
   ]
  },
  {
   "cell_type": "code",
   "execution_count": null,
   "metadata": {
    "collapsed": true
   },
   "outputs": [],
   "source": [
    "class Animal {\n",
    "    constructor(private name: string) { }\n",
    "    move(distanceInMeters: number) {\n",
    "        console.log(`${this.name} moved ${distanceInMeters}m.`);\n",
    "    }\n",
    "}"
   ]
  },
  {
   "cell_type": "markdown",
   "metadata": {},
   "source": [
    "注意看我们是如何舍弃了theName，仅在构造函数里使用`private name: string`参数来创建和初始化name成员。 我们把声明和赋值合并至一处。\n",
    "\n",
    "参数属性通过给构造函数参数添加一个访问限定符来声明。 使用`private`限定一个参数属性会声明并初始化一个私有成员；对于`public`和`protected`来说也是一样。\n",
    "\n",
    "### 存取器\n",
    "\n",
    "TypeScript支持`getters/setters`来截取对对象成员的访问。 它能帮助你有效的控制对对象成员的访问。\n",
    "\n",
    "下面来看如何把一类改写成使用`get`和`set`。 首先是一个没用使用存取器的例子。"
   ]
  },
  {
   "cell_type": "code",
   "execution_count": null,
   "metadata": {
    "collapsed": true
   },
   "outputs": [],
   "source": [
    "class Employee {\n",
    "    fullName: string;\n",
    "}\n",
    "\n",
    "let employee = new Employee();\n",
    "employee.fullName = \"Bob Smith\";\n",
    "if (employee.fullName) {\n",
    "    console.log(employee.fullName);\n",
    "}"
   ]
  },
  {
   "cell_type": "markdown",
   "metadata": {},
   "source": [
    "我们可以随意的设置fullName，这是非常方便的，但是这也可能会带来麻烦。\n",
    "\n",
    "下面这个版本里，我们先检查用户密码是否正确，然后再允许其修改employee。 我们把对fullName的直接访问改成了可以检查密码的`set`方法。 我们也加了一个`get`方法，让上面的例子仍然可以工作。"
   ]
  },
  {
   "cell_type": "code",
   "execution_count": null,
   "metadata": {
    "collapsed": true
   },
   "outputs": [],
   "source": [
    "let passcode = \"secret passcode\";\n",
    "\n",
    "class Employee {\n",
    "    private _fullName: string;\n",
    "\n",
    "    get fullName(): string {\n",
    "        return this._fullName;\n",
    "    }\n",
    "\n",
    "    set fullName(newName: string) {\n",
    "        if (passcode && passcode == \"secret passcode\") {\n",
    "            this._fullName = newName;\n",
    "        }\n",
    "        else {\n",
    "            console.log(\"Error: Unauthorized update of employee!\");\n",
    "        }\n",
    "    }\n",
    "}\n",
    "\n",
    "let employee = new Employee();\n",
    "employee.fullName = \"Bob Smith\";\n",
    "if (employee.fullName) {\n",
    "    alert(employee.fullName);\n",
    "}"
   ]
  },
  {
   "cell_type": "markdown",
   "metadata": {},
   "source": [
    "我们可以修改一下密码，来验证一下存取器是否是工作的。当密码不对时，会提示我们没有权限去修改employee。\n",
    "\n",
    "注意：若要使用存取器，要求设置编译器输出目标为ECMAScript 5或更高。\n",
    "\n",
    "### 静态属性\n",
    "\n",
    "到目前为止，我们只讨论了类的实例成员，那些仅当类被实例化的时候才会被初始化的属性。 我们也可以创建类的静态成员，这些属性存在于类本身上面而不是类的实例上。 在这个例子里，我们使用`static`定义`origin`，因为它是所有网格都会用到的属性。 每个实例想要访问这个属性的时候，都要在`origin`前面加上类名。 如同在实例属性上使用`this.`前缀来访问属性一样，这里我们使用`Grid.`来访问静态属性。"
   ]
  },
  {
   "cell_type": "code",
   "execution_count": null,
   "metadata": {
    "collapsed": true
   },
   "outputs": [],
   "source": [
    "class Grid {\n",
    "    static origin = {x: 0, y: 0};\n",
    "    calculateDistanceFromOrigin(point: {x: number; y: number;}) {\n",
    "        let xDist = (point.x - Grid.origin.x);\n",
    "        let yDist = (point.y - Grid.origin.y);\n",
    "        return Math.sqrt(xDist * xDist + yDist * yDist) / this.scale;\n",
    "    }\n",
    "    constructor (public scale: number) { }\n",
    "}\n",
    "\n",
    "let grid1 = new Grid(1.0);  // 1x scale\n",
    "let grid2 = new Grid(5.0);  // 5x scale\n",
    "\n",
    "console.log(grid1.calculateDistanceFromOrigin({x: 10, y: 10}));\n",
    "console.log(grid2.calculateDistanceFromOrigin({x: 10, y: 10}));"
   ]
  },
  {
   "cell_type": "markdown",
   "metadata": {},
   "source": [
    "## 抽象类\n",
    "\n",
    "抽象类是供其它类继承的基类。 他们一般不会直接被实例化。 不同于接口，抽象类可以包含成员的实现细节。 `abstract`关键字是用于定义抽象类和在抽象类内部定义抽象方法。"
   ]
  },
  {
   "cell_type": "code",
   "execution_count": null,
   "metadata": {
    "collapsed": true
   },
   "outputs": [],
   "source": [
    "abstract class Animal {\n",
    "    abstract makeSound(): void;\n",
    "    move(): void {\n",
    "        console.log('roaming the earch...');\n",
    "    }\n",
    "}"
   ]
  },
  {
   "cell_type": "markdown",
   "metadata": {},
   "source": [
    "抽象类中的抽象方法不包含具体实现并且必须在派生类中实现。 抽象方法的语法与接口方法相似。 两者都是定义方法签名不包含方法体。 然而，抽象方法必须使用`abstract`关键字并且可以包含访问符。"
   ]
  },
  {
   "cell_type": "code",
   "execution_count": null,
   "metadata": {
    "collapsed": true
   },
   "outputs": [],
   "source": [
    "abstract class Department {\n",
    "\n",
    "    constructor(public name: string) {\n",
    "    }\n",
    "\n",
    "    printName(): void {\n",
    "        console.log('Department name: ' + this.name);\n",
    "    }\n",
    "\n",
    "    abstract printMeeting(): void; // 必须在派生类中实现\n",
    "}\n",
    "\n",
    "class AccountingDepartment extends Department {\n",
    "\n",
    "    constructor() {\n",
    "        super('Accounting and Auditing'); // constructors in derived classes must call super()\n",
    "    }\n",
    "\n",
    "    printMeeting(): void {\n",
    "        console.log('The Accounting Department meets each Monday at 10am.');\n",
    "    }\n",
    "\n",
    "    generateReports(): void {\n",
    "        console.log('Generating accounting reports...');\n",
    "    }\n",
    "}\n",
    "\n",
    "let department: Department; // ok to create a reference to an abstract type\n",
    "department = new Department(); // error: cannot create an instance of an abstract class\n",
    "department = new AccountingDepartment(); // ok to create and assign a non-abstract subclass\n",
    "department.printName();\n",
    "department.printMeeting();\n",
    "department.generateReports(); // error: method doesn't exist on declared abstract type"
   ]
  },
  {
   "cell_type": "markdown",
   "metadata": {},
   "source": [
    "## 高级技巧\n",
    "\n",
    "### 构造函数\n",
    "\n",
    "当你在TypeScript里定义类的时候，实际上同时定义了很多东西。 首先是类的实例的类型。"
   ]
  },
  {
   "cell_type": "code",
   "execution_count": null,
   "metadata": {
    "collapsed": true
   },
   "outputs": [],
   "source": [
    "class Greeter {\n",
    "    greeting: string;\n",
    "    constructor(message: string) {\n",
    "        this.greeting = message;\n",
    "    }\n",
    "    greet() {\n",
    "        return \"Hello, \" + this.greeting;\n",
    "    }\n",
    "}\n",
    "\n",
    "let greeter: Greeter;\n",
    "greeter = new Greeter(\"world\");\n",
    "console.log(greeter.greet());"
   ]
  },
  {
   "cell_type": "markdown",
   "metadata": {},
   "source": [
    "在这里，我们写了`let greeter: Greeter`，意思是Greeter类实例的类型是Greeter。 这对于用过其它面向对象语言的程序员来讲已经是老习惯了。\n",
    "\n",
    "我们也创建了一个叫做构造函数的值。 这个函数会在我们使用new创建类实例的时候被调用。 下面我们来看看，上面的代码被编译成JavaScript后是什么样子的："
   ]
  },
  {
   "cell_type": "code",
   "execution_count": null,
   "metadata": {
    "collapsed": true
   },
   "outputs": [],
   "source": [
    "let Greeter = (function () {\n",
    "    function Greeter(message) {\n",
    "        this.greeting = message;\n",
    "    }\n",
    "    Greeter.prototype.greet = function () {\n",
    "        return \"Hello, \" + this.greeting;\n",
    "    };\n",
    "    return Greeter;\n",
    "})();\n",
    "\n",
    "let greeter;\n",
    "greeter = new Greeter(\"world\");\n",
    "console.log(greeter.greet());"
   ]
  },
  {
   "cell_type": "markdown",
   "metadata": {},
   "source": [
    "上面的代码里，let Greeter将被赋值为构造函数。 当我们使用new并执行这个函数后，便会得到一个类的实例。 这个构造函数也包含了类的所有静态属性。 换个角度说，我们可以认为类具有实例部分与静态部分这两个部分。\n",
    "\n",
    "让我们来改写一下这个例子，看看它们之前的区别："
   ]
  },
  {
   "cell_type": "code",
   "execution_count": null,
   "metadata": {
    "collapsed": true
   },
   "outputs": [],
   "source": [
    "class Greeter {\n",
    "    static standardGreeting = \"Hello, there\";\n",
    "    greeting: string;\n",
    "    greet() {\n",
    "        if (this.greeting) {\n",
    "            return \"Hello, \" + this.greeting;\n",
    "        }\n",
    "        else {\n",
    "            return Greeter.standardGreeting;\n",
    "        }\n",
    "    }\n",
    "}\n",
    "\n",
    "let greeter1: Greeter;\n",
    "greeter1 = new Greeter();\n",
    "console.log(greeter1.greet());\n",
    "\n",
    "let greeterMaker: typeof Greeter = Greeter;\n",
    "greeterMaker.standardGreeting = \"Hey there!\";\n",
    "let greeter2:Greeter = new greeterMaker();\n",
    "console.log(greeter2.greet());"
   ]
  },
  {
   "cell_type": "markdown",
   "metadata": {},
   "source": [
    "这个例子里，greeter1与之前看到的一样。 我们实例化Greeter类，并使用这个对象。 与我们之前看到的一样。\n",
    "\n",
    "再之后，我们直接使用类。 我们创建了一个叫做greeterMaker的变量。 这个变量保存了这个类或者说保存了类构造函数。 然后我们使用typeof Greeter，意思是取Greeter类的类型，而不是实例的类型。 或者更确切的说，\"告诉我Greeter标识符的类型\"，也就是构造函数的类型。 这个类型包含了类的所有静态成员和构造函数。 之后，就和前面一样，我们在greeterMaker上使用`new`，创建Greeter的实例。\n",
    "\n",
    "### 把类当做接口使用\n",
    "\n",
    "如上一节里所讲的，类定义会创建两个东西：类实例的类型和一个构造函数。 因为类可以创建出类型，所以你能够在可以使用接口的地方使用类。"
   ]
  },
  {
   "cell_type": "code",
   "execution_count": null,
   "metadata": {
    "collapsed": true
   },
   "outputs": [],
   "source": [
    "class Point {\n",
    "    x: number;\n",
    "    y: number;\n",
    "}\n",
    "\n",
    "interface Point3d extends Point {\n",
    "    z: number;\n",
    "}\n",
    "\n",
    "let point3d: Point3d = {x: 1, y: 2, z: 3};"
   ]
  }
 ],
 "metadata": {
  "kernelspec": {
   "display_name": "Javascript (Node.js)",
   "language": "javascript",
   "name": "javascript"
  }
 },
 "nbformat": 4,
 "nbformat_minor": 2
}
