{
 "cells": [
  {
   "cell_type": "markdown",
   "metadata": {},
   "source": [
    "# 数组\n",
    "\n",
    "JavaScript的Array可以包含任意数据类型，并通过索引来访问每个元素。\n",
    "\n",
    "要取得Array的长度，直接访问length属性："
   ]
  },
  {
   "cell_type": "code",
   "execution_count": 1,
   "metadata": {},
   "outputs": [
    {
     "data": {
      "text/plain": [
       "6"
      ]
     },
     "execution_count": 1,
     "metadata": {},
     "output_type": "execute_result"
    }
   ],
   "source": [
    "var arr = [1, 2, 3.14, 'Hello', null, true];\n",
    "arr.length; // 6"
   ]
  },
  {
   "cell_type": "markdown",
   "metadata": {},
   "source": [
    "请注意，直接给Array的length赋一个新的值会导致Array大小的变化："
   ]
  },
  {
   "cell_type": "code",
   "execution_count": 2,
   "metadata": {},
   "outputs": [
    {
     "data": {
      "text/plain": [
       "[ 1, 2 ]"
      ]
     },
     "execution_count": 2,
     "metadata": {},
     "output_type": "execute_result"
    }
   ],
   "source": [
    "var arr = [1, 2, 3];\n",
    "arr.length; // 3\n",
    "arr.length = 6;\n",
    "arr; // arr变为[1, 2, 3, undefined, undefined, undefined]\n",
    "arr.length = 2;\n",
    "arr; // arr变为[1, 2]"
   ]
  },
  {
   "cell_type": "markdown",
   "metadata": {},
   "source": [
    "Array可以通过索引把对应的元素修改为新的值，因此，对Array的索引进行赋值会直接修改这个Array："
   ]
  },
  {
   "cell_type": "code",
   "execution_count": null,
   "metadata": {
    "collapsed": true
   },
   "outputs": [],
   "source": [
    "var arr = ['A', 'B', 'C'];\n",
    "arr[1] = 99;\n",
    "arr; // arr现在变为['A', 99, 'C']"
   ]
  },
  {
   "cell_type": "markdown",
   "metadata": {},
   "source": [
    "请注意，如果通过索引赋值时，索引超过了范围，同样会引起Array大小的变化："
   ]
  },
  {
   "cell_type": "code",
   "execution_count": null,
   "metadata": {
    "collapsed": true
   },
   "outputs": [],
   "source": [
    "var arr = [1, 2, 3];\n",
    "arr[5] = 'x';\n",
    "arr; // arr变为[1, 2, 3, undefined, undefined, 'x']"
   ]
  },
  {
   "cell_type": "markdown",
   "metadata": {},
   "source": [
    "大多数其他编程语言不允许直接改变数组的大小，越界访问索引会报错。然而，JavaScript的Array却不会有任何错误。在编写代码时，不建议直接修改Array的大小，访问索引时要确保索引不会越界。\n",
    "\n",
    "### indexOf\n",
    "\n",
    "与String类似，Array也可以通过indexOf()来搜索一个指定的元素的位置："
   ]
  },
  {
   "cell_type": "code",
   "execution_count": null,
   "metadata": {
    "collapsed": true
   },
   "outputs": [],
   "source": [
    "var arr = [10, 20, '30', 'xyz'];\n",
    "arr.indexOf(10); // 元素10的索引为0\n",
    "arr.indexOf(20); // 元素20的索引为1\n",
    "arr.indexOf(30); // 元素30没有找到，返回-1\n",
    "arr.indexOf('30'); // 元素'30'的索引为2"
   ]
  },
  {
   "cell_type": "markdown",
   "metadata": {},
   "source": [
    "注意了，数字30和字符串'30'是不同的元素。\n",
    "\n",
    "### slice\n",
    "\n",
    "slice()就是对应String的substring()版本，它截取Array的部分元素，然后返回一个新的Array："
   ]
  },
  {
   "cell_type": "code",
   "execution_count": null,
   "metadata": {
    "collapsed": true
   },
   "outputs": [],
   "source": [
    "var arr = ['A', 'B', 'C', 'D', 'E', 'F', 'G'];\n",
    "arr.slice(0, 3); // 从索引0开始，到索引3结束，但不包括索引3: ['A', 'B', 'C']\n",
    "arr.slice(3); // 从索引3开始到结束: ['D', 'E', 'F', 'G']"
   ]
  },
  {
   "cell_type": "markdown",
   "metadata": {},
   "source": [
    "注意到slice()的起止参数包括开始索引，不包括结束索引。\n",
    "\n",
    "如果不给slice()传递任何参数，它就会从头到尾截取所有元素。利用这一点，我们可以很容易地复制一个Array："
   ]
  },
  {
   "cell_type": "code",
   "execution_count": null,
   "metadata": {
    "collapsed": true
   },
   "outputs": [],
   "source": [
    "var arr = ['A', 'B', 'C', 'D', 'E', 'F', 'G'];\n",
    "var aCopy = arr.slice();\n",
    "aCopy; // ['A', 'B', 'C', 'D', 'E', 'F', 'G']\n",
    "aCopy === arr; // false"
   ]
  },
  {
   "cell_type": "markdown",
   "metadata": {},
   "source": [
    "### push和pop\n",
    "\n",
    "push()向Array的末尾添加若干元素，pop()则把Array的最后一个元素删除掉："
   ]
  },
  {
   "cell_type": "code",
   "execution_count": null,
   "metadata": {
    "collapsed": true
   },
   "outputs": [],
   "source": [
    "var arr = [1, 2];\n",
    "arr.push('A', 'B'); // 返回Array新的长度: 4\n",
    "arr; // [1, 2, 'A', 'B']\n",
    "arr.pop(); // pop()返回'B'\n",
    "arr; // [1, 2, 'A']\n",
    "arr.pop(); arr.pop(); arr.pop(); // 连续pop 3次\n",
    "arr; // []\n",
    "arr.pop(); // 空数组继续pop不会报错，而是返回undefined\n",
    "arr; // []"
   ]
  },
  {
   "cell_type": "markdown",
   "metadata": {},
   "source": [
    "### unshift和shift\n",
    "\n",
    "如果要往Array的头部添加若干元素，使用unshift()方法，shift()方法则把Array的第一个元素删掉："
   ]
  },
  {
   "cell_type": "code",
   "execution_count": null,
   "metadata": {
    "collapsed": true
   },
   "outputs": [],
   "source": [
    "var arr = [1, 2];\n",
    "arr.unshift('A', 'B'); // 返回Array新的长度: 4\n",
    "arr; // ['A', 'B', 1, 2]\n",
    "arr.shift(); // 'A'\n",
    "arr; // ['B', 1, 2]\n",
    "arr.shift(); arr.shift(); arr.shift(); // 连续shift 3次\n",
    "arr; // []\n",
    "arr.shift(); // 空数组继续shift不会报错，而是返回undefined\n",
    "arr; // []"
   ]
  },
  {
   "cell_type": "markdown",
   "metadata": {},
   "source": [
    "### sort\n",
    "\n",
    "sort()可以对当前Array进行排序，它会直接修改当前Array的元素位置，直接调用时，按照默认顺序排序："
   ]
  },
  {
   "cell_type": "code",
   "execution_count": null,
   "metadata": {
    "collapsed": true
   },
   "outputs": [],
   "source": [
    "var arr = ['B', 'C', 'A'];\n",
    "arr.sort();\n",
    "arr; // ['A', 'B', 'C']"
   ]
  },
  {
   "cell_type": "markdown",
   "metadata": {},
   "source": [
    "能否按照我们自己指定的顺序排序呢？完全可以，我们将在后面的函数中讲到。\n",
    "\n",
    "### reverse\n",
    "\n",
    "reverse()把整个Array的元素给掉个个，也就是反转："
   ]
  },
  {
   "cell_type": "code",
   "execution_count": null,
   "metadata": {
    "collapsed": true
   },
   "outputs": [],
   "source": [
    "var arr = ['one', 'two', 'three'];\n",
    "arr.reverse(); \n",
    "arr; // ['three', 'two', 'one']"
   ]
  },
  {
   "cell_type": "markdown",
   "metadata": {},
   "source": [
    "### splice\n",
    "\n",
    "splice()方法是修改Array的“万能方法”，它可以从指定的索引开始删除若干元素，然后再从该位置添加若干元素："
   ]
  },
  {
   "cell_type": "code",
   "execution_count": null,
   "metadata": {
    "collapsed": true
   },
   "outputs": [],
   "source": [
    "var arr = ['Microsoft', 'Apple', 'Yahoo', 'AOL', 'Excite', 'Oracle'];\n",
    "// 从索引2开始删除3个元素,然后再添加两个元素:\n",
    "arr.splice(2, 3, 'Google', 'Facebook'); // 返回删除的元素 ['Yahoo', 'AOL', 'Excite']\n",
    "arr; // ['Microsoft', 'Apple', 'Google', 'Facebook', 'Oracle']\n",
    "// 只删除,不添加:\n",
    "arr.splice(2, 2); // ['Google', 'Facebook']\n",
    "arr; // ['Microsoft', 'Apple', 'Oracle']\n",
    "// 只添加,不删除:\n",
    "arr.splice(2, 0, 'Google', 'Facebook'); // 返回[],因为没有删除任何元素\n",
    "arr; // ['Microsoft', 'Apple', 'Google', 'Facebook', 'Oracle']"
   ]
  },
  {
   "cell_type": "markdown",
   "metadata": {},
   "source": [
    "### concat\n",
    "\n",
    "concat()方法把当前的Array和另一个Array连接起来，并返回一个新的Array："
   ]
  },
  {
   "cell_type": "code",
   "execution_count": null,
   "metadata": {
    "collapsed": true
   },
   "outputs": [],
   "source": [
    "var arr = ['A', 'B', 'C'];\n",
    "var added = arr.concat([1, 2, 3]);\n",
    "added; // ['A', 'B', 'C', 1, 2, 3]\n",
    "arr; // ['A', 'B', 'C']"
   ]
  },
  {
   "cell_type": "markdown",
   "metadata": {},
   "source": [
    "请注意，concat()方法并没有修改当前Array，而是返回了一个新的Array。\n",
    "\n",
    "实际上，concat()方法可以接收任意个元素和Array，并且自动把Array拆开，然后全部添加到新的Array里："
   ]
  },
  {
   "cell_type": "code",
   "execution_count": null,
   "metadata": {
    "collapsed": true
   },
   "outputs": [],
   "source": [
    "var arr = ['A', 'B', 'C'];\n",
    "arr.concat(1, 2, [3, 4]); // ['A', 'B', 'C', 1, 2, 3, 4]"
   ]
  },
  {
   "cell_type": "markdown",
   "metadata": {},
   "source": [
    "### join\n",
    "\n",
    "join()方法是一个非常实用的方法，它把当前Array的每个元素都用指定的字符串连接起来，然后返回连接后的字符串："
   ]
  },
  {
   "cell_type": "code",
   "execution_count": null,
   "metadata": {
    "collapsed": true
   },
   "outputs": [],
   "source": [
    "var arr = ['A', 'B', 'C', 1, 2, 3];\n",
    "arr.join('-'); // 'A-B-C-1-2-3'"
   ]
  },
  {
   "cell_type": "markdown",
   "metadata": {},
   "source": [
    "如果Array的元素不是字符串，将自动转换为字符串后再连接。\n",
    "\n",
    "## 多维数组\n",
    "\n",
    "如果数组的某个元素又是一个Array，则可以形成多维数组，例如："
   ]
  },
  {
   "cell_type": "code",
   "execution_count": null,
   "metadata": {
    "collapsed": true
   },
   "outputs": [],
   "source": [
    "var arr = [[1, 2, 3], [400, 500, 600], '-'];"
   ]
  },
  {
   "cell_type": "markdown",
   "metadata": {},
   "source": [
    "上述Array包含3个元素，其中头两个元素本身也是Array。\n",
    "\n",
    "练习：如何通过索引取到500这个值："
   ]
  },
  {
   "cell_type": "code",
   "execution_count": null,
   "metadata": {
    "collapsed": true
   },
   "outputs": [],
   "source": []
  }
 ],
 "metadata": {
  "kernelspec": {
   "display_name": "Javascript (Node.js)",
   "language": "javascript",
   "name": "javascript"
  },
  "language_info": {
   "file_extension": ".js",
   "mimetype": "application/javascript",
   "name": "javascript",
   "version": "6.11.1"
  }
 },
 "nbformat": 4,
 "nbformat_minor": 2
}
