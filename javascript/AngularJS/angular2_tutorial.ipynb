{
 "cells": [
  {
   "cell_type": "markdown",
   "metadata": {},
   "source": [
    "# AngularJS2 Tutorial\n",
    "\n",
    "![AngularJS2](images/angular2.png)\n",
    "\n",
    "AngularJS2 是一款开源JavaScript库，由Google维护，用来协助单一页面应用程序运行。\n",
    "AngularJS2 是 Angular 1.x 的升级版本，性能上得到显著的提高，能很好的支持 Web 开发组件。\n",
    "AngularJS2 发布于2016年9月份，它是基于ES6来开发的。\n",
    "\n"
   ]
  }
 ],
 "metadata": {
  "kernelspec": {
   "display_name": "Javascript (Node.js)",
   "language": "javascript",
   "name": "javascript"
  }
 },
 "nbformat": 4,
 "nbformat_minor": 2
}
