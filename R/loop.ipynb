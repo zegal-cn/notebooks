{
 "cells": [
  {
   "cell_type": "markdown",
   "metadata": {},
   "source": [
    "# 循环\n",
    "\n",
    "可能有一种情况，当你需要执行一段代码几次。 通常，顺序执行语句。 首先执行函数中的第一个语句，然后执行第二个语句，依此类推。\n",
    "\n",
    "编程语言提供允许更复杂的执行路径的各种控制结构。\n",
    "\n",
    "循环语句允许我们多次执行一个语句或一组语句，以下是大多数编程语言中循环语句的一般形式：\n",
    "\n",
    "![caption](images/loop_architecture.jpg)\n",
    "\n",
    "R编程语言提供以下种类的循环来处理循环需求。\n",
    "\n",
    "语法  | 描述\n",
    "-------|------------------\n",
    "repeat | 多次执行一系列语句，并简化管理循环变量的代码\n",
    "while  | 在给定条件为真时，重复语句或语句组。 它在执行循环体之前测试条件\n",
    "for   | 像while语句，不同之处在于它测试在循环体的端部的条件\n",
    "\n",
    "循环控制语句从其正常序列改变执行。 当执行离开作用域时，在该作用域中创建的所有自动对象都将被销毁。\n",
    "\n",
    "R语言支持以下控制语句。 单击以下链接以检查其详细信息。\n",
    "\n",
    "语法  | 描述\n",
    "-------|------------------\n",
    "break  | 终止循环语句，并将执行转移到循环后立即执行的语句\n",
    "next  | next语句模拟R语言switch语句的行为\n",
    "\n",
    "## repeat\n",
    "\n",
    "Repeat循环重复执行相同的代码，直到满足停止条件。\n",
    "\n",
    "### 语法\n",
    "\n",
    "在R中创建Repeat循环的基本语法是\n",
    "\n",
    "```\n",
    "repeat { \n",
    "   commands \n",
    "   if(condition) {\n",
    "      break\n",
    "   }\n",
    "}\n",
    "```\n",
    "\n",
    "### 流程图\n",
    "\n",
    "![caption](images/loop_repeat.jpg)\n",
    "\n",
    "\n",
    "### 示例"
   ]
  },
  {
   "cell_type": "code",
   "execution_count": 2,
   "metadata": {
    "collapsed": false
   },
   "outputs": [
    {
     "name": "stdout",
     "output_type": "stream",
     "text": [
      "[1] \"Hello\" \"loop\" \n",
      "[1] \"Hello\" \"loop\" \n",
      "[1] \"Hello\" \"loop\" \n",
      "[1] \"Hello\" \"loop\" \n"
     ]
    }
   ],
   "source": [
    "v <- c(\"Hello\", \"loop\")\n",
    "cnt <- 2\n",
    "\n",
    "repeat {\n",
    "   print(v)\n",
    "   cnt <- cnt + 1\n",
    "   \n",
    "   if(cnt > 5) {\n",
    "      break\n",
    "   }\n",
    "}"
   ]
  },
  {
   "cell_type": "markdown",
   "metadata": {},
   "source": [
    "## While\n",
    "\n",
    "While循环一次又一次地执行相同的代码，直到满足停止条件。\n",
    "\n",
    "### 语法\n",
    "\n",
    "在R中创建while循环的基本语法是\n",
    "\n",
    "```\n",
    "while (test_expression) {\n",
    "   statement\n",
    "}\n",
    "```\n",
    "\n",
    "### 流程图\n",
    "\n",
    "![caption](images/loop_while.jpg)\n",
    "\n",
    "while循环的关键点是循环可能永远不会运行。 当条件被测试并且结果为false时，循环体将被跳过，while循环之后的第一条语句将被执行。\n",
    "\n",
    "### 示例"
   ]
  },
  {
   "cell_type": "code",
   "execution_count": null,
   "metadata": {
    "collapsed": true
   },
   "outputs": [],
   "source": [
    "v <- c(\"Hello\", \"while loop\")\n",
    "cnt <- 2\n",
    "\n",
    "while (cnt < 7) {\n",
    "   print(v)\n",
    "   cnt = cnt + 1\n",
    "}"
   ]
  },
  {
   "cell_type": "markdown",
   "metadata": {},
   "source": [
    "## For\n",
    "\n",
    "For循环是一种重复控制结构，允许您有效地编写需要执行特定次数的循环。\n",
    "\n",
    "### 语法\n",
    "\n",
    "在R中创建一个for循环语句的基本语法是\n",
    "\n",
    "```\n",
    "while (test_expression) {\n",
    "   statement\n",
    "}\n",
    "```\n",
    "\n",
    "### 流程图\n",
    "\n",
    "![caption](images/loop_for.jpg)\n",
    "\n",
    "R的for循环是特别灵活的，因为它们不限于整数，或者输入中的偶数。 我们可以传递字符向量，逻辑向量，列表或表达式。\n",
    "\n",
    "### 示例"
   ]
  },
  {
   "cell_type": "code",
   "execution_count": 3,
   "metadata": {
    "collapsed": false
   },
   "outputs": [
    {
     "name": "stdout",
     "output_type": "stream",
     "text": [
      "[1] \"A\"\n",
      "[1] \"B\"\n",
      "[1] \"C\"\n",
      "[1] \"D\"\n"
     ]
    }
   ],
   "source": [
    "v <- LETTERS[1:4]\n",
    "for ( i in v) {\n",
    "   print(i)\n",
    "}"
   ]
  }
 ],
 "metadata": {
  "kernelspec": {
   "display_name": "R",
   "language": "R",
   "name": "ir"
  },
  "language_info": {
   "codemirror_mode": "r",
   "file_extension": ".r",
   "mimetype": "text/x-r-source",
   "name": "R",
   "pygments_lexer": "r",
   "version": "3.3.2"
  }
 },
 "nbformat": 4,
 "nbformat_minor": 2
}
